{
 "cells": [
  {
   "cell_type": "markdown",
   "metadata": {},
   "source": [
    "# Top"
   ]
  },
  {
   "cell_type": "code",
   "execution_count": 31,
   "metadata": {
    "ExecuteTime": {
     "end_time": "2019-07-29T18:24:22.332806Z",
     "start_time": "2019-07-29T18:24:22.324723Z"
    },
    "tags": [
     "#i"
    ]
   },
   "outputs": [],
   "source": [
    "import urllib\n",
    "import pyodbc\n",
    "import itertools\n",
    "import lifelines\n",
    "import pandas as pd\n",
    "import numpy as np\n",
    "import seaborn as sns\n",
    "import sqlalchemy as sqla\n",
    "import matplotlib as mpl\n",
    "import statsmodels.api as sm\n",
    "\n",
    "from matplotlib import pyplot as plt\n",
    "from tqdm import tqdm_notebook\n",
    "from importlib import reload\n",
    "from scipy import stats\n",
    "from statsmodels.stats.contingency_tables import Table2x2 as ctable"
   ]
  },
  {
   "cell_type": "code",
   "execution_count": 6,
   "metadata": {
    "ExecuteTime": {
     "end_time": "2019-07-29T16:01:44.705504Z",
     "start_time": "2019-07-29T16:01:44.449033Z"
    },
    "tags": [
     "=>i",
     "#setup"
    ]
   },
   "outputs": [],
   "source": [
    "with open('dbmi-aetna-cxn-str') as f:\n",
    "    cxn_params = f.read().strip()\n",
    "    gmw_cxn_str = urllib.parse.quote_plus(cxn_params + 'Database=gmw3')\n",
    "    aetna_raw_cxn_str = urllib.parse.quote_plus(cxn_params + 'Database=AetnaDataWarehouse')\n",
    "    hy_cxn_str = urllib.parse.quote_plus(cxn_params + 'Database=hy180')\n",
    "    \n",
    "engine = sqla.create_engine(\"mssql+pyodbc:///?odbc_connect=%s\" % gmw_cxn_str, connect_args = {'autocommit':True})\n",
    "cxn = engine.connect()\n",
    "ins = sqla.inspect(engine)\n",
    "\n",
    "hy_engine = sqla.create_engine(\"mssql+pyodbc:///?odbc_connect=%s\" % hy_cxn_str, connect_args = {'autocommit': True, 'fast_executemany': True})\n",
    "hy_cxn = hy_engine.connect()"
   ]
  },
  {
   "cell_type": "code",
   "execution_count": 4,
   "metadata": {
    "ExecuteTime": {
     "end_time": "2019-07-26T21:16:02.011287Z",
     "start_time": "2019-07-26T21:16:01.973719Z"
    }
   },
   "outputs": [
    {
     "name": "stdout",
     "output_type": "stream",
     "text": [
      "['ConceptDiagnosis', 'ConceptDiagnosisDRG', 'ConceptDiagnosisMDC', 'ConceptEnrollment', 'ConceptLab', 'ConceptMedication', 'ConceptProcedure', 'ConceptProcedureICD', 'ConceptProcedureNoModifier', 'ConceptZipCode', 'DistinctDiagnosis', 'DistinctDiagnosisDRG', 'DistinctDiagnosisMDC', 'DistinctEnrollment', 'DistinctLab', 'DistinctMedication', 'DistinctPCP', 'DistinctProcedure', 'DistinctProcedureICD', 'DistinctProcedureNoModifier', 'Member', 'MemberDemographics', 'MemberDiagnosis', 'MemberDiagnosisDRG', 'MemberDiagnosisMDC', 'MemberEnrollment', 'MemberLab', 'MemberMedication', 'MemberProcedure', 'MemberProcedureICD', 'MemberVisit', 'MemberZipCode', 'ObservationDiagnosis', 'ObservationLab', 'ObservationMedication', 'ObservationProcedure', 'ObservationProcedureICD', 'Summary', 'VisitIcdVersion', 'VisitMedicalClaim']\n"
     ]
    }
   ],
   "source": [
    "print(ins.get_table_names())"
   ]
  },
  {
   "cell_type": "code",
   "execution_count": 5,
   "metadata": {
    "scrolled": false
   },
   "outputs": [
    {
     "name": "stdout",
     "output_type": "stream",
     "text": [
      "['NationalDrugCode', 'NdcDescription', 'NumberOfPatients', 'NumberOfClaims', 'NumberOfMaintenancePatients', 'NumberOfMaintenanceClaims', 'FirstDispenseDate', 'LastDispenseDate', 'FirstPaidDate', 'LastPaidDate', 'TotalQuantity', 'TotalDaysSupply', 'MaxTotalQuantity', 'MaxTotalDaysSupply', 'MaxQuantity', 'MaxDaysSupply', 'TotalDeductibleAmount', 'TotalMemberOutOfPocketAmount', 'TotalPaidAmount', 'MaxTotalDeductibleAmount', 'MaxTotalMemberOutOfPocketAmount', 'MaxTotalPaidAmount']\n"
     ]
    },
    {
     "data": {
      "text/html": [
       "<div>\n",
       "<style scoped>\n",
       "    .dataframe tbody tr th:only-of-type {\n",
       "        vertical-align: middle;\n",
       "    }\n",
       "\n",
       "    .dataframe tbody tr th {\n",
       "        vertical-align: top;\n",
       "    }\n",
       "\n",
       "    .dataframe thead th {\n",
       "        text-align: right;\n",
       "    }\n",
       "</style>\n",
       "<table border=\"1\" class=\"dataframe\">\n",
       "  <thead>\n",
       "    <tr style=\"text-align: right;\">\n",
       "      <th></th>\n",
       "      <th>NationalDrugCode</th>\n",
       "      <th>NdcDescription</th>\n",
       "      <th>NumberOfPatients</th>\n",
       "      <th>NumberOfClaims</th>\n",
       "      <th>NumberOfMaintenancePatients</th>\n",
       "      <th>NumberOfMaintenanceClaims</th>\n",
       "      <th>FirstDispenseDate</th>\n",
       "      <th>LastDispenseDate</th>\n",
       "      <th>FirstPaidDate</th>\n",
       "      <th>LastPaidDate</th>\n",
       "      <th>...</th>\n",
       "      <th>MaxTotalQuantity</th>\n",
       "      <th>MaxTotalDaysSupply</th>\n",
       "      <th>MaxQuantity</th>\n",
       "      <th>MaxDaysSupply</th>\n",
       "      <th>TotalDeductibleAmount</th>\n",
       "      <th>TotalMemberOutOfPocketAmount</th>\n",
       "      <th>TotalPaidAmount</th>\n",
       "      <th>MaxTotalDeductibleAmount</th>\n",
       "      <th>MaxTotalMemberOutOfPocketAmount</th>\n",
       "      <th>MaxTotalPaidAmount</th>\n",
       "    </tr>\n",
       "  </thead>\n",
       "  <tbody>\n",
       "    <tr>\n",
       "      <th>0</th>\n",
       "      <td>781341315</td>\n",
       "      <td>AMPICILLIN   INJ 2GM</td>\n",
       "      <td>1</td>\n",
       "      <td>5</td>\n",
       "      <td>0</td>\n",
       "      <td>0</td>\n",
       "      <td>2011-03-01</td>\n",
       "      <td>2011-04-08</td>\n",
       "      <td>2011-03-25</td>\n",
       "      <td>2011-04-13</td>\n",
       "      <td>...</td>\n",
       "      <td>112.0</td>\n",
       "      <td>29</td>\n",
       "      <td>32.0</td>\n",
       "      <td>8</td>\n",
       "      <td>0.00</td>\n",
       "      <td>1.10</td>\n",
       "      <td>2747.88</td>\n",
       "      <td>0.00</td>\n",
       "      <td>1.10</td>\n",
       "      <td>2747.88</td>\n",
       "    </tr>\n",
       "    <tr>\n",
       "      <th>1</th>\n",
       "      <td>40986003109</td>\n",
       "      <td>NICOTINE POL GUM 2MG MINT</td>\n",
       "      <td>2</td>\n",
       "      <td>2</td>\n",
       "      <td>0</td>\n",
       "      <td>0</td>\n",
       "      <td>2016-05-24</td>\n",
       "      <td>2016-12-10</td>\n",
       "      <td>2016-05-24</td>\n",
       "      <td>2016-12-10</td>\n",
       "      <td>...</td>\n",
       "      <td>40.0</td>\n",
       "      <td>4</td>\n",
       "      <td>40.0</td>\n",
       "      <td>4</td>\n",
       "      <td>0.00</td>\n",
       "      <td>0.00</td>\n",
       "      <td>14.33</td>\n",
       "      <td>0.00</td>\n",
       "      <td>0.00</td>\n",
       "      <td>9.30</td>\n",
       "    </tr>\n",
       "    <tr>\n",
       "      <th>2</th>\n",
       "      <td>47781026305</td>\n",
       "      <td>OXYCODONE    TAB 5MG</td>\n",
       "      <td>1570</td>\n",
       "      <td>5013</td>\n",
       "      <td>0</td>\n",
       "      <td>0</td>\n",
       "      <td>2014-04-25</td>\n",
       "      <td>2017-06-30</td>\n",
       "      <td>2014-04-25</td>\n",
       "      <td>2017-06-30</td>\n",
       "      <td>...</td>\n",
       "      <td>9690.0</td>\n",
       "      <td>930</td>\n",
       "      <td>540.0</td>\n",
       "      <td>90</td>\n",
       "      <td>3869.84</td>\n",
       "      <td>17249.18</td>\n",
       "      <td>77168.29</td>\n",
       "      <td>513.72</td>\n",
       "      <td>603.97</td>\n",
       "      <td>2551.69</td>\n",
       "    </tr>\n",
       "    <tr>\n",
       "      <th>3</th>\n",
       "      <td>10019002232</td>\n",
       "      <td>KETOROLAC    INJ 60MG/2ML</td>\n",
       "      <td>29</td>\n",
       "      <td>32</td>\n",
       "      <td>0</td>\n",
       "      <td>0</td>\n",
       "      <td>2008-03-13</td>\n",
       "      <td>2012-08-30</td>\n",
       "      <td>2008-03-13</td>\n",
       "      <td>2012-08-30</td>\n",
       "      <td>...</td>\n",
       "      <td>20.0</td>\n",
       "      <td>30</td>\n",
       "      <td>20.0</td>\n",
       "      <td>30</td>\n",
       "      <td>9.00</td>\n",
       "      <td>147.88</td>\n",
       "      <td>191.38</td>\n",
       "      <td>9.00</td>\n",
       "      <td>10.00</td>\n",
       "      <td>29.80</td>\n",
       "    </tr>\n",
       "    <tr>\n",
       "      <th>4</th>\n",
       "      <td>781197101</td>\n",
       "      <td>DESIPRAMINE  TAB 10MG</td>\n",
       "      <td>2078</td>\n",
       "      <td>9718</td>\n",
       "      <td>2078</td>\n",
       "      <td>9718</td>\n",
       "      <td>2008-01-02</td>\n",
       "      <td>2017-05-26</td>\n",
       "      <td>2008-01-02</td>\n",
       "      <td>2017-06-16</td>\n",
       "      <td>...</td>\n",
       "      <td>28350.0</td>\n",
       "      <td>4220</td>\n",
       "      <td>720.0</td>\n",
       "      <td>90</td>\n",
       "      <td>15042.91</td>\n",
       "      <td>102093.98</td>\n",
       "      <td>286972.54</td>\n",
       "      <td>627.47</td>\n",
       "      <td>1535.00</td>\n",
       "      <td>22936.43</td>\n",
       "    </tr>\n",
       "    <tr>\n",
       "      <th>5</th>\n",
       "      <td>89117000001</td>\n",
       "      <td>NASONEB NSL  MIS REPLACEM</td>\n",
       "      <td>1</td>\n",
       "      <td>1</td>\n",
       "      <td>0</td>\n",
       "      <td>0</td>\n",
       "      <td>2014-02-21</td>\n",
       "      <td>2014-02-21</td>\n",
       "      <td>2014-02-21</td>\n",
       "      <td>2014-02-21</td>\n",
       "      <td>...</td>\n",
       "      <td>1.0</td>\n",
       "      <td>1</td>\n",
       "      <td>1.0</td>\n",
       "      <td>1</td>\n",
       "      <td>0.00</td>\n",
       "      <td>153.28</td>\n",
       "      <td>0.00</td>\n",
       "      <td>0.00</td>\n",
       "      <td>153.28</td>\n",
       "      <td>0.00</td>\n",
       "    </tr>\n",
       "    <tr>\n",
       "      <th>6</th>\n",
       "      <td>332415530</td>\n",
       "      <td>AMOXICILLIN  SUS 250/5ML</td>\n",
       "      <td>2</td>\n",
       "      <td>2</td>\n",
       "      <td>0</td>\n",
       "      <td>0</td>\n",
       "      <td>2008-02-27</td>\n",
       "      <td>2011-01-06</td>\n",
       "      <td>2008-02-27</td>\n",
       "      <td>2012-03-12</td>\n",
       "      <td>...</td>\n",
       "      <td>150.0</td>\n",
       "      <td>10</td>\n",
       "      <td>150.0</td>\n",
       "      <td>10</td>\n",
       "      <td>0.00</td>\n",
       "      <td>11.40</td>\n",
       "      <td>10.00</td>\n",
       "      <td>0.00</td>\n",
       "      <td>11.40</td>\n",
       "      <td>10.00</td>\n",
       "    </tr>\n",
       "    <tr>\n",
       "      <th>7</th>\n",
       "      <td>49452439502</td>\n",
       "      <td>MEBENDAZOLE  POW</td>\n",
       "      <td>3</td>\n",
       "      <td>19</td>\n",
       "      <td>0</td>\n",
       "      <td>0</td>\n",
       "      <td>2013-07-21</td>\n",
       "      <td>2013-11-10</td>\n",
       "      <td>2013-11-10</td>\n",
       "      <td>2015-11-16</td>\n",
       "      <td>...</td>\n",
       "      <td>9.0</td>\n",
       "      <td>9</td>\n",
       "      <td>3.0</td>\n",
       "      <td>1</td>\n",
       "      <td>0.00</td>\n",
       "      <td>180.56</td>\n",
       "      <td>0.00</td>\n",
       "      <td>0.00</td>\n",
       "      <td>153.00</td>\n",
       "      <td>0.00</td>\n",
       "    </tr>\n",
       "    <tr>\n",
       "      <th>8</th>\n",
       "      <td>68645032054</td>\n",
       "      <td>OMEPRAZOLE   CAP 20MG</td>\n",
       "      <td>5329</td>\n",
       "      <td>59384</td>\n",
       "      <td>5329</td>\n",
       "      <td>59384</td>\n",
       "      <td>2012-04-17</td>\n",
       "      <td>2017-04-05</td>\n",
       "      <td>2012-04-17</td>\n",
       "      <td>2017-04-22</td>\n",
       "      <td>...</td>\n",
       "      <td>7800.0</td>\n",
       "      <td>3960</td>\n",
       "      <td>720.0</td>\n",
       "      <td>365</td>\n",
       "      <td>53827.40</td>\n",
       "      <td>357705.79</td>\n",
       "      <td>620360.81</td>\n",
       "      <td>1522.80</td>\n",
       "      <td>1522.80</td>\n",
       "      <td>4607.26</td>\n",
       "    </tr>\n",
       "    <tr>\n",
       "      <th>9</th>\n",
       "      <td>68330000210</td>\n",
       "      <td>CEFTRIAXONE  INJ 500MG</td>\n",
       "      <td>20</td>\n",
       "      <td>23</td>\n",
       "      <td>0</td>\n",
       "      <td>0</td>\n",
       "      <td>2008-10-17</td>\n",
       "      <td>2010-12-17</td>\n",
       "      <td>2008-12-07</td>\n",
       "      <td>2011-06-11</td>\n",
       "      <td>...</td>\n",
       "      <td>8.0</td>\n",
       "      <td>7</td>\n",
       "      <td>7.0</td>\n",
       "      <td>7</td>\n",
       "      <td>40.89</td>\n",
       "      <td>89.32</td>\n",
       "      <td>1012.24</td>\n",
       "      <td>40.89</td>\n",
       "      <td>40.89</td>\n",
       "      <td>193.43</td>\n",
       "    </tr>\n",
       "  </tbody>\n",
       "</table>\n",
       "<p>10 rows × 22 columns</p>\n",
       "</div>"
      ],
      "text/plain": [
       "   NationalDrugCode             NdcDescription  NumberOfPatients  \\\n",
       "0         781341315       AMPICILLIN   INJ 2GM                 1   \n",
       "1       40986003109  NICOTINE POL GUM 2MG MINT                 2   \n",
       "2       47781026305       OXYCODONE    TAB 5MG              1570   \n",
       "3       10019002232  KETOROLAC    INJ 60MG/2ML                29   \n",
       "4         781197101      DESIPRAMINE  TAB 10MG              2078   \n",
       "5       89117000001  NASONEB NSL  MIS REPLACEM                 1   \n",
       "6         332415530   AMOXICILLIN  SUS 250/5ML                 2   \n",
       "7       49452439502           MEBENDAZOLE  POW                 3   \n",
       "8       68645032054      OMEPRAZOLE   CAP 20MG              5329   \n",
       "9       68330000210     CEFTRIAXONE  INJ 500MG                20   \n",
       "\n",
       "   NumberOfClaims  NumberOfMaintenancePatients  NumberOfMaintenanceClaims  \\\n",
       "0               5                            0                          0   \n",
       "1               2                            0                          0   \n",
       "2            5013                            0                          0   \n",
       "3              32                            0                          0   \n",
       "4            9718                         2078                       9718   \n",
       "5               1                            0                          0   \n",
       "6               2                            0                          0   \n",
       "7              19                            0                          0   \n",
       "8           59384                         5329                      59384   \n",
       "9              23                            0                          0   \n",
       "\n",
       "  FirstDispenseDate LastDispenseDate FirstPaidDate LastPaidDate  ...  \\\n",
       "0        2011-03-01       2011-04-08    2011-03-25   2011-04-13  ...   \n",
       "1        2016-05-24       2016-12-10    2016-05-24   2016-12-10  ...   \n",
       "2        2014-04-25       2017-06-30    2014-04-25   2017-06-30  ...   \n",
       "3        2008-03-13       2012-08-30    2008-03-13   2012-08-30  ...   \n",
       "4        2008-01-02       2017-05-26    2008-01-02   2017-06-16  ...   \n",
       "5        2014-02-21       2014-02-21    2014-02-21   2014-02-21  ...   \n",
       "6        2008-02-27       2011-01-06    2008-02-27   2012-03-12  ...   \n",
       "7        2013-07-21       2013-11-10    2013-11-10   2015-11-16  ...   \n",
       "8        2012-04-17       2017-04-05    2012-04-17   2017-04-22  ...   \n",
       "9        2008-10-17       2010-12-17    2008-12-07   2011-06-11  ...   \n",
       "\n",
       "   MaxTotalQuantity  MaxTotalDaysSupply  MaxQuantity  MaxDaysSupply  \\\n",
       "0             112.0                  29         32.0              8   \n",
       "1              40.0                   4         40.0              4   \n",
       "2            9690.0                 930        540.0             90   \n",
       "3              20.0                  30         20.0             30   \n",
       "4           28350.0                4220        720.0             90   \n",
       "5               1.0                   1          1.0              1   \n",
       "6             150.0                  10        150.0             10   \n",
       "7               9.0                   9          3.0              1   \n",
       "8            7800.0                3960        720.0            365   \n",
       "9               8.0                   7          7.0              7   \n",
       "\n",
       "   TotalDeductibleAmount  TotalMemberOutOfPocketAmount  TotalPaidAmount  \\\n",
       "0                   0.00                          1.10          2747.88   \n",
       "1                   0.00                          0.00            14.33   \n",
       "2                3869.84                      17249.18         77168.29   \n",
       "3                   9.00                        147.88           191.38   \n",
       "4               15042.91                     102093.98        286972.54   \n",
       "5                   0.00                        153.28             0.00   \n",
       "6                   0.00                         11.40            10.00   \n",
       "7                   0.00                        180.56             0.00   \n",
       "8               53827.40                     357705.79        620360.81   \n",
       "9                  40.89                         89.32          1012.24   \n",
       "\n",
       "   MaxTotalDeductibleAmount  MaxTotalMemberOutOfPocketAmount  \\\n",
       "0                      0.00                             1.10   \n",
       "1                      0.00                             0.00   \n",
       "2                    513.72                           603.97   \n",
       "3                      9.00                            10.00   \n",
       "4                    627.47                          1535.00   \n",
       "5                      0.00                           153.28   \n",
       "6                      0.00                            11.40   \n",
       "7                      0.00                           153.00   \n",
       "8                   1522.80                          1522.80   \n",
       "9                     40.89                            40.89   \n",
       "\n",
       "   MaxTotalPaidAmount  \n",
       "0             2747.88  \n",
       "1                9.30  \n",
       "2             2551.69  \n",
       "3               29.80  \n",
       "4            22936.43  \n",
       "5                0.00  \n",
       "6               10.00  \n",
       "7                0.00  \n",
       "8             4607.26  \n",
       "9              193.43  \n",
       "\n",
       "[10 rows x 22 columns]"
      ]
     },
     "execution_count": 5,
     "metadata": {},
     "output_type": "execute_result"
    }
   ],
   "source": [
    "# Print table col names + example row\n",
    "\n",
    "tab = 'ConceptMedication'\n",
    "print([r['name'] for r in ins.get_columns(tab)])\n",
    "pd.read_sql(\"select top 10 * from %s order by newid()\" % tab, cxn)"
   ]
  },
  {
   "cell_type": "markdown",
   "metadata": {},
   "source": [
    "# Population characteristics"
   ]
  },
  {
   "cell_type": "code",
   "execution_count": 6,
   "metadata": {
    "tags": [
     "=>setup"
    ]
   },
   "outputs": [
    {
     "data": {
      "text/plain": [
       "<BarContainer object of 122 artists>"
      ]
     },
     "execution_count": 6,
     "metadata": {},
     "output_type": "execute_result"
    },
    {
     "data": {
      "image/png": "[encoded data removed]",
      "text/plain": [
       "<Figure size 720x432 with 1 Axes>"
      ]
     },
     "metadata": {
      "needs_background": "light"
     },
     "output_type": "display_data"
    }
   ],
   "source": [
    "# patients by birth year\n",
    "query = 'select BirthYearMinus1900+1900 as byear,count(MemberNum) as membersFromBY from Member with (nolock) group by BirthYearMinus1900'\n",
    "patients_by_birthyear = pd.read_sql(query, con=cxn, index_col='byear')\n",
    "patients_by_birthyear.dropna(axis=0, inplace=True)\n",
    "patients_by_birthyear.sort_values(by='byear', ascending=True,inplace=True)\n",
    "patients_by_birthyear['propTotalPatients'] = patients_by_birthyear.membersFromBY / patients_by_birthyear.membersFromBY.sum()\n",
    "\n",
    "plt.figure(figsize=(10, 6))\n",
    "plt.bar(x=patients_by_birthyear.index, height=patients_by_birthyear.propTotalPatients, align='center')"
   ]
  },
  {
   "cell_type": "markdown",
   "metadata": {},
   "source": [
    "## Glucose tests by age"
   ]
  },
  {
   "cell_type": "code",
   "execution_count": 7,
   "metadata": {},
   "outputs": [],
   "source": [
    "# temp table for glucose tests per patient\n",
    "glucose_lab_procs = ('82947', '')\n",
    "tmp_query = (\"select MemberNum, datepart(yyyy, DateServiceStarted) as year, LineLevelProcedureCode as cpt \"\n",
    "             \" into #hytmp from ObservationProcedure with (nolock) \"\n",
    "             \" where LineLevelProcedureCodeType='C' and LineLevelProcedureCode in %s;\" % str(glucose_lab_procs))\n",
    "cxn.execute(tmp_query)\n",
    "\n",
    "# count glucose measurements in each byear bucket per year\n",
    "query = (\"select t.year, count(*) as tests, t1.BirthYearMinus1900 + 1900 as byear\"\n",
    "        \" from (select MemberNum, BirthYearMinus1900 from Member) as t1 \"\n",
    "        \" join #hytmp as t on (t.MemberNum=t1.MemberNum)\"\n",
    "        \" group by year, t1.BirthYearMinus1900;\")\n",
    "glucose_per_year = pd.read_sql(query, cxn, index_col=['byear'])\n",
    "\n",
    "normalized_gpy = glucose_per_year.join(patients_by_birthyear, on='byear')\n",
    "normalized_gpy['testsPerMember'] = normalized_gpy.tests / normalized_gpy.membersFromBY\n",
    "normalized_gpy['age'] = normalized_gpy.year - normalized_gpy.index"
   ]
  },
  {
   "cell_type": "code",
   "execution_count": 8,
   "metadata": {
    "scrolled": false
   },
   "outputs": [
    {
     "data": {
      "text/plain": [
       "<matplotlib.legend.Legend at 0x7fdd63a89f50>"
      ]
     },
     "execution_count": 8,
     "metadata": {},
     "output_type": "execute_result"
    },
    {
     "data": {
      "image/png": "[encoded data removed]",
      "text/plain": [
       "<Figure size 720x432 with 1 Axes>"
      ]
     },
     "metadata": {
      "needs_background": "light"
     },
     "output_type": "display_data"
    }
   ],
   "source": [
    "y_old = 2011\n",
    "y_new = 2016\n",
    "age_thres = 70\n",
    "\n",
    "old_data = normalized_gpy.loc[(normalized_gpy.year == y_old) & (normalized_gpy.age < age_thres)].sort_values(by='byear')\n",
    "new_data = normalized_gpy.loc[(normalized_gpy.year == y_new) & (normalized_gpy.age < age_thres)].sort_values(by='byear')\n",
    "\n",
    "fig = plt.figure(figsize=(10, 6))\n",
    "ax = plt.subplot(111)\n",
    "old_bars = ax.bar(x=old_data.age.values-.5, height=old_data.testsPerMember, align='edge', width=.5, color=mpl.cm.viridis(.2))\n",
    "new_bars = ax.bar(x=new_data.age.values, height=new_data.testsPerMember, align='edge', width=.5, color=mpl.cm.viridis(.8))\n",
    "# ax.bar(x=patients_by_birthyear.index, height=patients_by_birthyear.propTotalPatients, align='center')\n",
    "\n",
    "plt.xlabel('Age')\n",
    "plt.ylabel('glucose tests per member in year')\n",
    "ax.legend(handles=[old_bars, new_bars], labels=[y_old, y_new])"
   ]
  },
  {
   "cell_type": "markdown",
   "metadata": {},
   "source": [
    "# eMerge T2DM algorithm"
   ]
  },
  {
   "cell_type": "code",
   "execution_count": 7,
   "metadata": {
    "ExecuteTime": {
     "end_time": "2019-07-29T18:00:37.547070Z",
     "start_time": "2019-07-29T18:00:34.729323Z"
    },
    "scrolled": true
   },
   "outputs": [
    {
     "data": {
      "text/html": [
       "<div>\n",
       "<style scoped>\n",
       "    .dataframe tbody tr th:only-of-type {\n",
       "        vertical-align: middle;\n",
       "    }\n",
       "\n",
       "    .dataframe tbody tr th {\n",
       "        vertical-align: top;\n",
       "    }\n",
       "\n",
       "    .dataframe thead th {\n",
       "        text-align: right;\n",
       "    }\n",
       "</style>\n",
       "<table border=\"1\" class=\"dataframe\">\n",
       "  <thead>\n",
       "    <tr style=\"text-align: right;\">\n",
       "      <th></th>\n",
       "      <th></th>\n",
       "    </tr>\n",
       "  </thead>\n",
       "  <tbody>\n",
       "    <tr>\n",
       "      <th>0</th>\n",
       "      <td>3872080</td>\n",
       "    </tr>\n",
       "  </tbody>\n",
       "</table>\n",
       "</div>"
      ],
      "text/plain": [
       "          \n",
       "0  3872080"
      ]
     },
     "execution_count": 7,
     "metadata": {},
     "output_type": "execute_result"
    }
   ],
   "source": [
    "glucose_tests_loinc = ('1558-6', '2339-0', '2345-7')\n",
    "a1c_tests_loinc = ('4548-4', '17856-6', '4549-2', '17855-8')\n",
    "\n",
    "glucose_max = 110.\n",
    "a1c_max = 6.\n",
    "\n",
    "abnormal_labs_query = (\"drop table if exists #abnormalLabs;\"\n",
    "                      \" select *\"\n",
    "                      \" into #abnormalLabs\"\n",
    "                      \" from GlucoseLabs\"\n",
    "                      \" where (LoincCode in %s and TestResultValue > %f) or (LoincCode in %s and TestResultValue > %f)\"\n",
    "                       % (glucose_tests_loinc, glucose_max, a1c_tests_loinc, a1c_max))\n",
    "hy_cxn.execute(abnormal_labs_query)\n",
    "pd.read_sql('select count(*) from #abnormalLabs', hy_cxn)"
   ]
  },
  {
   "cell_type": "markdown",
   "metadata": {},
   "source": [
    "## Cases"
   ]
  },
  {
   "cell_type": "code",
   "execution_count": 8,
   "metadata": {
    "ExecuteTime": {
     "end_time": "2019-07-29T18:00:52.519511Z",
     "start_time": "2019-07-29T18:00:40.229262Z"
    }
   },
   "outputs": [
    {
     "name": "stdout",
     "output_type": "stream",
     "text": [
      "35452\n",
      "216735\n",
      "302626\n",
      "8643\n",
      "74506\n"
     ]
    }
   ],
   "source": [
    "# t2d dx + rx for both t1d and t2d + first treated for t2d\n",
    "gr1_query = (\"drop table if exists #t2dCaseGroup1;\"\n",
    "            \" select distinct t1.MemberNum\"\n",
    "            \" into #t2dCaseGroup1\"\n",
    "            \" from (select MemberNum from DxT2dm) as t1\"\n",
    "            \"      inner join (select MemberNum, min(DispenseDate) as firstRxT1dm from RxT1Dm group by MemberNum) as t2\"\n",
    "            \"        on t1.MemberNum=t2.MemberNum\"\n",
    "            \"      inner join (select MemberNum, min(DispenseDate) as firstRxT2dm from RxT2Dm group by MemberNum) as t3\"\n",
    "            \"        on t2.MemberNum=t3.MemberNum\"\n",
    "            \" where firstRxT2dm < firstRxT1dm\"\n",
    "            )\n",
    "hy_cxn.execute(gr1_query)\n",
    "print(hy_cxn.execute('select count(*) from #t2dCaseGroup1').fetchone()[0])\n",
    "\n",
    "# t2d dx + rx for t2d but not t1d\n",
    "gr2_query = (\"drop table if exists #t2dCaseGroup2;\"\n",
    "            \" select distinct t1.MemberNum\"\n",
    "            \" into #t2dCaseGroup2\"\n",
    "            \" from (select distinct MemberNum from DxT2dm) as t1\"\n",
    "            \"      inner join (select distinct MemberNum from RxT2Dm) as t2\"\n",
    "            \"        on t1.MemberNum=t2.MemberNum;\"\n",
    "            \" delete from #t2dCaseGroup2\"\n",
    "            \" where MemberNum in (select MemberNum from RxT1Dm)\"\n",
    "            )\n",
    "hy_cxn.execute(gr2_query)\n",
    "print(hy_cxn.execute('select count(*) from #t2dCaseGroup2').fetchone()[0])\n",
    "\n",
    "# t2d dx + no rx + abnormal labs\n",
    "gr3_query = (\"drop table if exists #t2dCaseGroup3;\"\n",
    "            \" select distinct t1.MemberNum\"\n",
    "            \" into #t2dCaseGroup3\"\n",
    "            \" from (select distinct MemberNum from DxT2dm) as t1\"\n",
    "            \"      inner join (select distinct MemberNum from #abnormalLabs) as t2\"\n",
    "            \"        on t1.MemberNum=t2.MemberNum;\"\n",
    "            \" delete from #t2dCaseGroup3\"\n",
    "            \" where MemberNum in (select MemberNum from RxT1Dm union select MemberNum from RxT2Dm)\"\n",
    "            )\n",
    "hy_cxn.execute(gr3_query)\n",
    "print(hy_cxn.execute('select count(*) from #t2dCaseGroup3').fetchone()[0])\n",
    "\n",
    "# No t2d dx + t2d rx + abnormal lab\n",
    "gr4_query = (\"drop table if exists #t2dCaseGroup4;\"\n",
    "            \" select distinct t1.MemberNum\"\n",
    "            \" into #t2dCaseGroup4\"\n",
    "            \" from (select distinct MemberNum from #abnormalLabs) as t1\"\n",
    "            \"      inner join (select distinct MemberNum from RxT2Dm) as t2\"\n",
    "            \"        on t1.MemberNum=t2.MemberNum;\"\n",
    "            \" delete from #t2dCaseGroup4\"\n",
    "            \" where MemberNum in (select distinct MemberNum from DxT2dm)\"\n",
    "            )\n",
    "hy_cxn.execute(gr4_query)\n",
    "print(hy_cxn.execute('select count(*) from #t2dCaseGroup4').fetchone()[0])\n",
    "\n",
    "# at least 2 separate t2d dx + rx for t1d but not t2d\n",
    "gr5_query = (\"drop table if exists #t2dCaseGroup5;\"\n",
    "            \" select distinct t1.MemberNum\"\n",
    "            \" into #t2dCaseGroup5\"\n",
    "            \" from (select distinct MemberNum, count(*) as totNumClaims from DxT2dm group by MemberNum) as t1\"\n",
    "            \"      inner join (select distinct MemberNum from RxT1Dm) as t2\"\n",
    "            \"        on t1.MemberNum=t2.MemberNum\"\n",
    "            \" where totNumClaims > 1\"\n",
    "            \" delete from #t2dCaseGroup2\"\n",
    "            \" where MemberNum in (select MemberNum from RxT2Dm)\"\n",
    "            )\n",
    "hy_cxn.execute(gr5_query)\n",
    "print(hy_cxn.execute('select count(*) from #t2dCaseGroup5').fetchone()[0])\n"
   ]
  },
  {
   "cell_type": "code",
   "execution_count": 9,
   "metadata": {
    "ExecuteTime": {
     "end_time": "2019-07-29T18:00:54.658260Z",
     "start_time": "2019-07-29T18:00:52.536970Z"
    }
   },
   "outputs": [
    {
     "data": {
      "text/html": [
       "<div>\n",
       "<style scoped>\n",
       "    .dataframe tbody tr th:only-of-type {\n",
       "        vertical-align: middle;\n",
       "    }\n",
       "\n",
       "    .dataframe tbody tr th {\n",
       "        vertical-align: top;\n",
       "    }\n",
       "\n",
       "    .dataframe thead th {\n",
       "        text-align: right;\n",
       "    }\n",
       "</style>\n",
       "<table border=\"1\" class=\"dataframe\">\n",
       "  <thead>\n",
       "    <tr style=\"text-align: right;\">\n",
       "      <th></th>\n",
       "      <th></th>\n",
       "    </tr>\n",
       "  </thead>\n",
       "  <tbody>\n",
       "    <tr>\n",
       "      <th>0</th>\n",
       "      <td>289217</td>\n",
       "    </tr>\n",
       "  </tbody>\n",
       "</table>\n",
       "</div>"
      ],
      "text/plain": [
       "         \n",
       "0  289217"
      ]
     },
     "execution_count": 9,
     "metadata": {},
     "output_type": "execute_result"
    }
   ],
   "source": [
    "case_query = (\"drop table if exists t2dCaseEmerge;\"\n",
    "             \" select distinct MemberNum\"\n",
    "             \" into t2dCaseEmerge\"\n",
    "             \" from (select * from #t2dCaseGroup1 union select * from #t2dCaseGroup2 union select * from #t2dCaseGroup3 union select * from #t2dCaseGroup4 union select * from #t2dCaseGroup5) as t1;\"\n",
    "             \" delete from t2dCaseEmerge\"\n",
    "             \" where MemberNum in (select MemberNum from DxT1dm)\"\n",
    "             )\n",
    "hy_cxn.execute(case_query)\n",
    "\n",
    "pd.read_sql('select count(*) from t2dCaseEmerge', hy_cxn)"
   ]
  },
  {
   "cell_type": "markdown",
   "metadata": {},
   "source": [
    "## Controls"
   ]
  },
  {
   "cell_type": "code",
   "execution_count": 11,
   "metadata": {
    "ExecuteTime": {
     "end_time": "2019-07-29T18:01:03.375108Z",
     "start_time": "2019-07-29T18:01:03.310840Z"
    },
    "scrolled": true
   },
   "outputs": [
    {
     "data": {
      "text/html": [
       "<div>\n",
       "<style scoped>\n",
       "    .dataframe tbody tr th:only-of-type {\n",
       "        vertical-align: middle;\n",
       "    }\n",
       "\n",
       "    .dataframe tbody tr th {\n",
       "        vertical-align: top;\n",
       "    }\n",
       "\n",
       "    .dataframe thead th {\n",
       "        text-align: right;\n",
       "    }\n",
       "</style>\n",
       "<table border=\"1\" class=\"dataframe\">\n",
       "  <thead>\n",
       "    <tr style=\"text-align: right;\">\n",
       "      <th></th>\n",
       "      <th></th>\n",
       "    </tr>\n",
       "  </thead>\n",
       "  <tbody>\n",
       "    <tr>\n",
       "      <th>0</th>\n",
       "      <td>2288032</td>\n",
       "    </tr>\n",
       "  </tbody>\n",
       "</table>\n",
       "</div>"
      ],
      "text/plain": [
       "          \n",
       "0  2288032"
      ]
     },
     "execution_count": 11,
     "metadata": {},
     "output_type": "execute_result"
    }
   ],
   "source": [
    "# Keep patients with multiple visits & any glucose lab value \n",
    "pos_query = (\"drop table if exists t2dControlEmerge;\"\n",
    "            \" select t1.MemberNum\"\n",
    "            \" into t2dControlEmerge\"\n",
    "            \" from (select distinct MemberNum from VisitCount where visits > 1) as t1\"\n",
    "            \" inner join (select distinct MemberNum from GlucoseLabs) as t2\"\n",
    "            \" on t1.MemberNum=t2.MemberNum\")\n",
    "\n",
    "# Remove patients with DM dx (incl family hx) or abnormal labs\n",
    "neg_query = (\"delete from t2dControlEmerge\"\n",
    "            \" where MemberNum in\"\n",
    "            \" (select distinct MemberNum from DxDm\"\n",
    "            \"  union select distinct MemberNum from #abnormalLabs\"\n",
    "            \"  union select distinct MemberNum from RxDm)\")\n",
    "\n",
    "hy_cxn.execute(';'.join([pos_query, neg_query]))\n",
    "pd.read_sql('select count(*) from t2dControlEmerge', hy_cxn)"
   ]
  },
  {
   "cell_type": "markdown",
   "metadata": {},
   "source": [
    "### Ignoring lab tests"
   ]
  },
  {
   "cell_type": "code",
   "execution_count": 19,
   "metadata": {
    "ExecuteTime": {
     "end_time": "2019-07-29T18:04:57.664154Z",
     "start_time": "2019-07-29T18:04:50.575544Z"
    }
   },
   "outputs": [
    {
     "data": {
      "text/html": [
       "<div>\n",
       "<style scoped>\n",
       "    .dataframe tbody tr th:only-of-type {\n",
       "        vertical-align: middle;\n",
       "    }\n",
       "\n",
       "    .dataframe tbody tr th {\n",
       "        vertical-align: top;\n",
       "    }\n",
       "\n",
       "    .dataframe thead th {\n",
       "        text-align: right;\n",
       "    }\n",
       "</style>\n",
       "<table border=\"1\" class=\"dataframe\">\n",
       "  <thead>\n",
       "    <tr style=\"text-align: right;\">\n",
       "      <th></th>\n",
       "      <th></th>\n",
       "    </tr>\n",
       "  </thead>\n",
       "  <tbody>\n",
       "    <tr>\n",
       "      <th>0</th>\n",
       "      <td>2547932</td>\n",
       "    </tr>\n",
       "  </tbody>\n",
       "</table>\n",
       "</div>"
      ],
      "text/plain": [
       "          \n",
       "0  2547932"
      ]
     },
     "execution_count": 19,
     "metadata": {},
     "output_type": "execute_result"
    }
   ],
   "source": [
    "# Keep patients with multiple visits & any glucose lab value \n",
    "pos_query = (\"drop table if exists t2dControlEmergeNoLab;\"\n",
    "            \" select t1.MemberNum\"\n",
    "            \" into t2dControlEmergeNoLab\"\n",
    "            \" from (select distinct MemberNum from VisitCount where visits > 1) as t1\"\n",
    "            \" inner join (select distinct MemberNum from GlucoseLabs) as t2\"\n",
    "            \" on t1.MemberNum=t2.MemberNum\")\n",
    "\n",
    "# Remove patients with DM dx (incl family hx)\n",
    "neg_query = (\"delete from t2dControlEmergeNoLab\"\n",
    "            \" where MemberNum in\"\n",
    "            \" (select distinct MemberNum from DxDm\"\n",
    "            \"  union select distinct MemberNum from RxDm)\")\n",
    "\n",
    "hy_cxn.execute(';'.join([pos_query, neg_query]))\n",
    "pd.read_sql('select count(*) from t2dControlEmergeNoLab', hy_cxn)"
   ]
  },
  {
   "cell_type": "markdown",
   "metadata": {},
   "source": [
    "### Single visit count"
   ]
  },
  {
   "cell_type": "code",
   "execution_count": 20,
   "metadata": {
    "ExecuteTime": {
     "end_time": "2019-07-29T18:05:06.635363Z",
     "start_time": "2019-07-29T18:04:57.666604Z"
    }
   },
   "outputs": [
    {
     "data": {
      "text/html": [
       "<div>\n",
       "<style scoped>\n",
       "    .dataframe tbody tr th:only-of-type {\n",
       "        vertical-align: middle;\n",
       "    }\n",
       "\n",
       "    .dataframe tbody tr th {\n",
       "        vertical-align: top;\n",
       "    }\n",
       "\n",
       "    .dataframe thead th {\n",
       "        text-align: right;\n",
       "    }\n",
       "</style>\n",
       "<table border=\"1\" class=\"dataframe\">\n",
       "  <thead>\n",
       "    <tr style=\"text-align: right;\">\n",
       "      <th></th>\n",
       "      <th></th>\n",
       "    </tr>\n",
       "  </thead>\n",
       "  <tbody>\n",
       "    <tr>\n",
       "      <th>0</th>\n",
       "      <td>2295455</td>\n",
       "    </tr>\n",
       "  </tbody>\n",
       "</table>\n",
       "</div>"
      ],
      "text/plain": [
       "          \n",
       "0  2295455"
      ]
     },
     "execution_count": 20,
     "metadata": {},
     "output_type": "execute_result"
    }
   ],
   "source": [
    "# Keep patients with single visit & any glucose lab value \n",
    "pos_query = (\"drop table if exists t2dControlEmergeSingleVisit;\"\n",
    "            \" select t1.MemberNum\"\n",
    "            \" into t2dControlEmergeSingleVisit\"\n",
    "            \" from (select distinct MemberNum from VisitCount) as t1\"\n",
    "            \" inner join (select distinct MemberNum from GlucoseLabs) as t2\"\n",
    "            \" on t1.MemberNum=t2.MemberNum\")\n",
    "\n",
    "# Remove patients with DM dx (incl family hx) or abnormal labs\n",
    "neg_query = (\"delete from t2dControlEmergeSingleVisit\"\n",
    "            \" where MemberNum in\"\n",
    "            \" (select distinct MemberNum from DxDm\"\n",
    "            \"  union select distinct MemberNum from #abnormalLabs\"\n",
    "            \"  union select distinct MemberNum from RxDm)\")\n",
    "\n",
    "hy_cxn.execute(';'.join([pos_query, neg_query]))\n",
    "pd.read_sql('select count(*) from t2dControlEmergeSingleVisit', hy_cxn)"
   ]
  },
  {
   "cell_type": "markdown",
   "metadata": {},
   "source": [
    "### Ignoring screening ICD (V77.1)"
   ]
  },
  {
   "cell_type": "code",
   "execution_count": 24,
   "metadata": {
    "ExecuteTime": {
     "end_time": "2019-07-29T18:07:57.059568Z",
     "start_time": "2019-07-29T18:07:46.979753Z"
    }
   },
   "outputs": [
    {
     "data": {
      "text/html": [
       "<div>\n",
       "<style scoped>\n",
       "    .dataframe tbody tr th:only-of-type {\n",
       "        vertical-align: middle;\n",
       "    }\n",
       "\n",
       "    .dataframe tbody tr th {\n",
       "        vertical-align: top;\n",
       "    }\n",
       "\n",
       "    .dataframe thead th {\n",
       "        text-align: right;\n",
       "    }\n",
       "</style>\n",
       "<table border=\"1\" class=\"dataframe\">\n",
       "  <thead>\n",
       "    <tr style=\"text-align: right;\">\n",
       "      <th></th>\n",
       "      <th></th>\n",
       "    </tr>\n",
       "  </thead>\n",
       "  <tbody>\n",
       "    <tr>\n",
       "      <th>0</th>\n",
       "      <td>2358527</td>\n",
       "    </tr>\n",
       "  </tbody>\n",
       "</table>\n",
       "</div>"
      ],
      "text/plain": [
       "          \n",
       "0  2358527"
      ]
     },
     "execution_count": 24,
     "metadata": {},
     "output_type": "execute_result"
    }
   ],
   "source": [
    "dm_dx_icd = str(('790.21', '790.22', '790.2', '790.29', '791.5', '277.7', 'V18.0'))\n",
    "dm_dx_icd_fuzzy_match = ' or '.join([\"diagCode like '%s'\" % s for s in ('250%', '648.8%', '648.0%')])\n",
    "\n",
    "# Keep patients with single visit & any glucose lab value \n",
    "pos_query = (\"drop table if exists t2dControlEmergeNoScreening;\"\n",
    "            \" select t1.MemberNum\"\n",
    "            \" into t2dControlEmergeNoScreening\"\n",
    "            \" from (select distinct MemberNum from VisitCount where visits > 1) as t1\"\n",
    "            \" inner join (select distinct MemberNum from GlucoseLabs) as t2\"\n",
    "            \" on t1.MemberNum=t2.MemberNum\")\n",
    "\n",
    "# Remove patients with DM dx (incl family hx) or abnormal labs\n",
    "neg_query = (\"delete from t2dControlEmergeNoScreening\"\n",
    "            \" where MemberNum in\"\n",
    "           f\" (select distinct MemberNum from DxDm where diagCode in {dm_dx_icd} or {dm_dx_icd_fuzzy_match}\"\n",
    "            \"  union select distinct MemberNum from #abnormalLabs\"\n",
    "            \"  union select distinct MemberNum from RxDm)\")\n",
    "\n",
    "hy_cxn.execute(';'.join([pos_query, neg_query]))\n",
    "pd.read_sql('select count(*) from t2dControlEmergeNoScreening', hy_cxn)"
   ]
  },
  {
   "cell_type": "markdown",
   "metadata": {},
   "source": [
    "### Ignoring family history of dm (V18.0)"
   ]
  },
  {
   "cell_type": "code",
   "execution_count": 25,
   "metadata": {
    "ExecuteTime": {
     "end_time": "2019-07-29T18:08:08.090401Z",
     "start_time": "2019-07-29T18:07:57.067563Z"
    }
   },
   "outputs": [
    {
     "data": {
      "text/html": [
       "<div>\n",
       "<style scoped>\n",
       "    .dataframe tbody tr th:only-of-type {\n",
       "        vertical-align: middle;\n",
       "    }\n",
       "\n",
       "    .dataframe tbody tr th {\n",
       "        vertical-align: top;\n",
       "    }\n",
       "\n",
       "    .dataframe thead th {\n",
       "        text-align: right;\n",
       "    }\n",
       "</style>\n",
       "<table border=\"1\" class=\"dataframe\">\n",
       "  <thead>\n",
       "    <tr style=\"text-align: right;\">\n",
       "      <th></th>\n",
       "      <th></th>\n",
       "    </tr>\n",
       "  </thead>\n",
       "  <tbody>\n",
       "    <tr>\n",
       "      <th>0</th>\n",
       "      <td>2321623</td>\n",
       "    </tr>\n",
       "  </tbody>\n",
       "</table>\n",
       "</div>"
      ],
      "text/plain": [
       "          \n",
       "0  2321623"
      ]
     },
     "execution_count": 25,
     "metadata": {},
     "output_type": "execute_result"
    }
   ],
   "source": [
    "dm_dx_icd = str(('790.21', '790.22', '790.2', '790.29', '791.5', '277.7', 'V77.1'))\n",
    "dm_dx_icd_fuzzy_match = ' or '.join([\"diagCode like '%s'\" % s for s in ('250%', '648.8%', '648.0%')])\n",
    "\n",
    "# Keep patients with single visit & any glucose lab value \n",
    "pos_query = (\"drop table if exists t2dControlEmergeNoFamilyHx;\"\n",
    "            \" select t1.MemberNum\"\n",
    "            \" into t2dControlEmergeNoFamilyHx\"\n",
    "            \" from (select distinct MemberNum from VisitCount where visits > 1) as t1\"\n",
    "            \" inner join (select distinct MemberNum from GlucoseLabs) as t2\"\n",
    "            \" on t1.MemberNum=t2.MemberNum\")\n",
    "\n",
    "# Remove patients with DM dx (incl family hx) or abnormal labs\n",
    "neg_query = (\"delete from t2dControlEmergeNoFamilyHx\"\n",
    "            \" where MemberNum in\"\n",
    "           f\" (select distinct MemberNum from DxDm where diagCode in {dm_dx_icd} or {dm_dx_icd_fuzzy_match}\"\n",
    "            \"  union select distinct MemberNum from #abnormalLabs\"\n",
    "            \"  union select distinct MemberNum from RxDm)\")\n",
    "\n",
    "hy_cxn.execute(';'.join([pos_query, neg_query]))\n",
    "pd.read_sql('select count(*) from t2dControlEmergeNoFamilyHx', hy_cxn)"
   ]
  },
  {
   "cell_type": "markdown",
   "metadata": {},
   "source": [
    "# Depression"
   ]
  },
  {
   "cell_type": "markdown",
   "metadata": {},
   "source": [
    "## Cases"
   ]
  },
  {
   "cell_type": "code",
   "execution_count": 16,
   "metadata": {
    "ExecuteTime": {
     "end_time": "2019-07-29T18:01:21.081756Z",
     "start_time": "2019-07-29T18:01:19.804508Z"
    },
    "scrolled": true
   },
   "outputs": [
    {
     "data": {
      "text/html": [
       "<div>\n",
       "<style scoped>\n",
       "    .dataframe tbody tr th:only-of-type {\n",
       "        vertical-align: middle;\n",
       "    }\n",
       "\n",
       "    .dataframe tbody tr th {\n",
       "        vertical-align: top;\n",
       "    }\n",
       "\n",
       "    .dataframe thead th {\n",
       "        text-align: right;\n",
       "    }\n",
       "</style>\n",
       "<table border=\"1\" class=\"dataframe\">\n",
       "  <thead>\n",
       "    <tr style=\"text-align: right;\">\n",
       "      <th></th>\n",
       "      <th></th>\n",
       "    </tr>\n",
       "  </thead>\n",
       "  <tbody>\n",
       "    <tr>\n",
       "      <th>0</th>\n",
       "      <td>1136743</td>\n",
       "    </tr>\n",
       "  </tbody>\n",
       "</table>\n",
       "</div>"
      ],
      "text/plain": [
       "          \n",
       "0  1136743"
      ]
     },
     "execution_count": 16,
     "metadata": {},
     "output_type": "execute_result"
    }
   ],
   "source": [
    "depression_cases_query = (\"drop table if exists depressionCase;\"\n",
    "                         \" select distinct MemberNum\"\n",
    "                         \" into depressionCase\"\n",
    "                         \" from dxDepression\")\n",
    "hy_cxn.execute(depression_cases_query)\n",
    "pd.read_sql('select count(*) from depressionCases', hy_cxn)"
   ]
  },
  {
   "cell_type": "markdown",
   "metadata": {},
   "source": [
    "### Multiple diagnoses"
   ]
  },
  {
   "cell_type": "code",
   "execution_count": 17,
   "metadata": {
    "ExecuteTime": {
     "end_time": "2019-07-29T18:01:22.178297Z",
     "start_time": "2019-07-29T18:01:21.089242Z"
    }
   },
   "outputs": [
    {
     "data": {
      "text/html": [
       "<div>\n",
       "<style scoped>\n",
       "    .dataframe tbody tr th:only-of-type {\n",
       "        vertical-align: middle;\n",
       "    }\n",
       "\n",
       "    .dataframe tbody tr th {\n",
       "        vertical-align: top;\n",
       "    }\n",
       "\n",
       "    .dataframe thead th {\n",
       "        text-align: right;\n",
       "    }\n",
       "</style>\n",
       "<table border=\"1\" class=\"dataframe\">\n",
       "  <thead>\n",
       "    <tr style=\"text-align: right;\">\n",
       "      <th></th>\n",
       "      <th></th>\n",
       "    </tr>\n",
       "  </thead>\n",
       "  <tbody>\n",
       "    <tr>\n",
       "      <th>0</th>\n",
       "      <td>779272</td>\n",
       "    </tr>\n",
       "  </tbody>\n",
       "</table>\n",
       "</div>"
      ],
      "text/plain": [
       "         \n",
       "0  779272"
      ]
     },
     "execution_count": 17,
     "metadata": {},
     "output_type": "execute_result"
    }
   ],
   "source": [
    "depression_cases_query = (\"drop table if exists depressionCaseMultipledx;\"\n",
    "                         \" select MemberNum\"\n",
    "                         \" into depressionCaseMultipledx\"\n",
    "                         \" from (select MemberNum, count(*) as dxCount from dxDepression group by MemberNum) as t\"\n",
    "                         \" where dxCount > 1\")\n",
    "hy_cxn.execute(depression_cases_query)\n",
    "pd.read_sql('select count(*) from depressionCaseMultipledx', hy_cxn)"
   ]
  },
  {
   "cell_type": "markdown",
   "metadata": {},
   "source": [
    "## Controls"
   ]
  },
  {
   "cell_type": "code",
   "execution_count": 18,
   "metadata": {
    "ExecuteTime": {
     "end_time": "2019-07-29T18:01:29.857035Z",
     "start_time": "2019-07-29T18:01:22.183196Z"
    },
    "scrolled": true
   },
   "outputs": [
    {
     "data": {
      "text/html": [
       "<div>\n",
       "<style scoped>\n",
       "    .dataframe tbody tr th:only-of-type {\n",
       "        vertical-align: middle;\n",
       "    }\n",
       "\n",
       "    .dataframe tbody tr th {\n",
       "        vertical-align: top;\n",
       "    }\n",
       "\n",
       "    .dataframe thead th {\n",
       "        text-align: right;\n",
       "    }\n",
       "</style>\n",
       "<table border=\"1\" class=\"dataframe\">\n",
       "  <thead>\n",
       "    <tr style=\"text-align: right;\">\n",
       "      <th></th>\n",
       "      <th></th>\n",
       "    </tr>\n",
       "  </thead>\n",
       "  <tbody>\n",
       "    <tr>\n",
       "      <th>0</th>\n",
       "      <td>9409473</td>\n",
       "    </tr>\n",
       "  </tbody>\n",
       "</table>\n",
       "</div>"
      ],
      "text/plain": [
       "          \n",
       "0  9409473"
      ]
     },
     "execution_count": 18,
     "metadata": {},
     "output_type": "execute_result"
    }
   ],
   "source": [
    "depression_control_query = (\"drop table if exists depressionControl;\"\n",
    "                         \" select distinct MemberNum\"\n",
    "                         \" into depressionControl\"\n",
    "                         \" from EnrollFourPlusYears;\"\n",
    "                         \" delete from depressionControl\"\n",
    "                         \" where MemberNum in (select MemberNum from depressionCases)\")\n",
    "\n",
    "hy_cxn.execute(depression_control_query)\n",
    "pd.read_sql('select count(*) from depressionControl', hy_cxn)"
   ]
  },
  {
   "cell_type": "markdown",
   "metadata": {},
   "source": [
    "# Association Testing"
   ]
  },
  {
   "cell_type": "code",
   "execution_count": 5,
   "metadata": {
    "ExecuteTime": {
     "end_time": "2019-07-30T18:49:37.156324Z",
     "start_time": "2019-07-30T18:49:37.118073Z"
    }
   },
   "outputs": [],
   "source": [
    "def limit_samples(table, num_samples=None, order_by='newid()'):\n",
    "    if num_samples is None:\n",
    "        subquery = table\n",
    "    else:\n",
    "        subquery = (\"(select top %d*\"\n",
    "                \" from %s order by %s)\"\n",
    "                % (num_samples, table, order_by))\n",
    "    return subquery\n",
    "\n",
    "def count_overlap(t1, t2, key_col, cxn, subsample=None):\n",
    "    query = (\"select count(*)\"\n",
    "            \" from %s as t1 inner join %s as t2 on t1.%s=t2.%s\"\n",
    "            % (limit_samples(t1, num_samples=subsample), limit_samples(t2, num_samples=subsample), key_col, key_col))\n",
    "    return cxn.execute(query).fetchone()[0]\n",
    "\n",
    "def contingency_table(case_tablename, control_tablename, exposed_tablename, nonexposed_tablename, subsample=None, cxn=hy_cxn):\n",
    "    case_exposed = count_overlap(case_tablename, exposed_tablename, 'MemberNum', cxn, subsample)\n",
    "    case_nonexposed = count_overlap(case_tablename, nonexposed_tablename, 'MemberNum', cxn, subsample)\n",
    "    control_exposed = count_overlap(control_tablename, exposed_tablename, 'MemberNum', cxn, subsample)\n",
    "    control_nonexposed = count_overlap(control_tablename, nonexposed_tablename, 'MemberNum', cxn, subsample)\n",
    "    \n",
    "    return np.asarray([[case_exposed, control_exposed], [case_nonexposed, control_nonexposed]])"
   ]
  },
  {
   "cell_type": "markdown",
   "metadata": {},
   "source": [
    "## Baseline groups\n",
    "* Case: eMERGE\n",
    "* Control: eMERGE\n",
    "* exposure: Depression 1x CCS dx\n",
    "* control: Continuous enrollment with no depression dx\n"
   ]
  },
  {
   "cell_type": "code",
   "execution_count": 72,
   "metadata": {
    "ExecuteTime": {
     "end_time": "2019-07-30T03:12:09.990695Z",
     "start_time": "2019-07-30T03:12:04.878786Z"
    }
   },
   "outputs": [],
   "source": [
    "t = contingency_table('t2dCaseEmerge', 't2dControlEmerge', 'depressionCase', 'depressionControl', subsample=100000)"
   ]
  },
  {
   "cell_type": "code",
   "execution_count": 73,
   "metadata": {
    "ExecuteTime": {
     "end_time": "2019-07-30T03:12:11.048589Z",
     "start_time": "2019-07-30T03:12:10.806801Z"
    }
   },
   "outputs": [
    {
     "data": {
      "text/plain": [
       "(1.211479970763681, 0.002134480332075108)"
      ]
     },
     "execution_count": 73,
     "metadata": {},
     "output_type": "execute_result"
    }
   ],
   "source": [
    "stats.fisher_exact(t)"
   ]
  },
  {
   "cell_type": "code",
   "execution_count": 74,
   "metadata": {
    "ExecuteTime": {
     "end_time": "2019-07-30T03:12:13.616486Z",
     "start_time": "2019-07-30T03:12:13.609713Z"
    }
   },
   "outputs": [
    {
     "data": {
      "text/plain": [
       "(1.072751581324148, 1.368148735562745)"
      ]
     },
     "execution_count": 74,
     "metadata": {},
     "output_type": "execute_result"
    }
   ],
   "source": [
    "ctable(t).oddsratio_confint()"
   ]
  },
  {
   "cell_type": "markdown",
   "metadata": {},
   "source": [
    "## Alternate definitions"
   ]
  },
  {
   "cell_type": "code",
   "execution_count": 6,
   "metadata": {
    "ExecuteTime": {
     "end_time": "2019-07-30T18:50:29.203735Z",
     "start_time": "2019-07-30T18:49:38.592686Z"
    }
   },
   "outputs": [
    {
     "data": {
      "application/vnd.jupyter.widget-view+json": {
       "model_id": "1e407152291d46e69b2f070cc509793a",
       "version_major": 2,
       "version_minor": 0
      },
      "text/plain": [
       "HBox(children=(IntProgress(value=1, bar_style='info', max=1), HTML(value='')))"
      ]
     },
     "metadata": {},
     "output_type": "display_data"
    },
    {
     "name": "stdout",
     "output_type": "stream",
     "text": [
      "\n"
     ]
    },
    {
     "data": {
      "text/html": [
       "<div>\n",
       "<style scoped>\n",
       "    .dataframe tbody tr th:only-of-type {\n",
       "        vertical-align: middle;\n",
       "    }\n",
       "\n",
       "    .dataframe tbody tr th {\n",
       "        vertical-align: top;\n",
       "    }\n",
       "\n",
       "    .dataframe thead th {\n",
       "        text-align: right;\n",
       "    }\n",
       "</style>\n",
       "<table border=\"1\" class=\"dataframe\">\n",
       "  <thead>\n",
       "    <tr style=\"text-align: right;\">\n",
       "      <th></th>\n",
       "      <th>case</th>\n",
       "      <th>control</th>\n",
       "      <th>exposure</th>\n",
       "      <th>nonexposure</th>\n",
       "      <th>fishersExact</th>\n",
       "      <th>ORconfInt</th>\n",
       "    </tr>\n",
       "  </thead>\n",
       "  <tbody>\n",
       "    <tr>\n",
       "      <th>0</th>\n",
       "      <td>t2dCaseEmerge</td>\n",
       "      <td>t2dControlEmerge</td>\n",
       "      <td>depressionCase</td>\n",
       "      <td>depressionControl</td>\n",
       "      <td>(1.2203068653744586, 3.469406152592745e-290)</td>\n",
       "      <td>(1.2075139426075414, 1.2332353218748955)</td>\n",
       "    </tr>\n",
       "    <tr>\n",
       "      <th>1</th>\n",
       "      <td>t2dCaseEmerge</td>\n",
       "      <td>t2dControlEmerge</td>\n",
       "      <td>depressionCaseMultipleDx</td>\n",
       "      <td>depressionControl</td>\n",
       "      <td>(1.1852700827432638, 2.8175814977628456e-152)</td>\n",
       "      <td>(1.1705848382927921, 1.2001395568176967)</td>\n",
       "    </tr>\n",
       "    <tr>\n",
       "      <th>2</th>\n",
       "      <td>t2dCaseEmerge</td>\n",
       "      <td>t2dControlEmergeNoLab</td>\n",
       "      <td>depressionCase</td>\n",
       "      <td>depressionControl</td>\n",
       "      <td>(1.1961985107155952, 2.1846087358768673e-239)</td>\n",
       "      <td>(1.1837495051907225, 1.208778437299256)</td>\n",
       "    </tr>\n",
       "    <tr>\n",
       "      <th>3</th>\n",
       "      <td>t2dCaseEmerge</td>\n",
       "      <td>t2dControlEmergeNoLab</td>\n",
       "      <td>depressionCaseMultipleDx</td>\n",
       "      <td>depressionControl</td>\n",
       "      <td>(1.162344762321368, 8.981804324325636e-122)</td>\n",
       "      <td>(1.1480468779484523, 1.176820713898219)</td>\n",
       "    </tr>\n",
       "    <tr>\n",
       "      <th>4</th>\n",
       "      <td>t2dCaseEmerge</td>\n",
       "      <td>t2dControlEmergeSingleVisit</td>\n",
       "      <td>depressionCase</td>\n",
       "      <td>depressionControl</td>\n",
       "      <td>(1.2247083113233546, 1.491036013069449e-300)</td>\n",
       "      <td>(1.211869759198065, 1.2376828751111324)</td>\n",
       "    </tr>\n",
       "    <tr>\n",
       "      <th>5</th>\n",
       "      <td>t2dCaseEmerge</td>\n",
       "      <td>t2dControlEmergeSingleVisit</td>\n",
       "      <td>depressionCaseMultipleDx</td>\n",
       "      <td>depressionControl</td>\n",
       "      <td>(1.1897067904942045, 7.292398899903073e-159)</td>\n",
       "      <td>(1.1749669185797569, 1.2046315729968722)</td>\n",
       "    </tr>\n",
       "    <tr>\n",
       "      <th>6</th>\n",
       "      <td>t2dCaseEmerge</td>\n",
       "      <td>t2dControlEmergeNoScreening</td>\n",
       "      <td>depressionCase</td>\n",
       "      <td>depressionControl</td>\n",
       "      <td>(1.2164933395791464, 2.0074358542811054e-282)</td>\n",
       "      <td>(1.2037662332150392, 1.2293550063187904)</td>\n",
       "    </tr>\n",
       "    <tr>\n",
       "      <th>7</th>\n",
       "      <td>t2dCaseEmerge</td>\n",
       "      <td>t2dControlEmergeNoScreening</td>\n",
       "      <td>depressionCaseMultipleDx</td>\n",
       "      <td>depressionControl</td>\n",
       "      <td>(1.1819997531113597, 4.585601558225638e-148)</td>\n",
       "      <td>(1.1673840318001278, 1.1967984641702891)</td>\n",
       "    </tr>\n",
       "    <tr>\n",
       "      <th>8</th>\n",
       "      <td>t2dCaseEmerge</td>\n",
       "      <td>t2dControlEmergeNoFamilyHx</td>\n",
       "      <td>depressionCase</td>\n",
       "      <td>depressionControl</td>\n",
       "      <td>(1.2185140896750963, 1.4580470791989522e-286)</td>\n",
       "      <td>(1.2057524713737977, 1.2314107762474813)</td>\n",
       "    </tr>\n",
       "    <tr>\n",
       "      <th>9</th>\n",
       "      <td>t2dCaseEmerge</td>\n",
       "      <td>t2dControlEmergeNoFamilyHx</td>\n",
       "      <td>depressionCaseMultipleDx</td>\n",
       "      <td>depressionControl</td>\n",
       "      <td>(1.183585833930371, 4.349619302852478e-150)</td>\n",
       "      <td>(1.1689355972326005, 1.1984196816293033)</td>\n",
       "    </tr>\n",
       "  </tbody>\n",
       "</table>\n",
       "</div>"
      ],
      "text/plain": [
       "            case                      control                  exposure  \\\n",
       "0  t2dCaseEmerge             t2dControlEmerge            depressionCase   \n",
       "1  t2dCaseEmerge             t2dControlEmerge  depressionCaseMultipleDx   \n",
       "2  t2dCaseEmerge        t2dControlEmergeNoLab            depressionCase   \n",
       "3  t2dCaseEmerge        t2dControlEmergeNoLab  depressionCaseMultipleDx   \n",
       "4  t2dCaseEmerge  t2dControlEmergeSingleVisit            depressionCase   \n",
       "5  t2dCaseEmerge  t2dControlEmergeSingleVisit  depressionCaseMultipleDx   \n",
       "6  t2dCaseEmerge  t2dControlEmergeNoScreening            depressionCase   \n",
       "7  t2dCaseEmerge  t2dControlEmergeNoScreening  depressionCaseMultipleDx   \n",
       "8  t2dCaseEmerge   t2dControlEmergeNoFamilyHx            depressionCase   \n",
       "9  t2dCaseEmerge   t2dControlEmergeNoFamilyHx  depressionCaseMultipleDx   \n",
       "\n",
       "         nonexposure                                   fishersExact  \\\n",
       "0  depressionControl   (1.2203068653744586, 3.469406152592745e-290)   \n",
       "1  depressionControl  (1.1852700827432638, 2.8175814977628456e-152)   \n",
       "2  depressionControl  (1.1961985107155952, 2.1846087358768673e-239)   \n",
       "3  depressionControl    (1.162344762321368, 8.981804324325636e-122)   \n",
       "4  depressionControl   (1.2247083113233546, 1.491036013069449e-300)   \n",
       "5  depressionControl   (1.1897067904942045, 7.292398899903073e-159)   \n",
       "6  depressionControl  (1.2164933395791464, 2.0074358542811054e-282)   \n",
       "7  depressionControl   (1.1819997531113597, 4.585601558225638e-148)   \n",
       "8  depressionControl  (1.2185140896750963, 1.4580470791989522e-286)   \n",
       "9  depressionControl    (1.183585833930371, 4.349619302852478e-150)   \n",
       "\n",
       "                                  ORconfInt  \n",
       "0  (1.2075139426075414, 1.2332353218748955)  \n",
       "1  (1.1705848382927921, 1.2001395568176967)  \n",
       "2   (1.1837495051907225, 1.208778437299256)  \n",
       "3   (1.1480468779484523, 1.176820713898219)  \n",
       "4   (1.211869759198065, 1.2376828751111324)  \n",
       "5  (1.1749669185797569, 1.2046315729968722)  \n",
       "6  (1.2037662332150392, 1.2293550063187904)  \n",
       "7  (1.1673840318001278, 1.1967984641702891)  \n",
       "8  (1.2057524713737977, 1.2314107762474813)  \n",
       "9  (1.1689355972326005, 1.1984196816293033)  "
      ]
     },
     "execution_count": 6,
     "metadata": {},
     "output_type": "execute_result"
    }
   ],
   "source": [
    "case_groups = ['t2dCaseEmerge']\n",
    "control_groups = ['t2dControlEmerge', 't2dControlEmergeNoLab', 't2dControlEmergeSingleVisit', 't2dControlEmergeNoScreening', 't2dControlEmergeNoFamilyHx']\n",
    "exposure_groups = ['depressionCase', 'depressionCaseMultipleDx']\n",
    "nonexposure_groups = ['depressionControl']\n",
    "\n",
    "results = pd.DataFrame(columns=['case', 'control', 'exposure', 'nonexposure', 'fishersExact', 'ORconfInt'], \n",
    "                       index=np.arange(0, len(case_groups) * len(control_groups) * len(exposure_groups) * len(nonexposure_groups)))\n",
    "\n",
    "for i, comb in tqdm_notebook(enumerate(itertools.product(*[case_groups, control_groups, exposure_groups, nonexposure_groups]))):\n",
    "    tab = contingency_table(*comb, subsample=None)\n",
    "    fe_test = stats.fisher_exact(tab)\n",
    "    or_ci = ctable(tab).oddsratio_confint()\n",
    "    \n",
    "    results.iloc[i] = list(comb) + [fe_test, or_ci]\n",
    "    \n",
    "results"
   ]
  },
  {
   "cell_type": "code",
   "execution_count": 7,
   "metadata": {
    "ExecuteTime": {
     "end_time": "2019-07-30T18:50:38.189894Z",
     "start_time": "2019-07-30T18:50:38.174364Z"
    }
   },
   "outputs": [],
   "source": [
    "results.to_csv('results/4yearWindowedNonDirectionalTests.csv')"
   ]
  }
 ],
 "metadata": {
  "kernelspec": {
   "display_name": "Python 3",
   "language": "python",
   "name": "python3"
  },
  "language_info": {
   "codemirror_mode": {
    "name": "ipython",
    "version": 3
   },
   "file_extension": ".py",
   "mimetype": "text/x-python",
   "name": "python",
   "nbconvert_exporter": "python",
   "pygments_lexer": "ipython3",
   "version": "3.7.4"
  },
  "toc": {
   "base_numbering": 1,
   "nav_menu": {},
   "number_sections": true,
   "sideBar": true,
   "skip_h1_title": false,
   "title_cell": "Table of Contents",
   "title_sidebar": "Contents",
   "toc_cell": false,
   "toc_position": {
    "height": "calc(100% - 180px)",
    "left": "10px",
    "top": "150px",
    "width": "293.188px"
   },
   "toc_section_display": true,
   "toc_window_display": true
  }
 },
 "nbformat": 4,
 "nbformat_minor": 2
}
