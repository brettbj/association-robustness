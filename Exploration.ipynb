{
 "cells": [
  {
   "cell_type": "markdown",
   "metadata": {},
   "source": [
    "# Top"
   ]
  },
  {
   "cell_type": "code",
   "execution_count": 1,
   "metadata": {
    "ExecuteTime": {
     "end_time": "2019-08-02T15:41:27.176950Z",
     "start_time": "2019-08-02T15:41:27.166412Z"
    },
    "tags": [
     "#i"
    ]
   },
   "outputs": [],
   "source": [
    "import urllib\n",
    "import pyodbc\n",
    "import itertools\n",
    "import pandas as pd\n",
    "import numpy as np\n",
    "import seaborn as sns\n",
    "import sqlalchemy as sqla\n",
    "import matplotlib as mpl\n",
    "import statsmodels.api as sm\n",
    "import multiprocessing as mp\n",
    "\n",
    "from multiprocessing import Process\n",
    "from matplotlib import pyplot as plt\n",
    "from tqdm import tqdm_notebook as tqdm\n",
    "from importlib import reload\n",
    "from scipy import stats\n",
    "from statsmodels.stats.contingency_tables import Table2x2 as ctable"
   ]
  },
  {
   "cell_type": "code",
   "execution_count": 2,
   "metadata": {
    "ExecuteTime": {
     "end_time": "2019-08-02T15:55:08.741980Z",
     "start_time": "2019-08-02T15:55:08.617931Z"
    }
   },
   "outputs": [],
   "source": [
    "%load_ext line_profiler"
   ]
  },
  {
   "cell_type": "code",
   "execution_count": 3,
   "metadata": {
    "ExecuteTime": {
     "end_time": "2019-08-02T15:41:28.748923Z",
     "start_time": "2019-08-02T15:41:27.180222Z"
    },
    "tags": [
     "=>i",
     "#setup"
    ]
   },
   "outputs": [],
   "source": [
    "hy_db = 'hy180_2021'\n",
    "\n",
    "with open('dbmi-aetna-cxn-str') as f:\n",
    "    cxn_params = f.read().strip()\n",
    "    gmw_cxn_str = urllib.parse.quote_plus(cxn_params + 'Database=gmw3')\n",
    "    aetna_raw_cxn_str = urllib.parse.quote_plus(cxn_params + 'Database=AetnaDataWarehouse')\n",
    "    hy_cxn_str = urllib.parse.quote_plus(cxn_params + f'Database={hy_db}')\n",
    "    \n",
    "engine = sqla.create_engine(\"mssql+pyodbc:///?odbc_connect=%s\" % gmw_cxn_str, connect_args = {'autocommit':True})\n",
    "cxn = engine.connect()\n",
    "ins = sqla.inspect(engine)\n",
    "\n",
    "hy_engine = sqla.create_engine(\"mssql+pyodbc:///?odbc_connect=%s\" % hy_cxn_str, connect_args = {'autocommit': True, 'fast_executemany': True}, pool_size=100)\n",
    "hy_cxn = hy_engine.connect()"
   ]
  },
  {
   "cell_type": "code",
   "execution_count": 5,
   "metadata": {},
   "outputs": [
    {
     "name": "stdout",
     "output_type": "stream",
     "text": [
      "['NationalDrugCode', 'NdcDescription', 'NumberOfPatients', 'NumberOfClaims', 'NumberOfMaintenancePatients', 'NumberOfMaintenanceClaims', 'FirstDispenseDate', 'LastDispenseDate', 'FirstPaidDate', 'LastPaidDate', 'TotalQuantity', 'TotalDaysSupply', 'MaxTotalQuantity', 'MaxTotalDaysSupply', 'MaxQuantity', 'MaxDaysSupply', 'TotalDeductibleAmount', 'TotalMemberOutOfPocketAmount', 'TotalPaidAmount', 'MaxTotalDeductibleAmount', 'MaxTotalMemberOutOfPocketAmount', 'MaxTotalPaidAmount']\n"
     ]
    },
    {
     "data": {
      "text/html": [
       "<div>\n",
       "<style scoped>\n",
       "    .dataframe tbody tr th:only-of-type {\n",
       "        vertical-align: middle;\n",
       "    }\n",
       "\n",
       "    .dataframe tbody tr th {\n",
       "        vertical-align: top;\n",
       "    }\n",
       "\n",
       "    .dataframe thead th {\n",
       "        text-align: right;\n",
       "    }\n",
       "</style>\n",
       "<table border=\"1\" class=\"dataframe\">\n",
       "  <thead>\n",
       "    <tr style=\"text-align: right;\">\n",
       "      <th></th>\n",
       "      <th>NationalDrugCode</th>\n",
       "      <th>NdcDescription</th>\n",
       "      <th>NumberOfPatients</th>\n",
       "      <th>NumberOfClaims</th>\n",
       "      <th>NumberOfMaintenancePatients</th>\n",
       "      <th>NumberOfMaintenanceClaims</th>\n",
       "      <th>FirstDispenseDate</th>\n",
       "      <th>LastDispenseDate</th>\n",
       "      <th>FirstPaidDate</th>\n",
       "      <th>LastPaidDate</th>\n",
       "      <th>...</th>\n",
       "      <th>MaxTotalQuantity</th>\n",
       "      <th>MaxTotalDaysSupply</th>\n",
       "      <th>MaxQuantity</th>\n",
       "      <th>MaxDaysSupply</th>\n",
       "      <th>TotalDeductibleAmount</th>\n",
       "      <th>TotalMemberOutOfPocketAmount</th>\n",
       "      <th>TotalPaidAmount</th>\n",
       "      <th>MaxTotalDeductibleAmount</th>\n",
       "      <th>MaxTotalMemberOutOfPocketAmount</th>\n",
       "      <th>MaxTotalPaidAmount</th>\n",
       "    </tr>\n",
       "  </thead>\n",
       "  <tbody>\n",
       "    <tr>\n",
       "      <th>0</th>\n",
       "      <td>781341315</td>\n",
       "      <td>AMPICILLIN   INJ 2GM</td>\n",
       "      <td>1</td>\n",
       "      <td>5</td>\n",
       "      <td>0</td>\n",
       "      <td>0</td>\n",
       "      <td>2011-03-01</td>\n",
       "      <td>2011-04-08</td>\n",
       "      <td>2011-03-25</td>\n",
       "      <td>2011-04-13</td>\n",
       "      <td>...</td>\n",
       "      <td>112.0</td>\n",
       "      <td>29</td>\n",
       "      <td>32.0</td>\n",
       "      <td>8</td>\n",
       "      <td>0.00</td>\n",
       "      <td>1.10</td>\n",
       "      <td>2747.88</td>\n",
       "      <td>0.00</td>\n",
       "      <td>1.10</td>\n",
       "      <td>2747.88</td>\n",
       "    </tr>\n",
       "    <tr>\n",
       "      <th>1</th>\n",
       "      <td>40986003109</td>\n",
       "      <td>NICOTINE POL GUM 2MG MINT</td>\n",
       "      <td>2</td>\n",
       "      <td>2</td>\n",
       "      <td>0</td>\n",
       "      <td>0</td>\n",
       "      <td>2016-05-24</td>\n",
       "      <td>2016-12-10</td>\n",
       "      <td>2016-05-24</td>\n",
       "      <td>2016-12-10</td>\n",
       "      <td>...</td>\n",
       "      <td>40.0</td>\n",
       "      <td>4</td>\n",
       "      <td>40.0</td>\n",
       "      <td>4</td>\n",
       "      <td>0.00</td>\n",
       "      <td>0.00</td>\n",
       "      <td>14.33</td>\n",
       "      <td>0.00</td>\n",
       "      <td>0.00</td>\n",
       "      <td>9.30</td>\n",
       "    </tr>\n",
       "    <tr>\n",
       "      <th>2</th>\n",
       "      <td>47781026305</td>\n",
       "      <td>OXYCODONE    TAB 5MG</td>\n",
       "      <td>1570</td>\n",
       "      <td>5013</td>\n",
       "      <td>0</td>\n",
       "      <td>0</td>\n",
       "      <td>2014-04-25</td>\n",
       "      <td>2017-06-30</td>\n",
       "      <td>2014-04-25</td>\n",
       "      <td>2017-06-30</td>\n",
       "      <td>...</td>\n",
       "      <td>9690.0</td>\n",
       "      <td>930</td>\n",
       "      <td>540.0</td>\n",
       "      <td>90</td>\n",
       "      <td>3869.84</td>\n",
       "      <td>17249.18</td>\n",
       "      <td>77168.29</td>\n",
       "      <td>513.72</td>\n",
       "      <td>603.97</td>\n",
       "      <td>2551.69</td>\n",
       "    </tr>\n",
       "    <tr>\n",
       "      <th>3</th>\n",
       "      <td>10019002232</td>\n",
       "      <td>KETOROLAC    INJ 60MG/2ML</td>\n",
       "      <td>29</td>\n",
       "      <td>32</td>\n",
       "      <td>0</td>\n",
       "      <td>0</td>\n",
       "      <td>2008-03-13</td>\n",
       "      <td>2012-08-30</td>\n",
       "      <td>2008-03-13</td>\n",
       "      <td>2012-08-30</td>\n",
       "      <td>...</td>\n",
       "      <td>20.0</td>\n",
       "      <td>30</td>\n",
       "      <td>20.0</td>\n",
       "      <td>30</td>\n",
       "      <td>9.00</td>\n",
       "      <td>147.88</td>\n",
       "      <td>191.38</td>\n",
       "      <td>9.00</td>\n",
       "      <td>10.00</td>\n",
       "      <td>29.80</td>\n",
       "    </tr>\n",
       "    <tr>\n",
       "      <th>4</th>\n",
       "      <td>781197101</td>\n",
       "      <td>DESIPRAMINE  TAB 10MG</td>\n",
       "      <td>2078</td>\n",
       "      <td>9718</td>\n",
       "      <td>2078</td>\n",
       "      <td>9718</td>\n",
       "      <td>2008-01-02</td>\n",
       "      <td>2017-05-26</td>\n",
       "      <td>2008-01-02</td>\n",
       "      <td>2017-06-16</td>\n",
       "      <td>...</td>\n",
       "      <td>28350.0</td>\n",
       "      <td>4220</td>\n",
       "      <td>720.0</td>\n",
       "      <td>90</td>\n",
       "      <td>15042.91</td>\n",
       "      <td>102093.98</td>\n",
       "      <td>286972.54</td>\n",
       "      <td>627.47</td>\n",
       "      <td>1535.00</td>\n",
       "      <td>22936.43</td>\n",
       "    </tr>\n",
       "    <tr>\n",
       "      <th>5</th>\n",
       "      <td>89117000001</td>\n",
       "      <td>NASONEB NSL  MIS REPLACEM</td>\n",
       "      <td>1</td>\n",
       "      <td>1</td>\n",
       "      <td>0</td>\n",
       "      <td>0</td>\n",
       "      <td>2014-02-21</td>\n",
       "      <td>2014-02-21</td>\n",
       "      <td>2014-02-21</td>\n",
       "      <td>2014-02-21</td>\n",
       "      <td>...</td>\n",
       "      <td>1.0</td>\n",
       "      <td>1</td>\n",
       "      <td>1.0</td>\n",
       "      <td>1</td>\n",
       "      <td>0.00</td>\n",
       "      <td>153.28</td>\n",
       "      <td>0.00</td>\n",
       "      <td>0.00</td>\n",
       "      <td>153.28</td>\n",
       "      <td>0.00</td>\n",
       "    </tr>\n",
       "    <tr>\n",
       "      <th>6</th>\n",
       "      <td>332415530</td>\n",
       "      <td>AMOXICILLIN  SUS 250/5ML</td>\n",
       "      <td>2</td>\n",
       "      <td>2</td>\n",
       "      <td>0</td>\n",
       "      <td>0</td>\n",
       "      <td>2008-02-27</td>\n",
       "      <td>2011-01-06</td>\n",
       "      <td>2008-02-27</td>\n",
       "      <td>2012-03-12</td>\n",
       "      <td>...</td>\n",
       "      <td>150.0</td>\n",
       "      <td>10</td>\n",
       "      <td>150.0</td>\n",
       "      <td>10</td>\n",
       "      <td>0.00</td>\n",
       "      <td>11.40</td>\n",
       "      <td>10.00</td>\n",
       "      <td>0.00</td>\n",
       "      <td>11.40</td>\n",
       "      <td>10.00</td>\n",
       "    </tr>\n",
       "    <tr>\n",
       "      <th>7</th>\n",
       "      <td>49452439502</td>\n",
       "      <td>MEBENDAZOLE  POW</td>\n",
       "      <td>3</td>\n",
       "      <td>19</td>\n",
       "      <td>0</td>\n",
       "      <td>0</td>\n",
       "      <td>2013-07-21</td>\n",
       "      <td>2013-11-10</td>\n",
       "      <td>2013-11-10</td>\n",
       "      <td>2015-11-16</td>\n",
       "      <td>...</td>\n",
       "      <td>9.0</td>\n",
       "      <td>9</td>\n",
       "      <td>3.0</td>\n",
       "      <td>1</td>\n",
       "      <td>0.00</td>\n",
       "      <td>180.56</td>\n",
       "      <td>0.00</td>\n",
       "      <td>0.00</td>\n",
       "      <td>153.00</td>\n",
       "      <td>0.00</td>\n",
       "    </tr>\n",
       "    <tr>\n",
       "      <th>8</th>\n",
       "      <td>68645032054</td>\n",
       "      <td>OMEPRAZOLE   CAP 20MG</td>\n",
       "      <td>5329</td>\n",
       "      <td>59384</td>\n",
       "      <td>5329</td>\n",
       "      <td>59384</td>\n",
       "      <td>2012-04-17</td>\n",
       "      <td>2017-04-05</td>\n",
       "      <td>2012-04-17</td>\n",
       "      <td>2017-04-22</td>\n",
       "      <td>...</td>\n",
       "      <td>7800.0</td>\n",
       "      <td>3960</td>\n",
       "      <td>720.0</td>\n",
       "      <td>365</td>\n",
       "      <td>53827.40</td>\n",
       "      <td>357705.79</td>\n",
       "      <td>620360.81</td>\n",
       "      <td>1522.80</td>\n",
       "      <td>1522.80</td>\n",
       "      <td>4607.26</td>\n",
       "    </tr>\n",
       "    <tr>\n",
       "      <th>9</th>\n",
       "      <td>68330000210</td>\n",
       "      <td>CEFTRIAXONE  INJ 500MG</td>\n",
       "      <td>20</td>\n",
       "      <td>23</td>\n",
       "      <td>0</td>\n",
       "      <td>0</td>\n",
       "      <td>2008-10-17</td>\n",
       "      <td>2010-12-17</td>\n",
       "      <td>2008-12-07</td>\n",
       "      <td>2011-06-11</td>\n",
       "      <td>...</td>\n",
       "      <td>8.0</td>\n",
       "      <td>7</td>\n",
       "      <td>7.0</td>\n",
       "      <td>7</td>\n",
       "      <td>40.89</td>\n",
       "      <td>89.32</td>\n",
       "      <td>1012.24</td>\n",
       "      <td>40.89</td>\n",
       "      <td>40.89</td>\n",
       "      <td>193.43</td>\n",
       "    </tr>\n",
       "  </tbody>\n",
       "</table>\n",
       "<p>10 rows × 22 columns</p>\n",
       "</div>"
      ],
      "text/plain": [
       "   NationalDrugCode             NdcDescription  NumberOfPatients  \\\n",
       "0         781341315       AMPICILLIN   INJ 2GM                 1   \n",
       "1       40986003109  NICOTINE POL GUM 2MG MINT                 2   \n",
       "2       47781026305       OXYCODONE    TAB 5MG              1570   \n",
       "3       10019002232  KETOROLAC    INJ 60MG/2ML                29   \n",
       "4         781197101      DESIPRAMINE  TAB 10MG              2078   \n",
       "5       89117000001  NASONEB NSL  MIS REPLACEM                 1   \n",
       "6         332415530   AMOXICILLIN  SUS 250/5ML                 2   \n",
       "7       49452439502           MEBENDAZOLE  POW                 3   \n",
       "8       68645032054      OMEPRAZOLE   CAP 20MG              5329   \n",
       "9       68330000210     CEFTRIAXONE  INJ 500MG                20   \n",
       "\n",
       "   NumberOfClaims  NumberOfMaintenancePatients  NumberOfMaintenanceClaims  \\\n",
       "0               5                            0                          0   \n",
       "1               2                            0                          0   \n",
       "2            5013                            0                          0   \n",
       "3              32                            0                          0   \n",
       "4            9718                         2078                       9718   \n",
       "5               1                            0                          0   \n",
       "6               2                            0                          0   \n",
       "7              19                            0                          0   \n",
       "8           59384                         5329                      59384   \n",
       "9              23                            0                          0   \n",
       "\n",
       "  FirstDispenseDate LastDispenseDate FirstPaidDate LastPaidDate  ...  \\\n",
       "0        2011-03-01       2011-04-08    2011-03-25   2011-04-13  ...   \n",
       "1        2016-05-24       2016-12-10    2016-05-24   2016-12-10  ...   \n",
       "2        2014-04-25       2017-06-30    2014-04-25   2017-06-30  ...   \n",
       "3        2008-03-13       2012-08-30    2008-03-13   2012-08-30  ...   \n",
       "4        2008-01-02       2017-05-26    2008-01-02   2017-06-16  ...   \n",
       "5        2014-02-21       2014-02-21    2014-02-21   2014-02-21  ...   \n",
       "6        2008-02-27       2011-01-06    2008-02-27   2012-03-12  ...   \n",
       "7        2013-07-21       2013-11-10    2013-11-10   2015-11-16  ...   \n",
       "8        2012-04-17       2017-04-05    2012-04-17   2017-04-22  ...   \n",
       "9        2008-10-17       2010-12-17    2008-12-07   2011-06-11  ...   \n",
       "\n",
       "   MaxTotalQuantity  MaxTotalDaysSupply  MaxQuantity  MaxDaysSupply  \\\n",
       "0             112.0                  29         32.0              8   \n",
       "1              40.0                   4         40.0              4   \n",
       "2            9690.0                 930        540.0             90   \n",
       "3              20.0                  30         20.0             30   \n",
       "4           28350.0                4220        720.0             90   \n",
       "5               1.0                   1          1.0              1   \n",
       "6             150.0                  10        150.0             10   \n",
       "7               9.0                   9          3.0              1   \n",
       "8            7800.0                3960        720.0            365   \n",
       "9               8.0                   7          7.0              7   \n",
       "\n",
       "   TotalDeductibleAmount  TotalMemberOutOfPocketAmount  TotalPaidAmount  \\\n",
       "0                   0.00                          1.10          2747.88   \n",
       "1                   0.00                          0.00            14.33   \n",
       "2                3869.84                      17249.18         77168.29   \n",
       "3                   9.00                        147.88           191.38   \n",
       "4               15042.91                     102093.98        286972.54   \n",
       "5                   0.00                        153.28             0.00   \n",
       "6                   0.00                         11.40            10.00   \n",
       "7                   0.00                        180.56             0.00   \n",
       "8               53827.40                     357705.79        620360.81   \n",
       "9                  40.89                         89.32          1012.24   \n",
       "\n",
       "   MaxTotalDeductibleAmount  MaxTotalMemberOutOfPocketAmount  \\\n",
       "0                      0.00                             1.10   \n",
       "1                      0.00                             0.00   \n",
       "2                    513.72                           603.97   \n",
       "3                      9.00                            10.00   \n",
       "4                    627.47                          1535.00   \n",
       "5                      0.00                           153.28   \n",
       "6                      0.00                            11.40   \n",
       "7                      0.00                           153.00   \n",
       "8                   1522.80                          1522.80   \n",
       "9                     40.89                            40.89   \n",
       "\n",
       "   MaxTotalPaidAmount  \n",
       "0             2747.88  \n",
       "1                9.30  \n",
       "2             2551.69  \n",
       "3               29.80  \n",
       "4            22936.43  \n",
       "5                0.00  \n",
       "6               10.00  \n",
       "7                0.00  \n",
       "8             4607.26  \n",
       "9              193.43  \n",
       "\n",
       "[10 rows x 22 columns]"
      ]
     },
     "execution_count": 5,
     "metadata": {},
     "output_type": "execute_result"
    }
   ],
   "source": [
    "# Print table col names + example row\n",
    "\n",
    "tab = 'ConceptMedication'\n",
    "print([r['name'] for r in ins.get_columns(tab)])\n",
    "pd.read_sql(\"select top 10 * from %s order by newid()\" % tab, cxn)"
   ]
  },
  {
   "cell_type": "markdown",
   "metadata": {},
   "source": [
    "# Population characteristics"
   ]
  },
  {
   "cell_type": "code",
   "execution_count": 6,
   "metadata": {
    "tags": [
     "=>setup"
    ]
   },
   "outputs": [
    {
     "data": {
      "text/plain": [
       "<BarContainer object of 122 artists>"
      ]
     },
     "execution_count": 6,
     "metadata": {},
     "output_type": "execute_result"
    },
    {
     "data": {
      "image/png": "[encoded data removed]",
      "text/plain": [
       "<Figure size 720x432 with 1 Axes>"
      ]
     },
     "metadata": {
      "needs_background": "light"
     },
     "output_type": "display_data"
    }
   ],
   "source": [
    "# patients by birth year\n",
    "query = 'select BirthYearMinus1900+1900 as byear,count(MemberNum) as membersFromBY from Member with (nolock) group by BirthYearMinus1900'\n",
    "patients_by_birthyear = pd.read_sql(query, con=cxn, index_col='byear')\n",
    "patients_by_birthyear.dropna(axis=0, inplace=True)\n",
    "patients_by_birthyear.sort_values(by='byear', ascending=True,inplace=True)\n",
    "patients_by_birthyear['propTotalPatients'] = patients_by_birthyear.membersFromBY / patients_by_birthyear.membersFromBY.sum()\n",
    "\n",
    "plt.figure(figsize=(10, 6))\n",
    "plt.bar(x=patients_by_birthyear.index, height=patients_by_birthyear.propTotalPatients, align='center')"
   ]
  },
  {
   "cell_type": "markdown",
   "metadata": {},
   "source": [
    "## Glucose tests by age"
   ]
  },
  {
   "cell_type": "code",
   "execution_count": 7,
   "metadata": {},
   "outputs": [],
   "source": [
    "# temp table for glucose tests per patient\n",
    "glucose_lab_procs = ('82947', '')\n",
    "tmp_query = (\"select MemberNum, datepart(yyyy, DateServiceStarted) as year, LineLevelProcedureCode as cpt \"\n",
    "             \" into #hytmp from ObservationProcedure with (nolock) \"\n",
    "             \" where LineLevelProcedureCodeType='C' and LineLevelProcedureCode in %s;\" % str(glucose_lab_procs))\n",
    "cxn.execute(tmp_query)\n",
    "\n",
    "# count glucose measurements in each byear bucket per year\n",
    "query = (\"select t.year, count(*) as tests, t1.BirthYearMinus1900 + 1900 as byear\"\n",
    "        \" from (select MemberNum, BirthYearMinus1900 from Member) as t1 \"\n",
    "        \" join #hytmp as t on (t.MemberNum=t1.MemberNum)\"\n",
    "        \" group by year, t1.BirthYearMinus1900;\")\n",
    "glucose_per_year = pd.read_sql(query, cxn, index_col=['byear'])\n",
    "\n",
    "normalized_gpy = glucose_per_year.join(patients_by_birthyear, on='byear')\n",
    "normalized_gpy['testsPerMember'] = normalized_gpy.tests / normalized_gpy.membersFromBY\n",
    "normalized_gpy['age'] = normalized_gpy.year - normalized_gpy.index"
   ]
  },
  {
   "cell_type": "code",
   "execution_count": 8,
   "metadata": {},
   "outputs": [
    {
     "data": {
      "text/plain": [
       "<matplotlib.legend.Legend at 0x7fdd63a89f50>"
      ]
     },
     "execution_count": 8,
     "metadata": {},
     "output_type": "execute_result"
    },
    {
     "data": {
      "image/png": "[encoded data removed]",
      "text/plain": [
       "<Figure size 720x432 with 1 Axes>"
      ]
     },
     "metadata": {
      "needs_background": "light"
     },
     "output_type": "display_data"
    }
   ],
   "source": [
    "y_old = 2011\n",
    "y_new = 2016\n",
    "age_thres = 70\n",
    "\n",
    "old_data = normalized_gpy.loc[(normalized_gpy.year == y_old) & (normalized_gpy.age < age_thres)].sort_values(by='byear')\n",
    "new_data = normalized_gpy.loc[(normalized_gpy.year == y_new) & (normalized_gpy.age < age_thres)].sort_values(by='byear')\n",
    "\n",
    "fig = plt.figure(figsize=(10, 6))\n",
    "ax = plt.subplot(111)\n",
    "old_bars = ax.bar(x=old_data.age.values-.5, height=old_data.testsPerMember, align='edge', width=.5, color=mpl.cm.viridis(.2))\n",
    "new_bars = ax.bar(x=new_data.age.values, height=new_data.testsPerMember, align='edge', width=.5, color=mpl.cm.viridis(.8))\n",
    "# ax.bar(x=patients_by_birthyear.index, height=patients_by_birthyear.propTotalPatients, align='center')\n",
    "\n",
    "plt.xlabel('Age')\n",
    "plt.ylabel('glucose tests per member in year')\n",
    "ax.legend(handles=[old_bars, new_bars], labels=[y_old, y_new])"
   ]
  },
  {
   "cell_type": "markdown",
   "metadata": {},
   "source": [
    "## Age"
   ]
  },
  {
   "cell_type": "code",
   "execution_count": 18,
   "metadata": {
    "ExecuteTime": {
     "end_time": "2019-08-02T21:32:57.490598Z",
     "start_time": "2019-08-02T21:32:57.472623Z"
    }
   },
   "outputs": [],
   "source": [
    "def age_histogram(group_table=None, cxn=cxn, ax=None, **plot_params):\n",
    "    if group_table is None:\n",
    "        query = (\"select 119 - BirthYearMinus1900 as age, count(*) as ageCount\"\n",
    "                \" from gmw3.dbo.Member\"\n",
    "                \" group by BirthYearMinus1900\")\n",
    "    else:\n",
    "        query = (\"select 119 - BirthYearMinus1900 as age, count(*) as ageCount\"\n",
    "                \" from gmw3.dbo.Member as t1\"\n",
    "                \" inner join %s as t2\"\n",
    "                \" on t1.MemberNum=t2.MemberNum\"\n",
    "                \" group by BirthYearMinus1900\"\n",
    "                % group_table)\n",
    "        \n",
    "    results = pd.read_sql(query, cxn)\n",
    "    if not ax: ax = plt.subplot(111)\n",
    "    ax.bar(x=results.age.values, height=results.ageCount, **plot_params)\n",
    "    return results"
   ]
  },
  {
   "cell_type": "code",
   "execution_count": 103,
   "metadata": {
    "ExecuteTime": {
     "end_time": "2019-08-02T16:33:31.647704Z",
     "start_time": "2019-08-02T16:33:26.772633Z"
    },
    "scrolled": true
   },
   "outputs": [
    {
     "data": {
      "image/png": "[encoded data removed]",
      "text/plain": [
       "<Figure size 864x288 with 1 Axes>"
      ]
     },
     "metadata": {
      "needs_background": "light"
     },
     "output_type": "display_data"
    }
   ],
   "source": [
    "plt.figure(figsize=(12, 4))\n",
    "ages = age_histogram()"
   ]
  },
  {
   "cell_type": "markdown",
   "metadata": {},
   "source": [
    "## Fact count"
   ]
  },
  {
   "cell_type": "code",
   "execution_count": 19,
   "metadata": {},
   "outputs": [],
   "source": [
    "def default_enroll_window(select_cols,\n",
    "                          claims_table, \n",
    "                          claim_date_col,\n",
    "                          enrollment_table=f'{hy_db}.dbo.EnrollFourPlusYears', \n",
    "                          window_date_col='enrollDatePlusFourYears',\n",
    "                          enroll_date_col='enrollDate',\n",
    "                          join_col='MemberNum'):\n",
    "    \n",
    "    select_cols.append(f't1.{join_col}')\n",
    "    return (f\"select {','.join(select_cols)}\"\n",
    "       f\" from {claims_table} as t1 inner join {enrollment_table} as t2\"\n",
    "       f\" on t1.{join_col}=t2.{join_col}\"\n",
    "       f\" where {claim_date_col} between {enroll_date_col} and {window_date_col}\")"
   ]
  },
  {
   "cell_type": "code",
   "execution_count": 20,
   "metadata": {
    "ExecuteTime": {
     "end_time": "2019-08-05T20:38:12.406757Z",
     "start_time": "2019-08-05T20:38:12.397926Z"
    }
   },
   "outputs": [],
   "source": [
    "def fact_count_histogram(group_table=None, \n",
    "                         enrollment_table=f'{hy_db}.dbo.EnrollFourPlusYears', \n",
    "                         window_date_col='enrollDatePlusFourYears', \n",
    "                         claims_table='ObservationDiagnosis',\n",
    "                         claim_date_col='StartDate',\n",
    "                         join_col='MemberNum',\n",
    "                         cxn=cxn, \n",
    "                         ax=None, \n",
    "                         **plot_params):\n",
    "    if group_table is None:\n",
    "        query = (f\"drop table if exists {hy_db}.dbo.memberFactCount;\"\n",
    "                \" select t2.MemberNum, count(*) as factCount\"\n",
    "               f\" into {hy_db}.dbo.memberFactCount\"\n",
    "               f\" from (select {join_col}, {window_date_col} from {enrollment_table}) as t2\"\n",
    "               f\"  inner join (select {join_col}, {claim_date_col} from {claims_table}) as t3\"\n",
    "               f\"   on t2.{join_col}=t3.{join_col}\"\n",
    "               f\" where {claim_date_col} < {window_date_col}\"\n",
    "               f\" group by t2.{join_col}\"\n",
    "                )\n",
    "    else:\n",
    "        query = (f\"drop table if exists {hy_db}.dbo.memberFactCount;\"\n",
    "                \" select t2.MemberNum, count(*) as factCount\"\n",
    "               f\" into {hy_db}.dbo.memberFactCount\"\n",
    "               f\" from {group_table} as t1\"\n",
    "               f\"  inner join (select {join_col}, {window_date_col} from {enrollment_table}) as t2\"\n",
    "               f\"   on t1.{join_col}=t2.{join_col}\"\n",
    "               f\"  inner join (select {join_col}, {claim_date_col} from {claims_table}) as t3\"\n",
    "               f\"   on t2.{join_col}=t3.{join_col}\"\n",
    "               f\" where {claim_date_col} < {window_date_col}\"\n",
    "               f\" group by t2.{join_col}\"\n",
    "                )\n",
    "    cxn.execute(query)\n",
    "    \n",
    "    hist_query = (\"select factCount, count(*) as countCount\"\n",
    "                f\" from {hy_db}.dbo.memberFactCount\"\n",
    "                 \" group by factCount\")\n",
    "        \n",
    "    results = pd.read_sql(hist_query, cxn)\n",
    "    if not ax: ax = plt.subplot(111)\n",
    "    sns.distplot(results.factCount, hist_kws={'weights': results.countCount, 'log':True}, **plot_params)\n",
    "    return results"
   ]
  },
  {
   "cell_type": "code",
   "execution_count": 36,
   "metadata": {
    "ExecuteTime": {
     "end_time": "2019-08-05T20:40:29.619564Z",
     "start_time": "2019-08-05T20:39:46.244867Z"
    }
   },
   "outputs": [
    {
     "data": {
      "image/png": "[encoded data removed]",
      "text/plain": [
       "<Figure size 432x288 with 1 Axes>"
      ]
     },
     "metadata": {},
     "output_type": "display_data"
    }
   ],
   "source": [
    "hist = fact_count_histogram()"
   ]
  },
  {
   "cell_type": "markdown",
   "metadata": {},
   "source": [
    "# eMerge T2DM algorithm"
   ]
  },
  {
   "cell_type": "code",
   "execution_count": 21,
   "metadata": {
    "ExecuteTime": {
     "end_time": "2019-07-30T21:20:11.586820Z",
     "start_time": "2019-07-30T21:20:07.202653Z"
    }
   },
   "outputs": [
    {
     "data": {
      "text/html": [
       "<div>\n",
       "<style scoped>\n",
       "    .dataframe tbody tr th:only-of-type {\n",
       "        vertical-align: middle;\n",
       "    }\n",
       "\n",
       "    .dataframe tbody tr th {\n",
       "        vertical-align: top;\n",
       "    }\n",
       "\n",
       "    .dataframe thead th {\n",
       "        text-align: right;\n",
       "    }\n",
       "</style>\n",
       "<table border=\"1\" class=\"dataframe\">\n",
       "  <thead>\n",
       "    <tr style=\"text-align: right;\">\n",
       "      <th></th>\n",
       "      <th></th>\n",
       "    </tr>\n",
       "  </thead>\n",
       "  <tbody>\n",
       "    <tr>\n",
       "      <th>0</th>\n",
       "      <td>3872080</td>\n",
       "    </tr>\n",
       "  </tbody>\n",
       "</table>\n",
       "</div>"
      ],
      "text/plain": [
       "          \n",
       "0  3872080"
      ]
     },
     "execution_count": 21,
     "metadata": {},
     "output_type": "execute_result"
    }
   ],
   "source": [
    "glucose_tests_loinc = ('1558-6', '2339-0', '2345-7')\n",
    "a1c_tests_loinc = ('4548-4', '17856-6', '4549-2', '17855-8')\n",
    "\n",
    "glucose_max = 110.\n",
    "a1c_max = 6.\n",
    "\n",
    "abnormal_labs_query = (\"drop table if exists #abnormalLabs;\"\n",
    "                      \" select *\"\n",
    "                      \" into #abnormalLabs\"\n",
    "                      \" from GlucoseLabs\"\n",
    "                      \" where (LoincCode in %s and TestResultValue > %f) or (LoincCode in %s and TestResultValue > %f)\"\n",
    "                       % (glucose_tests_loinc, glucose_max, a1c_tests_loinc, a1c_max))\n",
    "hy_cxn.execute(abnormal_labs_query)\n",
    "pd.read_sql('select count(*) from #abnormalLabs', hy_cxn)"
   ]
  },
  {
   "cell_type": "markdown",
   "metadata": {},
   "source": [
    "## Cases"
   ]
  },
  {
   "cell_type": "code",
   "execution_count": 23,
   "metadata": {
    "ExecuteTime": {
     "end_time": "2019-07-30T21:21:42.473092Z",
     "start_time": "2019-07-30T21:21:36.404793Z"
    }
   },
   "outputs": [
    {
     "name": "stdout",
     "output_type": "stream",
     "text": [
      "35452\n",
      "216735\n",
      "302626\n",
      "8643\n",
      "73930\n"
     ]
    }
   ],
   "source": [
    "# t2d dx + rx for both t1d and t2d + first treated for t2d\n",
    "gr1_query = (\"drop table if exists #t2dCaseGroup1;\"\n",
    "            \" select distinct t1.MemberNum\"\n",
    "            \" into #t2dCaseGroup1\"\n",
    "            \" from (select MemberNum from DxT2dm) as t1\"\n",
    "            \"      inner join (select MemberNum, min(DispenseDate) as firstRxT1dm from RxT1Dm group by MemberNum) as t2\"\n",
    "            \"        on t1.MemberNum=t2.MemberNum\"\n",
    "            \"      inner join (select MemberNum, min(DispenseDate) as firstRxT2dm from RxT2Dm group by MemberNum) as t3\"\n",
    "            \"        on t2.MemberNum=t3.MemberNum\"\n",
    "            \" where firstRxT2dm < firstRxT1dm\"\n",
    "            )\n",
    "hy_cxn.execute(gr1_query)\n",
    "print(hy_cxn.execute('select count(*) from #t2dCaseGroup1').fetchone()[0])\n",
    "\n",
    "# t2d dx + rx for t2d but not t1d\n",
    "gr2_query = (\"drop table if exists #t2dCaseGroup2;\"\n",
    "            \" select distinct t1.MemberNum\"\n",
    "            \" into #t2dCaseGroup2\"\n",
    "            \" from (select distinct MemberNum from DxT2dm) as t1\"\n",
    "            \"      inner join (select distinct MemberNum from RxT2Dm) as t2\"\n",
    "            \"        on t1.MemberNum=t2.MemberNum;\"\n",
    "            \" delete from #t2dCaseGroup2\"\n",
    "            \" where MemberNum in (select MemberNum from RxT1Dm)\"\n",
    "            )\n",
    "hy_cxn.execute(gr2_query)\n",
    "print(hy_cxn.execute('select count(*) from #t2dCaseGroup2').fetchone()[0])\n",
    "\n",
    "# t2d dx + no rx + abnormal labs\n",
    "gr3_query = (\"drop table if exists #t2dCaseGroup3;\"\n",
    "            \" select distinct t1.MemberNum\"\n",
    "            \" into #t2dCaseGroup3\"\n",
    "            \" from (select distinct MemberNum from DxT2dm) as t1\"\n",
    "            \"      inner join (select distinct MemberNum from #abnormalLabs) as t2\"\n",
    "            \"        on t1.MemberNum=t2.MemberNum;\"\n",
    "            \" delete from #t2dCaseGroup3\"\n",
    "            \" where MemberNum in (select MemberNum from RxT1Dm union select MemberNum from RxT2Dm)\"\n",
    "            )\n",
    "hy_cxn.execute(gr3_query)\n",
    "print(hy_cxn.execute('select count(*) from #t2dCaseGroup3').fetchone()[0])\n",
    "\n",
    "# No t2d dx + t2d rx + abnormal lab\n",
    "gr4_query = (\"drop table if exists #t2dCaseGroup4;\"\n",
    "            \" select distinct t1.MemberNum\"\n",
    "            \" into #t2dCaseGroup4\"\n",
    "            \" from (select distinct MemberNum from #abnormalLabs) as t1\"\n",
    "            \"      inner join (select distinct MemberNum from RxT2Dm) as t2\"\n",
    "            \"        on t1.MemberNum=t2.MemberNum;\"\n",
    "            \" delete from #t2dCaseGroup4\"\n",
    "            \" where MemberNum in (select distinct MemberNum from DxT2dm)\"\n",
    "            )\n",
    "hy_cxn.execute(gr4_query)\n",
    "print(hy_cxn.execute('select count(*) from #t2dCaseGroup4').fetchone()[0])\n",
    "\n",
    "# at least 2 separate t2d dx + rx for t1d but not t2d\n",
    "gr5_query = (\"drop table if exists #t2dCaseGroup5;\"\n",
    "            \" select distinct t1.MemberNum\"\n",
    "            \" into #t2dCaseGroup5\"\n",
    "            \" from (select distinct MemberNum, count(*) as totNumClaims from DxT2dm group by MemberNum) as t1\"\n",
    "            \"      inner join (select distinct MemberNum from RxT1Dm) as t2\"\n",
    "            \"        on t1.MemberNum=t2.MemberNum\"\n",
    "            \" where totNumClaims > 1\"\n",
    "            \" delete from #t2dCaseGroup2\"\n",
    "            \" where MemberNum in (select MemberNum from RxT2Dm)\"\n",
    "            )\n",
    "hy_cxn.execute(gr5_query)\n",
    "print(hy_cxn.execute('select count(*) from #t2dCaseGroup5').fetchone()[0])\n"
   ]
  },
  {
   "cell_type": "code",
   "execution_count": 24,
   "metadata": {
    "ExecuteTime": {
     "end_time": "2019-07-30T21:21:44.505240Z",
     "start_time": "2019-07-30T21:21:42.477320Z"
    }
   },
   "outputs": [
    {
     "data": {
      "text/html": [
       "<div>\n",
       "<style scoped>\n",
       "    .dataframe tbody tr th:only-of-type {\n",
       "        vertical-align: middle;\n",
       "    }\n",
       "\n",
       "    .dataframe tbody tr th {\n",
       "        vertical-align: top;\n",
       "    }\n",
       "\n",
       "    .dataframe thead th {\n",
       "        text-align: right;\n",
       "    }\n",
       "</style>\n",
       "<table border=\"1\" class=\"dataframe\">\n",
       "  <thead>\n",
       "    <tr style=\"text-align: right;\">\n",
       "      <th></th>\n",
       "      <th></th>\n",
       "    </tr>\n",
       "  </thead>\n",
       "  <tbody>\n",
       "    <tr>\n",
       "      <th>0</th>\n",
       "      <td>289113</td>\n",
       "    </tr>\n",
       "  </tbody>\n",
       "</table>\n",
       "</div>"
      ],
      "text/plain": [
       "         \n",
       "0  289113"
      ]
     },
     "execution_count": 24,
     "metadata": {},
     "output_type": "execute_result"
    }
   ],
   "source": [
    "case_query = (\"drop table if exists t2dCaseEmerge;\"\n",
    "             \" select distinct MemberNum\"\n",
    "             \" into t2dCaseEmerge\"\n",
    "             \" from (select * from #t2dCaseGroup1 union select * from #t2dCaseGroup2 union select * from #t2dCaseGroup3 union select * from #t2dCaseGroup4 union select * from #t2dCaseGroup5) as t1;\"\n",
    "             \" delete from t2dCaseEmerge\"\n",
    "             \" where MemberNum in (select MemberNum from DxT1dm)\"\n",
    "             )\n",
    "hy_cxn.execute(case_query)\n",
    "\n",
    "pd.read_sql('select count(*) from t2dCaseEmerge', hy_cxn)"
   ]
  },
  {
   "cell_type": "code",
   "execution_count": 12,
   "metadata": {
    "ExecuteTime": {
     "end_time": "2019-08-06T22:13:19.422454Z",
     "start_time": "2019-08-06T22:13:18.513992Z"
    }
   },
   "outputs": [
    {
     "data": {
      "image/png": "[encoded data removed]",
      "text/plain": [
       "<Figure size 864x288 with 1 Axes>"
      ]
     },
     "metadata": {},
     "output_type": "display_data"
    }
   ],
   "source": [
    "plt.figure(figsize=(12, 4))\n",
    "dist = age_histogram(group_table=f'{hy_db}.dbo.t2dCaseEmerge')"
   ]
  },
  {
   "cell_type": "code",
   "execution_count": 37,
   "metadata": {
    "ExecuteTime": {
     "end_time": "2019-08-05T20:49:05.656483Z",
     "start_time": "2019-08-05T20:48:49.002297Z"
    }
   },
   "outputs": [
    {
     "data": {
      "image/png": "[encoded data removed]",
      "text/plain": [
       "<Figure size 432x288 with 1 Axes>"
      ]
     },
     "metadata": {},
     "output_type": "display_data"
    }
   ],
   "source": [
    "hist = fact_count_histogram(group_table=f'{hy_db}.dbo.t2dCaseEmerge')"
   ]
  },
  {
   "cell_type": "markdown",
   "metadata": {},
   "source": [
    "### Enrollment prior to first diagnosis"
   ]
  },
  {
   "cell_type": "code",
   "execution_count": 167,
   "metadata": {
    "ExecuteTime": {
     "end_time": "2019-08-02T21:35:34.024494Z",
     "start_time": "2019-08-02T21:33:37.657728Z"
    }
   },
   "outputs": [
    {
     "data": {
      "text/html": [
       "<div>\n",
       "<style scoped>\n",
       "    .dataframe tbody tr th:only-of-type {\n",
       "        vertical-align: middle;\n",
       "    }\n",
       "\n",
       "    .dataframe tbody tr th {\n",
       "        vertical-align: top;\n",
       "    }\n",
       "\n",
       "    .dataframe thead th {\n",
       "        text-align: right;\n",
       "    }\n",
       "</style>\n",
       "<table border=\"1\" class=\"dataframe\">\n",
       "  <thead>\n",
       "    <tr style=\"text-align: right;\">\n",
       "      <th></th>\n",
       "      <th></th>\n",
       "    </tr>\n",
       "  </thead>\n",
       "  <tbody>\n",
       "    <tr>\n",
       "      <th>0</th>\n",
       "      <td>76705</td>\n",
       "    </tr>\n",
       "  </tbody>\n",
       "</table>\n",
       "</div>"
      ],
      "text/plain": [
       "        \n",
       "0  76705"
      ]
     },
     "execution_count": 167,
     "metadata": {},
     "output_type": "execute_result"
    }
   ],
   "source": [
    "firstdx_query = (\"drop table if exists #firstDx;\"\n",
    "               \" select t1.MemberNum, min(date) as firstDxDate\"\n",
    "               \" into #firstDx\"\n",
    "               \" from t2dCaseEmerge as t1 inner join DxT2dm as t2\"\n",
    "               \" on t1.MemberNum=t2.MemberNum\"\n",
    "               \" group by t1.MemberNum\"\n",
    "                )\n",
    "firstdxmonth_query = (\"drop table if exists #firstDxMonth;\"\n",
    "               \" select MemberNum, firstDxDate, EffectiveDate, OriginalEffectiveDate\"\n",
    "               \" into #firstDxMonth\"\n",
    "               \" from #firstDx as t1 inner join AetnaDataWarehouse.dbo.Enrollment as t2\"\n",
    "               \" on MemberNum=CAST(MemberID AS BIGINT) and EffectiveDate=DATEADD(DAY, 1, EOMONTH(firstDxDate, -1)) \"\n",
    "                     )\n",
    "denovo_query = (\"drop table if exists #deNovo;\"\n",
    "               \" select MemberNum, firstDxDate\"\n",
    "               \" into #deNovo\"\n",
    "               \" from #firstDxMonth\"\n",
    "               \" where datediff(m, IIF(OriginalEffectiveDate > '20080101', OriginalEffectiveDate, '20080101'), EffectiveDate) > 9\"\n",
    "               )\n",
    "\n",
    "hy_cxn.execute(';'.join([firstdx_query, firstdxmonth_query, denovo_query]))\n",
    "pd.read_sql('select count(*) from #deNovo', hy_cxn)"
   ]
  },
  {
   "cell_type": "code",
   "execution_count": 80,
   "metadata": {
    "ExecuteTime": {
     "end_time": "2019-08-08T17:06:15.821182Z",
     "start_time": "2019-08-08T17:06:15.354092Z"
    },
    "scrolled": true
   },
   "outputs": [],
   "source": [
    "times = pd.read_sql(\"select datediff(m, IIF(OriginalEffectiveDate > '20080101', OriginalEffectiveDate, '20080101'), firstDxDate) from #firstDxMonth\", hy_cxn)"
   ]
  },
  {
   "cell_type": "code",
   "execution_count": 81,
   "metadata": {
    "ExecuteTime": {
     "end_time": "2019-08-08T17:06:16.610824Z",
     "start_time": "2019-08-08T17:06:15.824071Z"
    }
   },
   "outputs": [
    {
     "data": {
      "text/plain": [
       "<matplotlib.axes._subplots.AxesSubplot at 0x7fdb1ef2da10>"
      ]
     },
     "execution_count": 81,
     "metadata": {},
     "output_type": "execute_result"
    },
    {
     "data": {
      "image/png": "[encoded data removed]",
      "text/plain": [
       "<Figure size 432x288 with 1 Axes>"
      ]
     },
     "metadata": {
      "needs_background": "light"
     },
     "output_type": "display_data"
    }
   ],
   "source": [
    "sns.distplot(times, kde=False)"
   ]
  },
  {
   "cell_type": "code",
   "execution_count": 178,
   "metadata": {
    "ExecuteTime": {
     "end_time": "2019-08-03T13:41:14.794932Z",
     "start_time": "2019-08-03T13:41:13.902897Z"
    }
   },
   "outputs": [
    {
     "data": {
      "image/png": "[encoded data removed]",
      "text/plain": [
       "<Figure size 1152x288 with 1 Axes>"
      ]
     },
     "metadata": {
      "needs_background": "light"
     },
     "output_type": "display_data"
    }
   ],
   "source": [
    "plt.figure(figsize=(16, 4))\n",
    "dist = age_histogram('#deNovo', cxn=hy_cxn)"
   ]
  },
  {
   "cell_type": "markdown",
   "metadata": {},
   "source": [
    "## Controls"
   ]
  },
  {
   "cell_type": "code",
   "execution_count": 25,
   "metadata": {
    "ExecuteTime": {
     "end_time": "2019-07-30T21:21:52.549803Z",
     "start_time": "2019-07-30T21:21:44.702570Z"
    }
   },
   "outputs": [
    {
     "data": {
      "text/html": [
       "<div>\n",
       "<style scoped>\n",
       "    .dataframe tbody tr th:only-of-type {\n",
       "        vertical-align: middle;\n",
       "    }\n",
       "\n",
       "    .dataframe tbody tr th {\n",
       "        vertical-align: top;\n",
       "    }\n",
       "\n",
       "    .dataframe thead th {\n",
       "        text-align: right;\n",
       "    }\n",
       "</style>\n",
       "<table border=\"1\" class=\"dataframe\">\n",
       "  <thead>\n",
       "    <tr style=\"text-align: right;\">\n",
       "      <th></th>\n",
       "      <th></th>\n",
       "    </tr>\n",
       "  </thead>\n",
       "  <tbody>\n",
       "    <tr>\n",
       "      <th>0</th>\n",
       "      <td>2288032</td>\n",
       "    </tr>\n",
       "  </tbody>\n",
       "</table>\n",
       "</div>"
      ],
      "text/plain": [
       "          \n",
       "0  2288032"
      ]
     },
     "execution_count": 25,
     "metadata": {},
     "output_type": "execute_result"
    }
   ],
   "source": [
    "# Keep patients with multiple visits & any glucose lab value \n",
    "pos_query = (\"drop table if exists t2dControlEmerge;\"\n",
    "            \" select t1.MemberNum\"\n",
    "            \" into t2dControlEmerge\"\n",
    "            \" from (select distinct MemberNum from VisitCount where visits > 1) as t1\"\n",
    "            \" inner join (select distinct MemberNum from GlucoseLabs) as t2\"\n",
    "            \" on t1.MemberNum=t2.MemberNum\")\n",
    "\n",
    "# Remove patients with DM dx (incl family hx) or abnormal labs\n",
    "neg_query = (\"delete from t2dControlEmerge\"\n",
    "            \" where MemberNum in\"\n",
    "            \" (select distinct MemberNum from DxDm\"\n",
    "            \"  union select distinct MemberNum from #abnormalLabs\"\n",
    "            \"  union select distinct MemberNum from RxDm)\")\n",
    "\n",
    "hy_cxn.execute(';'.join([pos_query, neg_query]))\n",
    "pd.read_sql('select count(*) from t2dControlEmerge', hy_cxn)"
   ]
  },
  {
   "cell_type": "code",
   "execution_count": 8,
   "metadata": {
    "ExecuteTime": {
     "end_time": "2019-08-06T18:42:00.880414Z",
     "start_time": "2019-08-06T18:42:00.226854Z"
    }
   },
   "outputs": [
    {
     "data": {
      "image/png": "[encoded data removed]",
      "text/plain": [
       "<Figure size 864x288 with 1 Axes>"
      ]
     },
     "metadata": {},
     "output_type": "display_data"
    }
   ],
   "source": [
    "plt.figure(figsize=(12, 4))\n",
    "dist = age_histogram(group_table=f'{hy_db}.dbo.t2dControlEmerge')"
   ]
  },
  {
   "cell_type": "markdown",
   "metadata": {},
   "source": [
    "### Ignoring lab tests"
   ]
  },
  {
   "cell_type": "code",
   "execution_count": 105,
   "metadata": {
    "ExecuteTime": {
     "end_time": "2019-08-02T16:33:48.558078Z",
     "start_time": "2019-08-02T16:33:35.973577Z"
    },
    "hide_input": false
   },
   "outputs": [
    {
     "data": {
      "text/html": [
       "<div>\n",
       "<style scoped>\n",
       "    .dataframe tbody tr th:only-of-type {\n",
       "        vertical-align: middle;\n",
       "    }\n",
       "\n",
       "    .dataframe tbody tr th {\n",
       "        vertical-align: top;\n",
       "    }\n",
       "\n",
       "    .dataframe thead th {\n",
       "        text-align: right;\n",
       "    }\n",
       "</style>\n",
       "<table border=\"1\" class=\"dataframe\">\n",
       "  <thead>\n",
       "    <tr style=\"text-align: right;\">\n",
       "      <th></th>\n",
       "      <th></th>\n",
       "    </tr>\n",
       "  </thead>\n",
       "  <tbody>\n",
       "    <tr>\n",
       "      <th>0</th>\n",
       "      <td>8062907</td>\n",
       "    </tr>\n",
       "  </tbody>\n",
       "</table>\n",
       "</div>"
      ],
      "text/plain": [
       "          \n",
       "0  8062907"
      ]
     },
     "execution_count": 105,
     "metadata": {},
     "output_type": "execute_result"
    }
   ],
   "source": [
    "# Keep patients with multiple visits & any glucose lab value \n",
    "pos_query = (\"drop table if exists t2dControlEmergeIgnoreLab;\"\n",
    "            \" select t1.MemberNum\"\n",
    "            \" into t2dControlEmergeIgnoreLab\"\n",
    "            \" from (select distinct MemberNum from VisitCount where visits > 1) as t1\"\n",
    "            )\n",
    "\n",
    "# Remove patients with DM dx (incl family hx)\n",
    "neg_query = (\"delete from t2dControlEmergeIgnoreLab\"\n",
    "            \" where MemberNum in\"\n",
    "            \" (select distinct MemberNum from DxDm\"\n",
    "            \"  union select distinct MemberNum from RxDm)\")\n",
    "\n",
    "hy_cxn.execute(';'.join([pos_query, neg_query]))\n",
    "pd.read_sql('select count(*) from t2dControlEmergeIgnoreLab', hy_cxn)"
   ]
  },
  {
   "cell_type": "code",
   "execution_count": 107,
   "metadata": {
    "ExecuteTime": {
     "end_time": "2019-08-02T16:37:07.834557Z",
     "start_time": "2019-08-02T16:37:01.653574Z"
    },
    "hide_input": false,
    "scrolled": true
   },
   "outputs": [
    {
     "data": {
      "image/png": "[encoded data removed]",
      "text/plain": [
       "<Figure size 864x288 with 1 Axes>"
      ]
     },
     "metadata": {},
     "output_type": "display_data"
    }
   ],
   "source": [
    "plt.figure(figsize=(12, 4))\n",
    "hist = age_histogram(group_table=f'{hy_db}.dbo.t2dControlEmergeIgnoreLab')"
   ]
  },
  {
   "cell_type": "markdown",
   "metadata": {},
   "source": [
    "### Ignore lab value"
   ]
  },
  {
   "cell_type": "code",
   "execution_count": 170,
   "metadata": {
    "ExecuteTime": {
     "end_time": "2019-08-03T02:19:23.863103Z",
     "start_time": "2019-08-03T02:18:58.006159Z"
    }
   },
   "outputs": [],
   "source": [
    "pos_query = (\"drop table if exists t2dControlEmergeIgnoreLabValue;\"\n",
    "            \" select t1.MemberNum\"\n",
    "            \" into t2dControlEmergeIgnoreLabValue\"\n",
    "            \" from (select distinct MemberNum from VisitCount where visits > 1) as t1\"\n",
    "            \" inner join (select distinct MemberNum from GlucoseLabs union select distinct MemberNum from GlucoseLabsCPT) as t2\"\n",
    "            \" on t1.MemberNum=t2.MemberNum\")\n",
    "\n",
    "# Remove patients with DM dx (incl family hx) or abnormal labs\n",
    "neg_query = (\"delete from t2dControlEmergeIgnoreLabValue\"\n",
    "            \" where MemberNum in\"\n",
    "            \" (select distinct MemberNum from DxDm\"\n",
    "            \"  union select distinct MemberNum from RxDm)\")\n",
    "\n",
    "hy_cxn.execute(';'.join([pos_query, neg_query]))\n",
    "pd.read_sql('select count(*) from t2dControlEmergeIgnoreLabValue', hy_cxn)"
   ]
  },
  {
   "cell_type": "code",
   "execution_count": 22,
   "metadata": {
    "ExecuteTime": {
     "end_time": "2019-08-06T18:43:26.130558Z",
     "start_time": "2019-08-06T18:43:25.425864Z"
    }
   },
   "outputs": [
    {
     "data": {
      "image/png": "[encoded data removed]",
      "text/plain": [
       "<Figure size 864x288 with 1 Axes>"
      ]
     },
     "metadata": {
      "needs_background": "light"
     },
     "output_type": "display_data"
    }
   ],
   "source": [
    "plt.figure(figsize=(12, 4))\n",
    "hist = age_histogram(group_table=f'{hy_db}.dbo.t2dControlEmergeIgnoreLabValue')"
   ]
  },
  {
   "cell_type": "markdown",
   "metadata": {},
   "source": [
    "### No lab test"
   ]
  },
  {
   "cell_type": "code",
   "execution_count": 109,
   "metadata": {
    "ExecuteTime": {
     "end_time": "2019-08-02T17:13:28.427326Z",
     "start_time": "2019-08-02T17:12:59.069534Z"
    }
   },
   "outputs": [
    {
     "data": {
      "text/html": [
       "<div>\n",
       "<style scoped>\n",
       "    .dataframe tbody tr th:only-of-type {\n",
       "        vertical-align: middle;\n",
       "    }\n",
       "\n",
       "    .dataframe tbody tr th {\n",
       "        vertical-align: top;\n",
       "    }\n",
       "\n",
       "    .dataframe thead th {\n",
       "        text-align: right;\n",
       "    }\n",
       "</style>\n",
       "<table border=\"1\" class=\"dataframe\">\n",
       "  <thead>\n",
       "    <tr style=\"text-align: right;\">\n",
       "      <th></th>\n",
       "      <th></th>\n",
       "    </tr>\n",
       "  </thead>\n",
       "  <tbody>\n",
       "    <tr>\n",
       "      <th>0</th>\n",
       "      <td>3397361</td>\n",
       "    </tr>\n",
       "  </tbody>\n",
       "</table>\n",
       "</div>"
      ],
      "text/plain": [
       "          \n",
       "0  3397361"
      ]
     },
     "execution_count": 109,
     "metadata": {},
     "output_type": "execute_result"
    }
   ],
   "source": [
    "# Keep patients with multiple visits & any glucose lab value \n",
    "pos_query = (\"drop table if exists t2dControlEmergeNoLab;\"\n",
    "            \" select t1.MemberNum\"\n",
    "            \" into t2dControlEmergeNoLab\"\n",
    "            \" from (select distinct MemberNum from VisitCount where visits > 1) as t1\"\n",
    "            )\n",
    "\n",
    "# Remove patients with DM dx (incl family hx) and documented lab test\n",
    "neg_query = (\"delete from t2dControlEmergeNoLab\"\n",
    "            \" where MemberNum in\"\n",
    "            \" (select distinct MemberNum from DxDm\"\n",
    "            \"  union select distinct MemberNum from RxDm\"\n",
    "            \"  union select distinct MemberNum from GlucoseLabs\"\n",
    "            \"  union select distinct MemberNum from GlucoseLabsCPT)\"\n",
    "            )\n",
    "\n",
    "hy_cxn.execute(';'.join([pos_query, neg_query]))\n",
    "pd.read_sql('select count(*) from t2dControlEmergeNoLab', hy_cxn)"
   ]
  },
  {
   "cell_type": "code",
   "execution_count": 110,
   "metadata": {
    "ExecuteTime": {
     "end_time": "2019-08-02T17:16:07.718323Z",
     "start_time": "2019-08-02T17:16:02.905903Z"
    },
    "hide_input": false
   },
   "outputs": [
    {
     "data": {
      "image/png": "[encoded data removed]",
      "text/plain": [
       "<Figure size 864x288 with 1 Axes>"
      ]
     },
     "metadata": {},
     "output_type": "display_data"
    }
   ],
   "source": [
    "plt.figure(figsize=(12, 4))\n",
    "hist = age_histogram(group_table=f'{hy_db}.dbo.t2dControlEmergeNoLab')"
   ]
  },
  {
   "cell_type": "markdown",
   "metadata": {},
   "source": [
    "### Single visit count"
   ]
  },
  {
   "cell_type": "code",
   "execution_count": 28,
   "metadata": {
    "ExecuteTime": {
     "end_time": "2019-07-30T21:22:09.985440Z",
     "start_time": "2019-07-30T21:22:03.008077Z"
    }
   },
   "outputs": [
    {
     "data": {
      "text/html": [
       "<div>\n",
       "<style scoped>\n",
       "    .dataframe tbody tr th:only-of-type {\n",
       "        vertical-align: middle;\n",
       "    }\n",
       "\n",
       "    .dataframe tbody tr th {\n",
       "        vertical-align: top;\n",
       "    }\n",
       "\n",
       "    .dataframe thead th {\n",
       "        text-align: right;\n",
       "    }\n",
       "</style>\n",
       "<table border=\"1\" class=\"dataframe\">\n",
       "  <thead>\n",
       "    <tr style=\"text-align: right;\">\n",
       "      <th></th>\n",
       "      <th></th>\n",
       "    </tr>\n",
       "  </thead>\n",
       "  <tbody>\n",
       "    <tr>\n",
       "      <th>0</th>\n",
       "      <td>2295455</td>\n",
       "    </tr>\n",
       "  </tbody>\n",
       "</table>\n",
       "</div>"
      ],
      "text/plain": [
       "          \n",
       "0  2295455"
      ]
     },
     "execution_count": 28,
     "metadata": {},
     "output_type": "execute_result"
    }
   ],
   "source": [
    "# Keep patients with single visit & any glucose lab value \n",
    "pos_query = (\"drop table if exists t2dControlEmergeSingleVisit;\"\n",
    "            \" select t1.MemberNum\"\n",
    "            \" into t2dControlEmergeSingleVisit\"\n",
    "            \" from (select distinct MemberNum from VisitCount) as t1\"\n",
    "            \" inner join (select distinct MemberNum from GlucoseLabs) as t2\"\n",
    "            \" on t1.MemberNum=t2.MemberNum\")\n",
    "\n",
    "# Remove patients with DM dx (incl family hx) or abnormal labs\n",
    "neg_query = (\"delete from t2dControlEmergeSingleVisit\"\n",
    "            \" where MemberNum in\"\n",
    "            \" (select distinct MemberNum from DxDm\"\n",
    "            \"  union select distinct MemberNum from #abnormalLabs\"\n",
    "            \"  union select distinct MemberNum from RxDm)\")\n",
    "\n",
    "hy_cxn.execute(';'.join([pos_query, neg_query]))\n",
    "pd.read_sql('select count(*) from t2dControlEmergeSingleVisit', hy_cxn)"
   ]
  },
  {
   "cell_type": "code",
   "execution_count": 51,
   "metadata": {
    "ExecuteTime": {
     "end_time": "2019-07-29T20:18:17.150722Z",
     "start_time": "2019-07-29T20:18:16.376528Z"
    }
   },
   "outputs": [
    {
     "data": {
      "text/plain": [
       "<BarContainer object of 110 artists>"
      ]
     },
     "execution_count": 51,
     "metadata": {},
     "output_type": "execute_result"
    },
    {
     "data": {
      "image/png": "[encoded data removed]",
      "text/plain": [
       "<Figure size 864x288 with 1 Axes>"
      ]
     },
     "metadata": {
      "needs_background": "light"
     },
     "output_type": "display_data"
    }
   ],
   "source": [
    "plt.figure(figsize=(12, 4))\n",
    "age_histogram(group_table=f'{hy_db}.dbo.t2dControlEmergeSingleVisit')"
   ]
  },
  {
   "cell_type": "markdown",
   "metadata": {},
   "source": [
    "### Ignoring screening ICD (V77.1)"
   ]
  },
  {
   "cell_type": "code",
   "execution_count": 29,
   "metadata": {
    "ExecuteTime": {
     "end_time": "2019-07-30T21:22:17.412716Z",
     "start_time": "2019-07-30T21:22:09.995767Z"
    }
   },
   "outputs": [
    {
     "data": {
      "text/html": [
       "<div>\n",
       "<style scoped>\n",
       "    .dataframe tbody tr th:only-of-type {\n",
       "        vertical-align: middle;\n",
       "    }\n",
       "\n",
       "    .dataframe tbody tr th {\n",
       "        vertical-align: top;\n",
       "    }\n",
       "\n",
       "    .dataframe thead th {\n",
       "        text-align: right;\n",
       "    }\n",
       "</style>\n",
       "<table border=\"1\" class=\"dataframe\">\n",
       "  <thead>\n",
       "    <tr style=\"text-align: right;\">\n",
       "      <th></th>\n",
       "      <th></th>\n",
       "    </tr>\n",
       "  </thead>\n",
       "  <tbody>\n",
       "    <tr>\n",
       "      <th>0</th>\n",
       "      <td>2358527</td>\n",
       "    </tr>\n",
       "  </tbody>\n",
       "</table>\n",
       "</div>"
      ],
      "text/plain": [
       "          \n",
       "0  2358527"
      ]
     },
     "execution_count": 29,
     "metadata": {},
     "output_type": "execute_result"
    }
   ],
   "source": [
    "dm_dx_icd = str(('790.21', '790.22', '790.2', '790.29', '791.5', '277.7', 'V18.0'))\n",
    "dm_dx_icd_fuzzy_match = ' or '.join([\"diagCode like '%s'\" % s for s in ('250%', '648.8%', '648.0%')])\n",
    "\n",
    "# Keep patients with single visit & any glucose lab value \n",
    "pos_query = (\"drop table if exists t2dControlEmergeNoScreening;\"\n",
    "            \" select t1.MemberNum\"\n",
    "            \" into t2dControlEmergeNoScreening\"\n",
    "            \" from (select distinct MemberNum from VisitCount where visits > 1) as t1\"\n",
    "            \" inner join (select distinct MemberNum from GlucoseLabs) as t2\"\n",
    "            \" on t1.MemberNum=t2.MemberNum\")\n",
    "\n",
    "# Remove patients with DM dx (incl family hx) or abnormal labs\n",
    "neg_query = (\"delete from t2dControlEmergeNoScreening\"\n",
    "            \" where MemberNum in\"\n",
    "           f\" (select distinct MemberNum from DxDm where diagCode in {dm_dx_icd} or {dm_dx_icd_fuzzy_match}\"\n",
    "            \"  union select distinct MemberNum from #abnormalLabs\"\n",
    "            \"  union select distinct MemberNum from RxDm)\")\n",
    "\n",
    "hy_cxn.execute(';'.join([pos_query, neg_query]))\n",
    "pd.read_sql('select count(*) from t2dControlEmergeNoScreening', hy_cxn)"
   ]
  },
  {
   "cell_type": "markdown",
   "metadata": {},
   "source": [
    "### Ignoring family history of dm (V18.0)"
   ]
  },
  {
   "cell_type": "code",
   "execution_count": 30,
   "metadata": {
    "ExecuteTime": {
     "end_time": "2019-07-30T21:22:24.709622Z",
     "start_time": "2019-07-30T21:22:17.420434Z"
    }
   },
   "outputs": [
    {
     "data": {
      "text/html": [
       "<div>\n",
       "<style scoped>\n",
       "    .dataframe tbody tr th:only-of-type {\n",
       "        vertical-align: middle;\n",
       "    }\n",
       "\n",
       "    .dataframe tbody tr th {\n",
       "        vertical-align: top;\n",
       "    }\n",
       "\n",
       "    .dataframe thead th {\n",
       "        text-align: right;\n",
       "    }\n",
       "</style>\n",
       "<table border=\"1\" class=\"dataframe\">\n",
       "  <thead>\n",
       "    <tr style=\"text-align: right;\">\n",
       "      <th></th>\n",
       "      <th></th>\n",
       "    </tr>\n",
       "  </thead>\n",
       "  <tbody>\n",
       "    <tr>\n",
       "      <th>0</th>\n",
       "      <td>2321623</td>\n",
       "    </tr>\n",
       "  </tbody>\n",
       "</table>\n",
       "</div>"
      ],
      "text/plain": [
       "          \n",
       "0  2321623"
      ]
     },
     "execution_count": 30,
     "metadata": {},
     "output_type": "execute_result"
    }
   ],
   "source": [
    "dm_dx_icd = str(('790.21', '790.22', '790.2', '790.29', '791.5', '277.7', 'V77.1'))\n",
    "dm_dx_icd_fuzzy_match = ' or '.join([\"diagCode like '%s'\" % s for s in ('250%', '648.8%', '648.0%')])\n",
    "\n",
    "# Keep patients with single visit & any glucose lab value \n",
    "pos_query = (\"drop table if exists t2dControlEmergeNoFamilyHx;\"\n",
    "            \" select t1.MemberNum\"\n",
    "            \" into t2dControlEmergeNoFamilyHx\"\n",
    "            \" from (select distinct MemberNum from VisitCount where visits > 1) as t1\"\n",
    "            \" inner join (select distinct MemberNum from GlucoseLabs) as t2\"\n",
    "            \" on t1.MemberNum=t2.MemberNum\")\n",
    "\n",
    "# Remove patients with DM dx (incl family hx) or abnormal labs\n",
    "neg_query = (\"delete from t2dControlEmergeNoFamilyHx\"\n",
    "            \" where MemberNum in\"\n",
    "           f\" (select distinct MemberNum from DxDm where diagCode in {dm_dx_icd} or {dm_dx_icd_fuzzy_match}\"\n",
    "            \"  union select distinct MemberNum from #abnormalLabs\"\n",
    "            \"  union select distinct MemberNum from RxDm)\")\n",
    "\n",
    "hy_cxn.execute(';'.join([pos_query, neg_query]))\n",
    "pd.read_sql('select count(*) from t2dControlEmergeNoFamilyHx', hy_cxn)"
   ]
  },
  {
   "cell_type": "markdown",
   "metadata": {},
   "source": [
    "# Depression"
   ]
  },
  {
   "cell_type": "markdown",
   "metadata": {},
   "source": [
    "## Cases"
   ]
  },
  {
   "cell_type": "code",
   "execution_count": 31,
   "metadata": {
    "ExecuteTime": {
     "end_time": "2019-07-30T21:22:25.871190Z",
     "start_time": "2019-07-30T21:22:24.712893Z"
    },
    "scrolled": true
   },
   "outputs": [
    {
     "data": {
      "text/html": [
       "<div>\n",
       "<style scoped>\n",
       "    .dataframe tbody tr th:only-of-type {\n",
       "        vertical-align: middle;\n",
       "    }\n",
       "\n",
       "    .dataframe tbody tr th {\n",
       "        vertical-align: top;\n",
       "    }\n",
       "\n",
       "    .dataframe thead th {\n",
       "        text-align: right;\n",
       "    }\n",
       "</style>\n",
       "<table border=\"1\" class=\"dataframe\">\n",
       "  <thead>\n",
       "    <tr style=\"text-align: right;\">\n",
       "      <th></th>\n",
       "      <th></th>\n",
       "    </tr>\n",
       "  </thead>\n",
       "  <tbody>\n",
       "    <tr>\n",
       "      <th>0</th>\n",
       "      <td>1136743</td>\n",
       "    </tr>\n",
       "  </tbody>\n",
       "</table>\n",
       "</div>"
      ],
      "text/plain": [
       "          \n",
       "0  1136743"
      ]
     },
     "execution_count": 31,
     "metadata": {},
     "output_type": "execute_result"
    }
   ],
   "source": [
    "depression_cases_query = (\"drop table if exists depressionCase;\"\n",
    "                         \" select distinct MemberNum\"\n",
    "                         \" into depressionCase\"\n",
    "                         \" from dxDepression\")\n",
    "hy_cxn.execute(depression_cases_query)\n",
    "pd.read_sql('select count(*) from depressionCases', hy_cxn)"
   ]
  },
  {
   "cell_type": "markdown",
   "metadata": {},
   "source": [
    "### Multiple diagnoses"
   ]
  },
  {
   "cell_type": "code",
   "execution_count": 32,
   "metadata": {
    "ExecuteTime": {
     "end_time": "2019-07-30T21:22:26.714809Z",
     "start_time": "2019-07-30T21:22:25.874122Z"
    }
   },
   "outputs": [
    {
     "data": {
      "text/html": [
       "<div>\n",
       "<style scoped>\n",
       "    .dataframe tbody tr th:only-of-type {\n",
       "        vertical-align: middle;\n",
       "    }\n",
       "\n",
       "    .dataframe tbody tr th {\n",
       "        vertical-align: top;\n",
       "    }\n",
       "\n",
       "    .dataframe thead th {\n",
       "        text-align: right;\n",
       "    }\n",
       "</style>\n",
       "<table border=\"1\" class=\"dataframe\">\n",
       "  <thead>\n",
       "    <tr style=\"text-align: right;\">\n",
       "      <th></th>\n",
       "      <th></th>\n",
       "    </tr>\n",
       "  </thead>\n",
       "  <tbody>\n",
       "    <tr>\n",
       "      <th>0</th>\n",
       "      <td>779272</td>\n",
       "    </tr>\n",
       "  </tbody>\n",
       "</table>\n",
       "</div>"
      ],
      "text/plain": [
       "         \n",
       "0  779272"
      ]
     },
     "execution_count": 32,
     "metadata": {},
     "output_type": "execute_result"
    }
   ],
   "source": [
    "depression_cases_query = (\"drop table if exists depressionCaseMultipledx;\"\n",
    "                         \" select MemberNum\"\n",
    "                         \" into depressionCaseMultipledx\"\n",
    "                         \" from (select MemberNum, count(*) as dxCount from dxDepression group by MemberNum) as t\"\n",
    "                         \" where dxCount > 1\")\n",
    "hy_cxn.execute(depression_cases_query)\n",
    "pd.read_sql('select count(*) from depressionCaseMultipledx', hy_cxn)"
   ]
  },
  {
   "cell_type": "markdown",
   "metadata": {},
   "source": [
    "## Controls"
   ]
  },
  {
   "cell_type": "code",
   "execution_count": 33,
   "metadata": {
    "ExecuteTime": {
     "end_time": "2019-07-30T21:22:33.067371Z",
     "start_time": "2019-07-30T21:22:26.719526Z"
    },
    "scrolled": true
   },
   "outputs": [
    {
     "data": {
      "text/html": [
       "<div>\n",
       "<style scoped>\n",
       "    .dataframe tbody tr th:only-of-type {\n",
       "        vertical-align: middle;\n",
       "    }\n",
       "\n",
       "    .dataframe tbody tr th {\n",
       "        vertical-align: top;\n",
       "    }\n",
       "\n",
       "    .dataframe thead th {\n",
       "        text-align: right;\n",
       "    }\n",
       "</style>\n",
       "<table border=\"1\" class=\"dataframe\">\n",
       "  <thead>\n",
       "    <tr style=\"text-align: right;\">\n",
       "      <th></th>\n",
       "      <th></th>\n",
       "    </tr>\n",
       "  </thead>\n",
       "  <tbody>\n",
       "    <tr>\n",
       "      <th>0</th>\n",
       "      <td>9409473</td>\n",
       "    </tr>\n",
       "  </tbody>\n",
       "</table>\n",
       "</div>"
      ],
      "text/plain": [
       "          \n",
       "0  9409473"
      ]
     },
     "execution_count": 33,
     "metadata": {},
     "output_type": "execute_result"
    }
   ],
   "source": [
    "depression_control_query = (\"drop table if exists depressionControl;\"\n",
    "                         \" select distinct MemberNum\"\n",
    "                         \" into depressionControl\"\n",
    "                         \" from EnrollFourPlusYears;\"\n",
    "                         \" delete from depressionControl\"\n",
    "                         \" where MemberNum in (select MemberNum from depressionCases)\")\n",
    "\n",
    "hy_cxn.execute(depression_control_query)\n",
    "pd.read_sql('select count(*) from depressionControl', hy_cxn)"
   ]
  },
  {
   "cell_type": "markdown",
   "metadata": {},
   "source": [
    "# Association Testing"
   ]
  },
  {
   "cell_type": "code",
   "execution_count": 13,
   "metadata": {
    "ExecuteTime": {
     "end_time": "2019-07-31T18:31:29.109924Z",
     "start_time": "2019-07-31T18:31:29.090643Z"
    }
   },
   "outputs": [],
   "source": [
    "def count_overlap(t1, t2, key_col, cxn):\n",
    "    query = (\"select count(*)\"\n",
    "            \" from %s as t1 inner join %s as t2 on t1.%s=t2.%s\"\n",
    "            % (t1, t2, key_col, key_col))\n",
    "    return cxn.execute(query).fetchone()[0]\n",
    "\n",
    "def matched_control_query(case_table, control_pop_table, demo_table='gmw3.dbo.Member', subsample=None):\n",
    "    query = (\"drop table if exists #control;\"\n",
    "            \" with cteCaseType as\"\n",
    "            \" (select t1.MemberNum, Gender, BirthYearMinus1900, row_number() over (partition by Gender, BirthYearMinus1900 order by newid()) as CaseRN\"\n",
    "           f\"  from {case_table} as t1 inner join {demo_table} as t2 on t1.MemberNum=t2.MemberNum),\"\n",
    "            \" cteControlType as\"\n",
    "            \"  (select t1.MemberNum, Gender, BirthYearMinus1900, row_number() over (partition by Gender, BirthYearMinus1900 order by newid()) as ControlRN\"\n",
    "           f\"   from {control_pop_table} as t1 inner join {demo_table} as t2 on t1.MemberNum=t2.MemberNum)\"\n",
    "            \" select t2.MemberNum\"\n",
    "            \" into #control\"\n",
    "            \" from cteCaseType as t1 inner join\"\n",
    "            \" cteControlType as t2 on t1.BirthYearMinus1900=t2.BirthYearMinus1900 and t1.gender=t2.gender and CaseRN=ControlRN\"\n",
    "            )\n",
    "    return query\n",
    "\n",
    "def unmatched_control_query(case_table, control_pop_table, subsample=None):\n",
    "    query = (f\"drop table if exists #control;\"\n",
    "            f\" select {('top %d' % subsample) if subsample else ''} t1.MemberNum into #control\" \n",
    "            f\"from {control_table} as t1 inner join {studypop_table} as t2 on t1.MemberNum=t2.MemberNum\"\n",
    "            )\n",
    "    return query\n",
    "    \n",
    "def contingency_table(case_table, control_table, exposed_table, nonexposed_table, control_query=matched_control_query, studypop_table=None, subsample=None, cxn=hy_cxn):\n",
    "    if not studypop_table:\n",
    "        cxn.execute('drop table if exists #studyPop; select MemberNum into #studyPop from ((select MemberNum from %s union select MemberNum from %s) intersect (select MemberNum from %s union select MemberNum from %s)) as t'\n",
    "                   % (case_table, control_table, exposed_table, nonexposed_table))\n",
    "        studypop_table = '#studyPop'\n",
    "    cxn.execute(f\"drop table if exists #case; select {('top %d' % subsample) if subsample else ''} t1.MemberNum into #case from {case_table} as t1 inner join {studypop_table} as t2 on t1.MemberNum=t2.MemberNum\")\n",
    "    cxn.execute(matched_control_query('#case', control_table))\n",
    "   \n",
    "    case_exposed = count_overlap('#case', exposed_table, 'MemberNum', cxn)\n",
    "    case_nonexposed = count_overlap('#case', nonexposed_table, 'MemberNum', cxn)\n",
    "    control_exposed = count_overlap('#control', exposed_table, 'MemberNum', cxn)\n",
    "    control_nonexposed = count_overlap('#control', nonexposed_table, 'MemberNum', cxn)\n",
    "    \n",
    "    return np.asarray([[case_exposed, control_exposed], [case_nonexposed, control_nonexposed]])"
   ]
  },
  {
   "cell_type": "markdown",
   "metadata": {},
   "source": [
    "## Baseline groups\n",
    "* Case: eMERGE\n",
    "* Control: eMERGE\n",
    "* exposure: Depression 1x CCS dx\n",
    "* non-exposure: Continuous enrollment with no depression dx\n"
   ]
  },
  {
   "cell_type": "code",
   "execution_count": 23,
   "metadata": {
    "ExecuteTime": {
     "end_time": "2019-08-04T13:57:18.133938Z",
     "start_time": "2019-08-04T13:57:07.491224Z"
    },
    "scrolled": true
   },
   "outputs": [],
   "source": [
    "ors = []\n",
    "p_values = []\n",
    "\n",
    "t = contingency_table('t2dCaseEmerge', 't2dControlEmergeIgnoreLab', 'depressionCase', 'depressionControl')\n",
    "oddsr, p_value = stats.fisher_exact(t)\n",
    "ors.append(oddsr)\n",
    "p_values.append(p_value)"
   ]
  },
  {
   "cell_type": "code",
   "execution_count": 24,
   "metadata": {
    "ExecuteTime": {
     "end_time": "2019-08-04T13:57:18.143062Z",
     "start_time": "2019-08-04T13:57:18.136244Z"
    }
   },
   "outputs": [
    {
     "name": "stdout",
     "output_type": "stream",
     "text": [
      "[1.3618638670893208] [0.0]\n"
     ]
    }
   ],
   "source": [
    "print(ors, p_values)"
   ]
  },
  {
   "cell_type": "code",
   "execution_count": 25,
   "metadata": {
    "ExecuteTime": {
     "end_time": "2019-08-04T13:56:38.763000Z",
     "start_time": "2019-08-04T13:56:37.959675Z"
    }
   },
   "outputs": [
    {
     "data": {
      "text/plain": [
       "(1.3618638670893208, 0.0)"
      ]
     },
     "execution_count": 25,
     "metadata": {},
     "output_type": "execute_result"
    }
   ],
   "source": [
    "stats.fisher_exact(t)"
   ]
  },
  {
   "cell_type": "code",
   "execution_count": 26,
   "metadata": {
    "ExecuteTime": {
     "end_time": "2019-08-04T13:57:18.157384Z",
     "start_time": "2019-08-04T13:57:18.149007Z"
    }
   },
   "outputs": [
    {
     "data": {
      "text/plain": [
       "(1.341910196492637, 1.3821142408270295)"
      ]
     },
     "execution_count": 26,
     "metadata": {},
     "output_type": "execute_result"
    }
   ],
   "source": [
    "ctable(t).oddsratio_confint()"
   ]
  },
  {
   "cell_type": "markdown",
   "metadata": {},
   "source": [
    "## Alternate definitions"
   ]
  },
  {
   "cell_type": "code",
   "execution_count": 7,
   "metadata": {
    "ExecuteTime": {
     "end_time": "2019-07-31T21:28:39.241828Z",
     "start_time": "2019-07-31T21:28:22.661343Z"
    }
   },
   "outputs": [],
   "source": [
    "case_groups = ['t2dCaseEmerge']\n",
    "control_groups = ['t2dControlEmergeIgnoreLabValue']\n",
    "# control_groups = ['t2dControlEmerge', 't2dControlEmergeIgnoreLab', 't2dControlEmergeSingleVisit', 't2dControlEmergeNoScreening', 't2dControlEmergeNoFamilyHx']\n",
    "exposure_groups = ['depressionCase']\n",
    "nonexposure_groups = ['depressionControl']\n",
    "\n",
    "samp_size = 2000\n",
    "n_samps = 200\n",
    "results = pd.DataFrame(columns=['control', 'samp_size', 'OR', 'p_value', 'ci95_lower', 'ci95_upper'], \n",
    "                       index=np.arange(0, len(case_groups) * len(control_groups) * len(exposure_groups) * len(nonexposure_groups) * n_samps))\n",
    "\n",
    "for i, comb in tqdm(enumerate(itertools.product(*[case_groups, control_groups, exposure_groups, nonexposure_groups]))):\n",
    "    for j in tqdm(range(n_samps)):\n",
    "        tab = contingency_table(*comb, subsample=samp_size)\n",
    "        fe_test = stats.fisher_exact(tab)\n",
    "        or_ci = ctable(tab).oddsratio_confint()\n",
    "\n",
    "        results.iloc[i*n_samps + j] = [comb[1], samp_size, fe_test[0], fe_test[1], or_ci[0], or_ci[1]]\n",
    "\n",
    "results.to_csv('results/ignoreLabValueFixed_definitions_bootstrap.csv')"
   ]
  },
  {
   "cell_type": "code",
   "execution_count": 9,
   "metadata": {
    "ExecuteTime": {
     "end_time": "2019-08-01T18:47:49.273268Z",
     "start_time": "2019-08-01T18:47:48.654660Z"
    }
   },
   "outputs": [
    {
     "data": {
      "text/plain": [
       "[Text(0, 0, 't2dControlEmergeIgnoreLabValue')]"
      ]
     },
     "execution_count": 9,
     "metadata": {},
     "output_type": "execute_result"
    },
    {
     "data": {
      "image/png": "[encoded data removed]",
      "text/plain": [
       "<Figure size 864x432 with 1 Axes>"
      ]
     },
     "metadata": {
      "needs_background": "light"
     },
     "output_type": "display_data"
    }
   ],
   "source": [
    "# results = pd.read_csv('results/control_definitions_bootstrap.csv')\n",
    "results['p < .05'] = results.p_value < .05\n",
    "\n",
    "plt.figure(figsize=(12, 6))\n",
    "ax = sns.swarmplot(data=results[results.samp_size==2000], x='control', y='OR', hue='p < .05')\n",
    "ax.set_xticklabels(ax.get_xticklabels(), rotation=30, ha='right')"
   ]
  },
  {
   "cell_type": "markdown",
   "metadata": {},
   "source": [
    "## Multithreaded experiments"
   ]
  },
  {
   "cell_type": "code",
   "execution_count": 14,
   "metadata": {
    "scrolled": true
   },
   "outputs": [],
   "source": [
    "def single_test(groups, samp_size, i, matching=False):\n",
    "    control_query = matched_control_query if matching else unmatched_control_query\n",
    "    \n",
    "    with hy_engine.connect() as test_cxn:\n",
    "        tab = contingency_table(*groups, subsample=samp_size, cxn=test_cxn, control_query=control_query)\n",
    "    \n",
    "    fe_test = stats.fisher_exact(tab)\n",
    "    or_ci = ctable(tab).oddsratio_confint()\n",
    "\n",
    "    return (groups[1], samp_size, fe_test[0], fe_test[1], or_ci[0], or_ci[1])"
   ]
  },
  {
   "cell_type": "code",
   "execution_count": null,
   "metadata": {},
   "outputs": [
    {
     "name": "stderr",
     "output_type": "stream",
     "text": [
      "Process Process-2:\n",
      "Process Process-3:\n",
      "Traceback (most recent call last):\n"
     ]
    }
   ],
   "source": [
    "case_groups = ['t2dCaseEmerge']\n",
    "# control_groups = ['t2dControlEmerge', 't2dControlEmergeIgnoreLab', 't2dControlEmergeSingleVisit', 't2dControlEmergeNoScreening', 't2dControlEmergeNoFamilyHx']\n",
    "control_groups = ['t2dControlEmergeIgnoreLabValue']\n",
    "exposure_groups = ['depressionCase']\n",
    "nonexposure_groups = ['depressionControl']\n",
    "\n",
    "group_combs = itertools.product(case_groups, control_groups, exposure_groups, nonexposure_groups)\n",
    "samp_sizes = [2000, 10000]\n",
    "n_samps = 200\n",
    "\n",
    "num_workers = 4\n",
    "\n",
    "def process(inQ, outQ):\n",
    "    for args in iter(inQ.get, None):\n",
    "        result = single_test(*args)\n",
    "        outQ.put(result)\n",
    "\n",
    "manager = mp.Manager()\n",
    "toRun = manager.Queue()\n",
    "toReturn = manager.Queue()\n",
    "result = []\n",
    "\n",
    "[toRun.put(arrayElem) for arrayElem in itertools.product(group_combs, samp_sizes, range(n_samps))]\n",
    "[toRun.put(None) for i in range(num_workers)]\n",
    "\n",
    "processes = [Process(target=process, args=(toRun, toReturn)) for i in range(num_workers)]\n",
    "[p.start() for p in processes]\n",
    "[p.join() for p in processes]\n",
    "\n",
    "while not toReturn.empty():\n",
    "    smallResult = toReturn.get()\n",
    "    result.append(smallResult)\n",
    "    \n",
    "df = pd.DataFrame(columns=['control', 'samp_size', 'OR', 'p_value', 'ci95_lower', 'ci95_upper'], data=result)\n",
    "df.to_csv('results/matched_ignoreLabValueFixed_definitions_bootstrap.csv')"
   ]
  },
  {
   "cell_type": "code",
   "execution_count": 4,
   "metadata": {
    "ExecuteTime": {
     "end_time": "2019-08-06T17:40:40.808846Z",
     "start_time": "2019-08-06T17:40:38.981850Z"
    }
   },
   "outputs": [
    {
     "data": {
      "text/plain": [
       "[Text(0, 0, 'Baseline'),\n",
       " Text(0, 0, 'Ignore Lab Result'),\n",
       " Text(0, 0, 'Ignore Lab'),\n",
       " Text(0, 0, 'No Lab')]"
      ]
     },
     "execution_count": 4,
     "metadata": {},
     "output_type": "execute_result"
    },
    {
     "data": {
      "image/png": "[encoded data removed]",
      "text/plain": [
       "<Figure size 864x288 with 1 Axes>"
      ]
     },
     "metadata": {},
     "output_type": "display_data"
    }
   ],
   "source": [
    "results = pd.read_csv('results/lab_controls_bootstrap.csv')\n",
    "results['p < .05'] = results.p_value < .05\n",
    "results['ci_width'] = results.ci95_upper - results.ci95_lower\n",
    "\n",
    "plt.figure(figsize=(12, 4))\n",
    "sns.set()\n",
    "ax = sns.swarmplot(data=results[results.samp_size==10000], x='control', y='OR', hue='p < .05', order=['t2dControlEmerge', 't2dControlEmergeIgnoreLabValue', 't2dControlEmergeIgnoreLab', 't2dControlEmergeNoLab'])\n",
    "ax.set_xticklabels(['Baseline', 'Ignore Lab Result', 'Ignore Lab', 'No Lab'], ha='center')"
   ]
  },
  {
   "cell_type": "code",
   "execution_count": 5,
   "metadata": {
    "ExecuteTime": {
     "end_time": "2019-08-05T18:12:14.664701Z",
     "start_time": "2019-08-05T18:12:14.625455Z"
    }
   },
   "outputs": [
    {
     "data": {
      "text/plain": [
       "Unnamed: 0     399.565000\n",
       "samp_size     4500.000000\n",
       "OR               1.225672\n",
       "p_value          0.097069\n",
       "ci95_lower       1.054908\n",
       "ci95_upper       1.430062\n",
       "p < .05          0.725000\n",
       "ci_width         0.375154\n",
       "dtype: float64"
      ]
     },
     "execution_count": 5,
     "metadata": {},
     "output_type": "execute_result"
    }
   ],
   "source": [
    "results[results.control=='t2dControlEmerge'].mean()"
   ]
  }
 ],
 "metadata": {
  "kernelspec": {
   "display_name": "Python 3",
   "language": "python",
   "name": "python3"
  },
  "language_info": {
   "codemirror_mode": {
    "name": "ipython",
    "version": 3
   },
   "file_extension": ".py",
   "mimetype": "text/x-python",
   "name": "python",
   "nbconvert_exporter": "python",
   "pygments_lexer": "ipython3",
   "version": "3.7.4"
  },
  "toc": {
   "base_numbering": 1,
   "nav_menu": {},
   "number_sections": true,
   "sideBar": true,
   "skip_h1_title": false,
   "title_cell": "Table of Contents",
   "title_sidebar": "Contents",
   "toc_cell": false,
   "toc_position": {
    "height": "calc(100% - 180px)",
    "left": "10px",
    "top": "150px",
    "width": "293.188px"
   },
   "toc_section_display": true,
   "toc_window_display": true
  }
 },
 "nbformat": 4,
 "nbformat_minor": 4
}
