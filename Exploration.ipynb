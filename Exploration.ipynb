{
 "cells": [
  {
   "cell_type": "code",
   "execution_count": 1,
   "metadata": {},
   "outputs": [],
   "source": [
    "import urllib\n",
    "import pyodbc\n",
    "import lifelines\n",
    "import pandas as pd\n",
    "import numpy as np\n",
    "import seaborn as sns\n",
    "import sqlalchemy as sqla\n",
    "import matplotlib as mpl\n",
    "\n",
    "from matplotlib import pyplot as plt\n",
    "from importlib import reload"
   ]
  },
  {
   "cell_type": "code",
   "execution_count": 2,
   "metadata": {},
   "outputs": [],
   "source": [
    "with open('dbmi-aetna-cxn-str') as f:\n",
    "    cxn_params = f.read().strip()\n",
    "    gmw_cxn_str = urllib.parse.quote_plus(cxn_params + 'Database=gmw3')\n",
    "    aetna_raw_cxn_str = urllib.parse.quote_plus(cxn_params + 'Database=AetnaDataWarehouse')\n",
    "    hy_cxn_str = urllib.parse.quote_plus(cxn_params + 'Database=hy180')\n",
    "    \n",
    "engine = sqla.create_engine(\"mssql+pyodbc:///?odbc_connect=%s\" % gmw_cxn_str, connect_args = {'autocommit':True})\n",
    "cxn = engine.connect()\n",
    "ins = sqla.inspect(engine)\n",
    "\n",
    "hy_engine = sqla.create_engine(\"mssql+pyodbc:///?odbc_connect=%s\" % hy_cxn_str, connect_args = {'autocommit': True, 'fast_executemany': True})\n",
    "hy_cxn = hy_engine.connect()"
   ]
  },
  {
   "cell_type": "code",
   "execution_count": 3,
   "metadata": {},
   "outputs": [
    {
     "name": "stdout",
     "output_type": "stream",
     "text": [
      "['ConceptDiagnosis', 'ConceptDiagnosisDRG', 'ConceptDiagnosisMDC', 'ConceptEnrollment', 'ConceptLab', 'ConceptMedication', 'ConceptProcedure', 'ConceptProcedureICD', 'ConceptProcedureNoModifier', 'ConceptZipCode', 'DistinctDiagnosis', 'DistinctDiagnosisDRG', 'DistinctDiagnosisMDC', 'DistinctEnrollment', 'DistinctLab', 'DistinctMedication', 'DistinctPCP', 'DistinctProcedure', 'DistinctProcedureICD', 'DistinctProcedureNoModifier', 'Member', 'MemberDemographics', 'MemberDiagnosis', 'MemberDiagnosisDRG', 'MemberDiagnosisMDC', 'MemberEnrollment', 'MemberLab', 'MemberMedication', 'MemberProcedure', 'MemberProcedureICD', 'MemberVisit', 'MemberZipCode', 'ObservationDiagnosis', 'ObservationLab', 'ObservationMedication', 'ObservationProcedure', 'ObservationProcedureICD', 'Summary', 'VisitIcdVersion', 'VisitMedicalClaim']\n"
     ]
    }
   ],
   "source": [
    "print(ins.get_table_names())"
   ]
  },
  {
   "cell_type": "code",
   "execution_count": 5,
   "metadata": {
    "scrolled": false
   },
   "outputs": [
    {
     "name": "stdout",
     "output_type": "stream",
     "text": [
      "['NationalDrugCode', 'NdcDescription', 'NumberOfPatients', 'NumberOfClaims', 'NumberOfMaintenancePatients', 'NumberOfMaintenanceClaims', 'FirstDispenseDate', 'LastDispenseDate', 'FirstPaidDate', 'LastPaidDate', 'TotalQuantity', 'TotalDaysSupply', 'MaxTotalQuantity', 'MaxTotalDaysSupply', 'MaxQuantity', 'MaxDaysSupply', 'TotalDeductibleAmount', 'TotalMemberOutOfPocketAmount', 'TotalPaidAmount', 'MaxTotalDeductibleAmount', 'MaxTotalMemberOutOfPocketAmount', 'MaxTotalPaidAmount']\n"
     ]
    },
    {
     "data": {
      "text/html": [
       "<div>\n",
       "<style scoped>\n",
       "    .dataframe tbody tr th:only-of-type {\n",
       "        vertical-align: middle;\n",
       "    }\n",
       "\n",
       "    .dataframe tbody tr th {\n",
       "        vertical-align: top;\n",
       "    }\n",
       "\n",
       "    .dataframe thead th {\n",
       "        text-align: right;\n",
       "    }\n",
       "</style>\n",
       "<table border=\"1\" class=\"dataframe\">\n",
       "  <thead>\n",
       "    <tr style=\"text-align: right;\">\n",
       "      <th></th>\n",
       "      <th>NationalDrugCode</th>\n",
       "      <th>NdcDescription</th>\n",
       "      <th>NumberOfPatients</th>\n",
       "      <th>NumberOfClaims</th>\n",
       "      <th>NumberOfMaintenancePatients</th>\n",
       "      <th>NumberOfMaintenanceClaims</th>\n",
       "      <th>FirstDispenseDate</th>\n",
       "      <th>LastDispenseDate</th>\n",
       "      <th>FirstPaidDate</th>\n",
       "      <th>LastPaidDate</th>\n",
       "      <th>...</th>\n",
       "      <th>MaxTotalQuantity</th>\n",
       "      <th>MaxTotalDaysSupply</th>\n",
       "      <th>MaxQuantity</th>\n",
       "      <th>MaxDaysSupply</th>\n",
       "      <th>TotalDeductibleAmount</th>\n",
       "      <th>TotalMemberOutOfPocketAmount</th>\n",
       "      <th>TotalPaidAmount</th>\n",
       "      <th>MaxTotalDeductibleAmount</th>\n",
       "      <th>MaxTotalMemberOutOfPocketAmount</th>\n",
       "      <th>MaxTotalPaidAmount</th>\n",
       "    </tr>\n",
       "  </thead>\n",
       "  <tbody>\n",
       "    <tr>\n",
       "      <th>0</th>\n",
       "      <td>781341315</td>\n",
       "      <td>AMPICILLIN   INJ 2GM</td>\n",
       "      <td>1</td>\n",
       "      <td>5</td>\n",
       "      <td>0</td>\n",
       "      <td>0</td>\n",
       "      <td>2011-03-01</td>\n",
       "      <td>2011-04-08</td>\n",
       "      <td>2011-03-25</td>\n",
       "      <td>2011-04-13</td>\n",
       "      <td>...</td>\n",
       "      <td>112.0</td>\n",
       "      <td>29</td>\n",
       "      <td>32.0</td>\n",
       "      <td>8</td>\n",
       "      <td>0.00</td>\n",
       "      <td>1.10</td>\n",
       "      <td>2747.88</td>\n",
       "      <td>0.00</td>\n",
       "      <td>1.10</td>\n",
       "      <td>2747.88</td>\n",
       "    </tr>\n",
       "    <tr>\n",
       "      <th>1</th>\n",
       "      <td>40986003109</td>\n",
       "      <td>NICOTINE POL GUM 2MG MINT</td>\n",
       "      <td>2</td>\n",
       "      <td>2</td>\n",
       "      <td>0</td>\n",
       "      <td>0</td>\n",
       "      <td>2016-05-24</td>\n",
       "      <td>2016-12-10</td>\n",
       "      <td>2016-05-24</td>\n",
       "      <td>2016-12-10</td>\n",
       "      <td>...</td>\n",
       "      <td>40.0</td>\n",
       "      <td>4</td>\n",
       "      <td>40.0</td>\n",
       "      <td>4</td>\n",
       "      <td>0.00</td>\n",
       "      <td>0.00</td>\n",
       "      <td>14.33</td>\n",
       "      <td>0.00</td>\n",
       "      <td>0.00</td>\n",
       "      <td>9.30</td>\n",
       "    </tr>\n",
       "    <tr>\n",
       "      <th>2</th>\n",
       "      <td>47781026305</td>\n",
       "      <td>OXYCODONE    TAB 5MG</td>\n",
       "      <td>1570</td>\n",
       "      <td>5013</td>\n",
       "      <td>0</td>\n",
       "      <td>0</td>\n",
       "      <td>2014-04-25</td>\n",
       "      <td>2017-06-30</td>\n",
       "      <td>2014-04-25</td>\n",
       "      <td>2017-06-30</td>\n",
       "      <td>...</td>\n",
       "      <td>9690.0</td>\n",
       "      <td>930</td>\n",
       "      <td>540.0</td>\n",
       "      <td>90</td>\n",
       "      <td>3869.84</td>\n",
       "      <td>17249.18</td>\n",
       "      <td>77168.29</td>\n",
       "      <td>513.72</td>\n",
       "      <td>603.97</td>\n",
       "      <td>2551.69</td>\n",
       "    </tr>\n",
       "    <tr>\n",
       "      <th>3</th>\n",
       "      <td>10019002232</td>\n",
       "      <td>KETOROLAC    INJ 60MG/2ML</td>\n",
       "      <td>29</td>\n",
       "      <td>32</td>\n",
       "      <td>0</td>\n",
       "      <td>0</td>\n",
       "      <td>2008-03-13</td>\n",
       "      <td>2012-08-30</td>\n",
       "      <td>2008-03-13</td>\n",
       "      <td>2012-08-30</td>\n",
       "      <td>...</td>\n",
       "      <td>20.0</td>\n",
       "      <td>30</td>\n",
       "      <td>20.0</td>\n",
       "      <td>30</td>\n",
       "      <td>9.00</td>\n",
       "      <td>147.88</td>\n",
       "      <td>191.38</td>\n",
       "      <td>9.00</td>\n",
       "      <td>10.00</td>\n",
       "      <td>29.80</td>\n",
       "    </tr>\n",
       "    <tr>\n",
       "      <th>4</th>\n",
       "      <td>781197101</td>\n",
       "      <td>DESIPRAMINE  TAB 10MG</td>\n",
       "      <td>2078</td>\n",
       "      <td>9718</td>\n",
       "      <td>2078</td>\n",
       "      <td>9718</td>\n",
       "      <td>2008-01-02</td>\n",
       "      <td>2017-05-26</td>\n",
       "      <td>2008-01-02</td>\n",
       "      <td>2017-06-16</td>\n",
       "      <td>...</td>\n",
       "      <td>28350.0</td>\n",
       "      <td>4220</td>\n",
       "      <td>720.0</td>\n",
       "      <td>90</td>\n",
       "      <td>15042.91</td>\n",
       "      <td>102093.98</td>\n",
       "      <td>286972.54</td>\n",
       "      <td>627.47</td>\n",
       "      <td>1535.00</td>\n",
       "      <td>22936.43</td>\n",
       "    </tr>\n",
       "    <tr>\n",
       "      <th>5</th>\n",
       "      <td>89117000001</td>\n",
       "      <td>NASONEB NSL  MIS REPLACEM</td>\n",
       "      <td>1</td>\n",
       "      <td>1</td>\n",
       "      <td>0</td>\n",
       "      <td>0</td>\n",
       "      <td>2014-02-21</td>\n",
       "      <td>2014-02-21</td>\n",
       "      <td>2014-02-21</td>\n",
       "      <td>2014-02-21</td>\n",
       "      <td>...</td>\n",
       "      <td>1.0</td>\n",
       "      <td>1</td>\n",
       "      <td>1.0</td>\n",
       "      <td>1</td>\n",
       "      <td>0.00</td>\n",
       "      <td>153.28</td>\n",
       "      <td>0.00</td>\n",
       "      <td>0.00</td>\n",
       "      <td>153.28</td>\n",
       "      <td>0.00</td>\n",
       "    </tr>\n",
       "    <tr>\n",
       "      <th>6</th>\n",
       "      <td>332415530</td>\n",
       "      <td>AMOXICILLIN  SUS 250/5ML</td>\n",
       "      <td>2</td>\n",
       "      <td>2</td>\n",
       "      <td>0</td>\n",
       "      <td>0</td>\n",
       "      <td>2008-02-27</td>\n",
       "      <td>2011-01-06</td>\n",
       "      <td>2008-02-27</td>\n",
       "      <td>2012-03-12</td>\n",
       "      <td>...</td>\n",
       "      <td>150.0</td>\n",
       "      <td>10</td>\n",
       "      <td>150.0</td>\n",
       "      <td>10</td>\n",
       "      <td>0.00</td>\n",
       "      <td>11.40</td>\n",
       "      <td>10.00</td>\n",
       "      <td>0.00</td>\n",
       "      <td>11.40</td>\n",
       "      <td>10.00</td>\n",
       "    </tr>\n",
       "    <tr>\n",
       "      <th>7</th>\n",
       "      <td>49452439502</td>\n",
       "      <td>MEBENDAZOLE  POW</td>\n",
       "      <td>3</td>\n",
       "      <td>19</td>\n",
       "      <td>0</td>\n",
       "      <td>0</td>\n",
       "      <td>2013-07-21</td>\n",
       "      <td>2013-11-10</td>\n",
       "      <td>2013-11-10</td>\n",
       "      <td>2015-11-16</td>\n",
       "      <td>...</td>\n",
       "      <td>9.0</td>\n",
       "      <td>9</td>\n",
       "      <td>3.0</td>\n",
       "      <td>1</td>\n",
       "      <td>0.00</td>\n",
       "      <td>180.56</td>\n",
       "      <td>0.00</td>\n",
       "      <td>0.00</td>\n",
       "      <td>153.00</td>\n",
       "      <td>0.00</td>\n",
       "    </tr>\n",
       "    <tr>\n",
       "      <th>8</th>\n",
       "      <td>68645032054</td>\n",
       "      <td>OMEPRAZOLE   CAP 20MG</td>\n",
       "      <td>5329</td>\n",
       "      <td>59384</td>\n",
       "      <td>5329</td>\n",
       "      <td>59384</td>\n",
       "      <td>2012-04-17</td>\n",
       "      <td>2017-04-05</td>\n",
       "      <td>2012-04-17</td>\n",
       "      <td>2017-04-22</td>\n",
       "      <td>...</td>\n",
       "      <td>7800.0</td>\n",
       "      <td>3960</td>\n",
       "      <td>720.0</td>\n",
       "      <td>365</td>\n",
       "      <td>53827.40</td>\n",
       "      <td>357705.79</td>\n",
       "      <td>620360.81</td>\n",
       "      <td>1522.80</td>\n",
       "      <td>1522.80</td>\n",
       "      <td>4607.26</td>\n",
       "    </tr>\n",
       "    <tr>\n",
       "      <th>9</th>\n",
       "      <td>68330000210</td>\n",
       "      <td>CEFTRIAXONE  INJ 500MG</td>\n",
       "      <td>20</td>\n",
       "      <td>23</td>\n",
       "      <td>0</td>\n",
       "      <td>0</td>\n",
       "      <td>2008-10-17</td>\n",
       "      <td>2010-12-17</td>\n",
       "      <td>2008-12-07</td>\n",
       "      <td>2011-06-11</td>\n",
       "      <td>...</td>\n",
       "      <td>8.0</td>\n",
       "      <td>7</td>\n",
       "      <td>7.0</td>\n",
       "      <td>7</td>\n",
       "      <td>40.89</td>\n",
       "      <td>89.32</td>\n",
       "      <td>1012.24</td>\n",
       "      <td>40.89</td>\n",
       "      <td>40.89</td>\n",
       "      <td>193.43</td>\n",
       "    </tr>\n",
       "  </tbody>\n",
       "</table>\n",
       "<p>10 rows × 22 columns</p>\n",
       "</div>"
      ],
      "text/plain": [
       "   NationalDrugCode             NdcDescription  NumberOfPatients  \\\n",
       "0         781341315       AMPICILLIN   INJ 2GM                 1   \n",
       "1       40986003109  NICOTINE POL GUM 2MG MINT                 2   \n",
       "2       47781026305       OXYCODONE    TAB 5MG              1570   \n",
       "3       10019002232  KETOROLAC    INJ 60MG/2ML                29   \n",
       "4         781197101      DESIPRAMINE  TAB 10MG              2078   \n",
       "5       89117000001  NASONEB NSL  MIS REPLACEM                 1   \n",
       "6         332415530   AMOXICILLIN  SUS 250/5ML                 2   \n",
       "7       49452439502           MEBENDAZOLE  POW                 3   \n",
       "8       68645032054      OMEPRAZOLE   CAP 20MG              5329   \n",
       "9       68330000210     CEFTRIAXONE  INJ 500MG                20   \n",
       "\n",
       "   NumberOfClaims  NumberOfMaintenancePatients  NumberOfMaintenanceClaims  \\\n",
       "0               5                            0                          0   \n",
       "1               2                            0                          0   \n",
       "2            5013                            0                          0   \n",
       "3              32                            0                          0   \n",
       "4            9718                         2078                       9718   \n",
       "5               1                            0                          0   \n",
       "6               2                            0                          0   \n",
       "7              19                            0                          0   \n",
       "8           59384                         5329                      59384   \n",
       "9              23                            0                          0   \n",
       "\n",
       "  FirstDispenseDate LastDispenseDate FirstPaidDate LastPaidDate  ...  \\\n",
       "0        2011-03-01       2011-04-08    2011-03-25   2011-04-13  ...   \n",
       "1        2016-05-24       2016-12-10    2016-05-24   2016-12-10  ...   \n",
       "2        2014-04-25       2017-06-30    2014-04-25   2017-06-30  ...   \n",
       "3        2008-03-13       2012-08-30    2008-03-13   2012-08-30  ...   \n",
       "4        2008-01-02       2017-05-26    2008-01-02   2017-06-16  ...   \n",
       "5        2014-02-21       2014-02-21    2014-02-21   2014-02-21  ...   \n",
       "6        2008-02-27       2011-01-06    2008-02-27   2012-03-12  ...   \n",
       "7        2013-07-21       2013-11-10    2013-11-10   2015-11-16  ...   \n",
       "8        2012-04-17       2017-04-05    2012-04-17   2017-04-22  ...   \n",
       "9        2008-10-17       2010-12-17    2008-12-07   2011-06-11  ...   \n",
       "\n",
       "   MaxTotalQuantity  MaxTotalDaysSupply  MaxQuantity  MaxDaysSupply  \\\n",
       "0             112.0                  29         32.0              8   \n",
       "1              40.0                   4         40.0              4   \n",
       "2            9690.0                 930        540.0             90   \n",
       "3              20.0                  30         20.0             30   \n",
       "4           28350.0                4220        720.0             90   \n",
       "5               1.0                   1          1.0              1   \n",
       "6             150.0                  10        150.0             10   \n",
       "7               9.0                   9          3.0              1   \n",
       "8            7800.0                3960        720.0            365   \n",
       "9               8.0                   7          7.0              7   \n",
       "\n",
       "   TotalDeductibleAmount  TotalMemberOutOfPocketAmount  TotalPaidAmount  \\\n",
       "0                   0.00                          1.10          2747.88   \n",
       "1                   0.00                          0.00            14.33   \n",
       "2                3869.84                      17249.18         77168.29   \n",
       "3                   9.00                        147.88           191.38   \n",
       "4               15042.91                     102093.98        286972.54   \n",
       "5                   0.00                        153.28             0.00   \n",
       "6                   0.00                         11.40            10.00   \n",
       "7                   0.00                        180.56             0.00   \n",
       "8               53827.40                     357705.79        620360.81   \n",
       "9                  40.89                         89.32          1012.24   \n",
       "\n",
       "   MaxTotalDeductibleAmount  MaxTotalMemberOutOfPocketAmount  \\\n",
       "0                      0.00                             1.10   \n",
       "1                      0.00                             0.00   \n",
       "2                    513.72                           603.97   \n",
       "3                      9.00                            10.00   \n",
       "4                    627.47                          1535.00   \n",
       "5                      0.00                           153.28   \n",
       "6                      0.00                            11.40   \n",
       "7                      0.00                           153.00   \n",
       "8                   1522.80                          1522.80   \n",
       "9                     40.89                            40.89   \n",
       "\n",
       "   MaxTotalPaidAmount  \n",
       "0             2747.88  \n",
       "1                9.30  \n",
       "2             2551.69  \n",
       "3               29.80  \n",
       "4            22936.43  \n",
       "5                0.00  \n",
       "6               10.00  \n",
       "7                0.00  \n",
       "8             4607.26  \n",
       "9              193.43  \n",
       "\n",
       "[10 rows x 22 columns]"
      ]
     },
     "execution_count": 5,
     "metadata": {},
     "output_type": "execute_result"
    }
   ],
   "source": [
    "# Print table col names + example row\n",
    "\n",
    "tab = 'ConceptMedication'\n",
    "print([r['name'] for r in ins.get_columns(tab)])\n",
    "pd.read_sql(\"select top 10 * from %s order by newid()\" % tab, cxn)"
   ]
  },
  {
   "cell_type": "markdown",
   "metadata": {},
   "source": [
    "# Population characteristics"
   ]
  },
  {
   "cell_type": "code",
   "execution_count": 6,
   "metadata": {},
   "outputs": [
    {
     "data": {
      "text/plain": [
       "<BarContainer object of 122 artists>"
      ]
     },
     "execution_count": 6,
     "metadata": {},
     "output_type": "execute_result"
    },
    {
     "data": {
      "image/png": "[encoded data removed]",
      "text/plain": [
       "<Figure size 720x432 with 1 Axes>"
      ]
     },
     "metadata": {
      "needs_background": "light"
     },
     "output_type": "display_data"
    }
   ],
   "source": [
    "# patients by birth year\n",
    "query = 'select BirthYearMinus1900+1900 as byear,count(MemberNum) as membersFromBY from Member with (nolock) group by BirthYearMinus1900'\n",
    "patients_by_birthyear = pd.read_sql(query, con=cxn, index_col='byear')\n",
    "patients_by_birthyear.dropna(axis=0, inplace=True)\n",
    "patients_by_birthyear.sort_values(by='byear', ascending=True,inplace=True)\n",
    "patients_by_birthyear['propTotalPatients'] = patients_by_birthyear.membersFromBY / patients_by_birthyear.membersFromBY.sum()\n",
    "\n",
    "plt.figure(figsize=(10, 6))\n",
    "plt.bar(x=patients_by_birthyear.index, height=patients_by_birthyear.propTotalPatients, align='center')"
   ]
  },
  {
   "cell_type": "markdown",
   "metadata": {},
   "source": [
    "## Glucose tests by age"
   ]
  },
  {
   "cell_type": "code",
   "execution_count": 7,
   "metadata": {},
   "outputs": [],
   "source": [
    "# temp table for glucose tests per patient\n",
    "glucose_lab_procs = ('82947', '')\n",
    "tmp_query = (\"select MemberNum, datepart(yyyy, DateServiceStarted) as year, LineLevelProcedureCode as cpt \"\n",
    "             \" into #hytmp from ObservationProcedure with (nolock) \"\n",
    "             \" where LineLevelProcedureCodeType='C' and LineLevelProcedureCode in %s;\" % str(glucose_lab_procs))\n",
    "cxn.execute(tmp_query)\n",
    "\n",
    "# count glucose measurements in each byear bucket per year\n",
    "query = (\"select t.year, count(*) as tests, t1.BirthYearMinus1900 + 1900 as byear\"\n",
    "        \" from (select MemberNum, BirthYearMinus1900 from Member) as t1 \"\n",
    "        \" join #hytmp as t on (t.MemberNum=t1.MemberNum)\"\n",
    "        \" group by year, t1.BirthYearMinus1900;\")\n",
    "glucose_per_year = pd.read_sql(query, cxn, index_col=['byear'])\n",
    "\n",
    "normalized_gpy = glucose_per_year.join(patients_by_birthyear, on='byear')\n",
    "normalized_gpy['testsPerMember'] = normalized_gpy.tests / normalized_gpy.membersFromBY\n",
    "normalized_gpy['age'] = normalized_gpy.year - normalized_gpy.index"
   ]
  },
  {
   "cell_type": "code",
   "execution_count": 8,
   "metadata": {
    "scrolled": false
   },
   "outputs": [
    {
     "data": {
      "text/plain": [
       "<matplotlib.legend.Legend at 0x7fdd63a89f50>"
      ]
     },
     "execution_count": 8,
     "metadata": {},
     "output_type": "execute_result"
    },
    {
     "data": {
      "image/png": "[encoded data removed]",
      "text/plain": [
       "<Figure size 720x432 with 1 Axes>"
      ]
     },
     "metadata": {
      "needs_background": "light"
     },
     "output_type": "display_data"
    }
   ],
   "source": [
    "y_old = 2011\n",
    "y_new = 2016\n",
    "age_thres = 70\n",
    "\n",
    "old_data = normalized_gpy.loc[(normalized_gpy.year == y_old) & (normalized_gpy.age < age_thres)].sort_values(by='byear')\n",
    "new_data = normalized_gpy.loc[(normalized_gpy.year == y_new) & (normalized_gpy.age < age_thres)].sort_values(by='byear')\n",
    "\n",
    "fig = plt.figure(figsize=(10, 6))\n",
    "ax = plt.subplot(111)\n",
    "old_bars = ax.bar(x=old_data.age.values-.5, height=old_data.testsPerMember, align='edge', width=.5, color=mpl.cm.viridis(.2))\n",
    "new_bars = ax.bar(x=new_data.age.values, height=new_data.testsPerMember, align='edge', width=.5, color=mpl.cm.viridis(.8))\n",
    "# ax.bar(x=patients_by_birthyear.index, height=patients_by_birthyear.propTotalPatients, align='center')\n",
    "\n",
    "plt.xlabel('Age')\n",
    "plt.ylabel('glucose tests per member in year')\n",
    "ax.legend(handles=[old_bars, new_bars], labels=[y_old, y_new])"
   ]
  },
  {
   "cell_type": "markdown",
   "metadata": {},
   "source": [
    "# eMerge T2DM algorithms"
   ]
  },
  {
   "cell_type": "code",
   "execution_count": 9,
   "metadata": {},
   "outputs": [
    {
     "data": {
      "text/plain": [
       "<sqlalchemy.engine.result.ResultProxy at 0x7fdd6412afd0>"
      ]
     },
     "execution_count": 9,
     "metadata": {},
     "output_type": "execute_result"
    }
   ],
   "source": [
    "glucose_tests_loinc = ('1558-6', '2339-0', '2345-7')\n",
    "a1c_tests_loinc = ('4548-4', '17856-6', '4549-2', '17855-8')\n",
    "\n",
    "glucose_max = 110.\n",
    "a1c_max = 6.\n",
    "\n",
    "abnormal_labs_query = (\"drop table if exists #abnormalLabs;\"\n",
    "                      \" select *\"\n",
    "                      \" into #abnormalLabs\"\n",
    "                      \" from GlucoseLabs\"\n",
    "                      \" where (LoincCode in %s and maxValue > %f) or (LoincCode in %s and maxValue > %f)\"\n",
    "                       % (glucose_tests_loinc, glucose_max, a1c_tests_loinc, a1c_max))\n",
    "hy_cxn.execute(abnormal_labs_query)"
   ]
  },
  {
   "cell_type": "markdown",
   "metadata": {},
   "source": [
    "## Cases"
   ]
  },
  {
   "cell_type": "code",
   "execution_count": 10,
   "metadata": {},
   "outputs": [
    {
     "data": {
      "text/plain": [
       "<sqlalchemy.engine.result.ResultProxy at 0x7fdd638fb610>"
      ]
     },
     "execution_count": 10,
     "metadata": {},
     "output_type": "execute_result"
    }
   ],
   "source": [
    "# t2d dx + rx for both t1d and t2d + first treated for t2d\n",
    "gr1_query = (\"drop table if exists #t2dCaseGroup1;\"\n",
    "            \" select distinct t1.MemberNum\"\n",
    "            \" into #t2dCaseGroup1\"\n",
    "            \" from (select MemberNum from DxT2dm) as t1\"\n",
    "            \"      inner join (select MemberNum, min(FirstDispenseDate) as firstRxT1dm from RxT1Dm group by MemberNum) as t2\"\n",
    "            \"        on t1.MemberNum=t2.MemberNum\"\n",
    "            \"      inner join (select MemberNum, min(FirstDispenseDate) as firstRxT2dm from RxT2Dm group by MemberNum) as t3\"\n",
    "            \"        on t2.MemberNum=t3.MemberNum\"\n",
    "            \" where firstRxT2dm < firstRxT1dm\"\n",
    "            )\n",
    "\n",
    "# t2d dx + rx for t2d but not t1d\n",
    "gr2_query = (\"drop table if exists #t2dCaseGroup2;\"\n",
    "            \" select distinct t1.MemberNum\"\n",
    "            \" into #t2dCaseGroup2\"\n",
    "            \" from (select MemberNum from DxT2dm) as t1\"\n",
    "            \"      inner join (select MemberNum from RxT2Dm) as t2\"\n",
    "            \"        on t1.MemberNum=t2.MemberNum;\"\n",
    "            \" delete from #t2dCaseGroup2\"\n",
    "            \" where MemberNum in (select MemberNum from RxT1Dm)\"\n",
    "            )\n",
    "\n",
    "# t2d dx + no rx + abnormal labs\n",
    "gr3_query = (\"drop table if exists #t2dCaseGroup3;\"\n",
    "            \" select distinct t1.MemberNum\"\n",
    "            \" into #t2dCaseGroup3\"\n",
    "            \" from (select MemberNum from DxT2dm) as t1\"\n",
    "            \"      inner join (select MemberNum from #abnormalLabs) as t2\"\n",
    "            \"        on t1.MemberNum=t2.MemberNum;\"\n",
    "            \" delete from #t2dCaseGroup3\"\n",
    "            \" where MemberNum in (select MemberNum from RxT1Dm union select MemberNum from RxT2Dm)\"\n",
    "            )\n",
    "\n",
    "# No t2d dx + t2d rx + abnormal lab\n",
    "gr4_query = (\"drop table if exists #t2dCaseGroup4;\"\n",
    "            \" select distinct t1.MemberNum\"\n",
    "            \" into #t2dCaseGroup4\"\n",
    "            \" from (select MemberNum from #abnormalLabs) as t1\"\n",
    "            \"      inner join (select MemberNum from RxT2Dm) as t2\"\n",
    "            \"        on t1.MemberNum=t2.MemberNum;\"\n",
    "            \" delete from #t2dCaseGroup4\"\n",
    "            \" where MemberNum in (select MemberNum from DxT2dm)\"\n",
    "            )\n",
    "\n",
    "# t2d dx + rx for t1d but not t2d + at least 2 dx for t2d\n",
    "gr5_query = (\"drop table if exists #t2dCaseGroup5;\"\n",
    "            \" select distinct t1.MemberNum\"\n",
    "            \" into #t2dCaseGroup5\"\n",
    "            \" from (select MemberNum, sum(numClaims) as totNumClaims from DxT2dm group by MemberNum) as t1\"\n",
    "            \"      inner join (select MemberNum from RxT1Dm) as t2\"\n",
    "            \"        on t1.MemberNum=t2.MemberNum\"\n",
    "            \" where totNumClaims > 1\"\n",
    "            \" delete from #t2dCaseGroup2\"\n",
    "            \" where MemberNum in (select MemberNum from RxT2Dm)\"\n",
    "            )\n",
    "\n",
    "hy_cxn.execute(';'.join([gr1_query, gr2_query, gr3_query, gr4_query, gr5_query]))"
   ]
  },
  {
   "cell_type": "code",
   "execution_count": 11,
   "metadata": {},
   "outputs": [
    {
     "data": {
      "text/plain": [
       "<sqlalchemy.engine.result.ResultProxy at 0x7fdd638fb5d0>"
      ]
     },
     "execution_count": 11,
     "metadata": {},
     "output_type": "execute_result"
    }
   ],
   "source": [
    "case_query = (\"drop table if exists t2dCaseEmerge;\"\n",
    "             \" select distinct MemberNum\"\n",
    "             \" into t2dCaseEmerge\"\n",
    "             \" from (select * from #t2dCaseGroup1 union select * from #t2dCaseGroup2 union select * from #t2dCaseGroup3 union select * from #t2dCaseGroup4 union select * from #t2dCaseGroup5) as t1;\"\n",
    "             \" delete from t2dCaseEmerge\"\n",
    "             \" where MemberNum in (select MemberNum from DxT1dm)\"\n",
    "             )\n",
    "hy_cxn.execute(case_query)"
   ]
  },
  {
   "cell_type": "code",
   "execution_count": 12,
   "metadata": {},
   "outputs": [
    {
     "data": {
      "text/html": [
       "<div>\n",
       "<style scoped>\n",
       "    .dataframe tbody tr th:only-of-type {\n",
       "        vertical-align: middle;\n",
       "    }\n",
       "\n",
       "    .dataframe tbody tr th {\n",
       "        vertical-align: top;\n",
       "    }\n",
       "\n",
       "    .dataframe thead th {\n",
       "        text-align: right;\n",
       "    }\n",
       "</style>\n",
       "<table border=\"1\" class=\"dataframe\">\n",
       "  <thead>\n",
       "    <tr style=\"text-align: right;\">\n",
       "      <th></th>\n",
       "      <th></th>\n",
       "    </tr>\n",
       "  </thead>\n",
       "  <tbody>\n",
       "    <tr>\n",
       "      <th>0</th>\n",
       "      <td>1014502</td>\n",
       "    </tr>\n",
       "  </tbody>\n",
       "</table>\n",
       "</div>"
      ],
      "text/plain": [
       "          \n",
       "0  1014502"
      ]
     },
     "execution_count": 12,
     "metadata": {},
     "output_type": "execute_result"
    }
   ],
   "source": [
    "pd.read_sql('select count(*) from t2dCaseEmerge', hy_cxn)"
   ]
  },
  {
   "cell_type": "markdown",
   "metadata": {},
   "source": [
    "## Controls"
   ]
  },
  {
   "cell_type": "code",
   "execution_count": 14,
   "metadata": {},
   "outputs": [
    {
     "data": {
      "text/plain": [
       "<sqlalchemy.engine.result.ResultProxy at 0x7fdd63ab3450>"
      ]
     },
     "execution_count": 14,
     "metadata": {},
     "output_type": "execute_result"
    }
   ],
   "source": [
    "# Keep patients with multiple visits & any glucose lab value \n",
    "pos_query = (\"drop table if exists t2dControlEmerge;\"\n",
    "            \" select t1.MemberNum\"\n",
    "            \" into t2dControlEmerge\"\n",
    "            \" from (select distinct MemberNum from VisitCount where visits > 1) as t1\"\n",
    "            \" inner join (select distinct MemberNum from GlucoseLabs) as t2\"\n",
    "            \" on t1.MemberNum=t2.MemberNum\")\n",
    "\n",
    "# Remove patients with DM dx (incl family hx) or abnormal labs\n",
    "neg_query = (\"delete from t2dControlEmerge\"\n",
    "            \" where MemberNum in\"\n",
    "            \" (select distinct MemberNum from DxDm\"\n",
    "            \"  union select distinct MemberNum from #abnormalLabs\"\n",
    "            \"  union select distinct MemberNum from RxDm)\")\n",
    "\n",
    "hy_cxn.execute(';'.join([pos_query, neg_query]))"
   ]
  },
  {
   "cell_type": "code",
   "execution_count": 15,
   "metadata": {
    "scrolled": true
   },
   "outputs": [
    {
     "data": {
      "text/html": [
       "<div>\n",
       "<style scoped>\n",
       "    .dataframe tbody tr th:only-of-type {\n",
       "        vertical-align: middle;\n",
       "    }\n",
       "\n",
       "    .dataframe tbody tr th {\n",
       "        vertical-align: top;\n",
       "    }\n",
       "\n",
       "    .dataframe thead th {\n",
       "        text-align: right;\n",
       "    }\n",
       "</style>\n",
       "<table border=\"1\" class=\"dataframe\">\n",
       "  <thead>\n",
       "    <tr style=\"text-align: right;\">\n",
       "      <th></th>\n",
       "      <th></th>\n",
       "    </tr>\n",
       "  </thead>\n",
       "  <tbody>\n",
       "    <tr>\n",
       "      <th>0</th>\n",
       "      <td>7595503</td>\n",
       "    </tr>\n",
       "  </tbody>\n",
       "</table>\n",
       "</div>"
      ],
      "text/plain": [
       "          \n",
       "0  7595503"
      ]
     },
     "execution_count": 15,
     "metadata": {},
     "output_type": "execute_result"
    }
   ],
   "source": [
    "pd.read_sql('select count(*) from t2dControlEmerge', hy_cxn)"
   ]
  },
  {
   "cell_type": "markdown",
   "metadata": {},
   "source": [
    "## Gap between claims"
   ]
  },
  {
   "cell_type": "code",
   "execution_count": 7,
   "metadata": {},
   "outputs": [
    {
     "data": {
      "text/plain": [
       "['ClaimsDm',\n",
       " 'depressionTTE',\n",
       " 'dmTTE',\n",
       " 'DxDm',\n",
       " 'DxT1dm',\n",
       " 'DxT2dm',\n",
       " 'GlucoseLabs',\n",
       " 'RxDm',\n",
       " 'RxIngredients',\n",
       " 'RxInsulin',\n",
       " 'RxT1Dm',\n",
       " 'RxT2dm',\n",
       " 't2dCaseEmerge',\n",
       " 't2dControlEmerge',\n",
       " 'VisitCount']"
      ]
     },
     "execution_count": 7,
     "metadata": {},
     "output_type": "execute_result"
    }
   ],
   "source": [
    "sqla.inspect(hy_engine).get_table_names()"
   ]
  },
  {
   "cell_type": "code",
   "execution_count": 7,
   "metadata": {},
   "outputs": [
    {
     "data": {
      "text/plain": [
       "<sqlalchemy.engine.result.ResultProxy at 0x7fc25e966390>"
      ]
     },
     "execution_count": 7,
     "metadata": {},
     "output_type": "execute_result"
    }
   ],
   "source": [
    "dm_dx_icd = str(('790.21', '790.22', '790.2', '790.29', '791.5', '277.7', 'V18.0', 'V77.1'))\n",
    "dm_dx_icd_fuzzy = ' or '.join([\"DiagnosisCode like '%s'\" % s for s in ('250%', '648.8%', '648.0%')])\n",
    "\n",
    "# ICD for Family hx included here \n",
    "diabetes_dx_query = (\"drop table if exists hy180.dbo.ClaimsDm;\"\n",
    "                    \" select MemberNum, StartDate as date\"\n",
    "                    \" into hy180.dbo.ClaimsDm\"\n",
    "                    \" from ObservationDiagnosis with (nolock)\"\n",
    "                    \" where DiagnosisCode in %s\"\n",
    "                    \" or %s\" % (dm_dx_icd, dm_dx_icd_fuzzy))\n",
    "\n",
    "queries = [(\"drop table if exists hy180.dbo.ClaimsDm;\"\n",
    "            \" select t1.MemberNum, t1.StartDate as date, t2.LastMonthEndDate as enrollmentEnd\"\n",
    "            \" into hy180.dbo.ClaimsDm\"\n",
    "            \" from (select distinct MemberNum, StartDate \"\n",
    "            \"       from ObservationDiagnosis with (nolock)\"\n",
    "            \"       where (DiagnosisCode in %s or %s) and StartDate between '20080101' and '20170701') as t1 \"\n",
    "            \"      inner join (select MemberNum, LastMonthEndDate from MemberEnrollment) as t2 \"\n",
    "            \"      on t1.MemberNum=t2.MemberNum\"\n",
    "            % (dm_dx_icd, dm_dx_icd_fuzzy)),\n",
    "           (\"drop table if exists #dmGaps;\"\n",
    "            \" select *, datediff(d, date, lead(date, 1) over(partition by MemberNum order by date)) as gapToNext\"\n",
    "            \" into #dmGaps\"\n",
    "            \" from hy180.dbo.ClaimsDm\"\n",
    "           ),\n",
    "           (\"drop table if exists hy180.dbo.dmTTE;\"\n",
    "            \" select t1.MemberNum, date, 119 - BirthYearMinus1900 as age, isnull(gapToNext, datediff(d, date, enrollmentEnd)) as time, case when gapToNext is null then cast(0 as bit) else cast(1 as bit) end as event\"\n",
    "            \" into hy180.dbo.dmTTE\"\n",
    "            \" from #dmGaps as t1 inner join Member as t2 on t1.MemberNum=t2.MemberNum\"\n",
    "           )]\n",
    "\n",
    "cxn.execute('; '.join(queries))"
   ]
  },
  {
   "cell_type": "code",
   "execution_count": 10,
   "metadata": {},
   "outputs": [],
   "source": [
    "df = pd.read_sql('select * from dmTTE where event=0', hy_cxn, parse_dates=['date'])"
   ]
  },
  {
   "cell_type": "code",
   "execution_count": 14,
   "metadata": {},
   "outputs": [
    {
     "data": {
      "text/plain": [
       "<matplotlib.axes._subplots.AxesSubplot at 0x7f1284ea6550>"
      ]
     },
     "execution_count": 14,
     "metadata": {},
     "output_type": "execute_result"
    },
    {
     "data": {
      "image/png": "[encoded data removed]",
      "text/plain": [
       "<Figure size 432x288 with 1 Axes>"
      ]
     },
     "metadata": {
      "needs_background": "light"
     },
     "output_type": "display_data"
    }
   ],
   "source": [
    "# distribution of claimant ages \n",
    "sns.distplot(df.drop_duplicates(subset=['MemberNum']).age.dropna())"
   ]
  },
  {
   "cell_type": "code",
   "execution_count": 13,
   "metadata": {
    "scrolled": false
   },
   "outputs": [
    {
     "data": {
      "text/plain": [
       "<matplotlib.axes._subplots.AxesSubplot at 0x7f1285b41ad0>"
      ]
     },
     "execution_count": 13,
     "metadata": {},
     "output_type": "execute_result"
    },
    {
     "data": {
      "image/png": "[encoded data removed]",
      "text/plain": [
       "<Figure size 1440x576 with 1 Axes>"
      ]
     },
     "metadata": {
      "needs_background": "light"
     },
     "output_type": "display_data"
    }
   ],
   "source": [
    "# Timing of last claim -> end or enrollment where time > 1000 days\n",
    "df['date'].groupby([df[\"date\"].dt.year, df[\"date\"].dt.month]).count().plot(kind=\"bar\", figsize=(20, 8))"
   ]
  },
  {
   "cell_type": "code",
   "execution_count": 3,
   "metadata": {},
   "outputs": [
    {
     "name": "stdout",
     "output_type": "stream",
     "text": [
      "156453\n"
     ]
    }
   ],
   "source": [
    "df_gen = pd.read_sql_table('dmTTE', hy_cxn, chunksize=int(1e+6))\n",
    "tte = next(df_gen)\n",
    "for chunk in df_gen:\n",
    "    tte = pd.concat([tte, chunk], ignore_index=True)\n",
    "\n",
    "print(np.sum(tte.time < 0))\n",
    "tte = tte[tte.time > 0]"
   ]
  },
  {
   "cell_type": "code",
   "execution_count": 10,
   "metadata": {},
   "outputs": [],
   "source": [
    "def plot_with_percentile(df, percentile, **kwargs):\n",
    "    ax = sns.distplot(df, **kwargs)\n",
    "    x = np.quantile(df, percentile)\n",
    "    ax.axvline(x=x)"
   ]
  },
  {
   "cell_type": "code",
   "execution_count": 11,
   "metadata": {
    "scrolled": false
   },
   "outputs": [
    {
     "data": {
      "image/png": "[encoded data removed]",
      "text/plain": [
       "<Figure size 972x324 with 2 Axes>"
      ]
     },
     "metadata": {
      "needs_background": "light"
     },
     "output_type": "display_data"
    }
   ],
   "source": [
    "raise Exception('careful this takes 15G of memory')\n",
    "g = sns.FacetGrid(tte, col='event', height=4.5, aspect=1.5)\n",
    "g = g.map(plot_with_percentile, 'time', percentile=.99, kde=False, norm_hist=True)"
   ]
  },
  {
   "cell_type": "code",
   "execution_count": 25,
   "metadata": {},
   "outputs": [
    {
     "name": "stdout",
     "output_type": "stream",
     "text": [
      "68369/837297\n"
     ]
    }
   ],
   "source": [
    "claims_count = pd.read_sql('select t1.MemberNum, sum(numClaims) as totClaims from dxDM as t1 inner join t2dCaseEmerge as t2 on t1.MemberNum=t2.MemberNum group by t1.MemberNum', hy_cxn)\n",
    "print('%d/%d' % (np.sum(claims_count.totClaims==1), claims_count.shape[0]))"
   ]
  },
  {
   "cell_type": "code",
   "execution_count": 14,
   "metadata": {},
   "outputs": [
    {
     "data": {
      "text/plain": [
       "258.0"
      ]
     },
     "execution_count": 14,
     "metadata": {},
     "output_type": "execute_result"
    }
   ],
   "source": [
    "np.quantile(tte.time[tte.event], .95)"
   ]
  },
  {
   "cell_type": "markdown",
   "metadata": {},
   "source": [
    "# Depression"
   ]
  },
  {
   "cell_type": "markdown",
   "metadata": {},
   "source": [
    "## Gap between claims "
   ]
  },
  {
   "cell_type": "code",
   "execution_count": 24,
   "metadata": {},
   "outputs": [
    {
     "data": {
      "text/plain": [
       "<sqlalchemy.engine.result.ResultProxy at 0x7f1303fbf5d0>"
      ]
     },
     "execution_count": 24,
     "metadata": {},
     "output_type": "execute_result"
    }
   ],
   "source": [
    "depression_icds = ('293.83', '296.20', '296.21', '296.22', '296.23', '296.24', '296.25', '296.26', '296.30', '296.31', '296.32', '296.33', '296.34', '296.35', '296.36', '300.4', '311')\n",
    "\n",
    "# Get gaps between depression claims \n",
    "queries = [(\"drop table if exists #depressionClaims;\"\n",
    "            \" select t1.MemberNum, t1.StartDate as date, t2.LastMonthEndDate as enrollmentEnd\"\n",
    "            \" into #depressionClaims\"\n",
    "            \" from (select distinct MemberNum, StartDate from ObservationDiagnosis where DiagnosisCode in %s and StartDate < '20170701') as t1 \"\n",
    "            \"      inner join (select MemberNum, LastMonthEndDate from MemberEnrollment) as t2 \"\n",
    "            \"      on t1.MemberNum=t2.MemberNum\"\n",
    "            % str(depression_icds)),\n",
    "           (\"drop table if exists #depressionGaps;\"\n",
    "            \" select *, datediff(d, date, lead(date, 1) over(partition by MemberNum order by date)) as gapToNext\"\n",
    "            \" into #depressionGaps\"\n",
    "            \" from #depressionClaims\"\n",
    "           ),\n",
    "           (\"drop table if exists hy180.dbo.depressionTTE;\"\n",
    "            \" select isnull(gapToNext, datediff(d, date, enrollmentEnd)) as time, case when gapToNext is null then cast(0 as bit) else cast(1 as bit) end as event\"\n",
    "            \" into hy180.dbo.depressionTTE\"\n",
    "            \" from #depressionGaps\"\n",
    "           )]\n",
    "\n",
    "cxn.execute('; '.join(queries))"
   ]
  },
  {
   "cell_type": "code",
   "execution_count": 15,
   "metadata": {
    "scrolled": true
   },
   "outputs": [
    {
     "data": {
      "text/html": [
       "<div>\n",
       "<style scoped>\n",
       "    .dataframe tbody tr th:only-of-type {\n",
       "        vertical-align: middle;\n",
       "    }\n",
       "\n",
       "    .dataframe tbody tr th {\n",
       "        vertical-align: top;\n",
       "    }\n",
       "\n",
       "    .dataframe thead th {\n",
       "        text-align: right;\n",
       "    }\n",
       "</style>\n",
       "<table border=\"1\" class=\"dataframe\">\n",
       "  <thead>\n",
       "    <tr style=\"text-align: right;\">\n",
       "      <th></th>\n",
       "      <th>MemberNum</th>\n",
       "      <th>date</th>\n",
       "      <th>enrollmentEnd</th>\n",
       "      <th>gapToNext</th>\n",
       "    </tr>\n",
       "  </thead>\n",
       "  <tbody>\n",
       "    <tr>\n",
       "      <th>0</th>\n",
       "      <td>231512161621242001</td>\n",
       "      <td>2017-03-06</td>\n",
       "      <td>2017-04-30</td>\n",
       "      <td>NaN</td>\n",
       "    </tr>\n",
       "    <tr>\n",
       "      <th>1</th>\n",
       "      <td>231512140501243201</td>\n",
       "      <td>2017-02-13</td>\n",
       "      <td>2018-07-31</td>\n",
       "      <td>NaN</td>\n",
       "    </tr>\n",
       "    <tr>\n",
       "      <th>2</th>\n",
       "      <td>231512231332173301</td>\n",
       "      <td>2017-01-12</td>\n",
       "      <td>2018-07-31</td>\n",
       "      <td>NaN</td>\n",
       "    </tr>\n",
       "    <tr>\n",
       "      <th>3</th>\n",
       "      <td>231512210216292201</td>\n",
       "      <td>2017-01-11</td>\n",
       "      <td>2018-07-31</td>\n",
       "      <td>NaN</td>\n",
       "    </tr>\n",
       "    <tr>\n",
       "      <th>4</th>\n",
       "      <td>231512232920293501</td>\n",
       "      <td>2017-01-05</td>\n",
       "      <td>2017-12-31</td>\n",
       "      <td>NaN</td>\n",
       "    </tr>\n",
       "    <tr>\n",
       "      <th>5</th>\n",
       "      <td>231512210513232001</td>\n",
       "      <td>2016-12-21</td>\n",
       "      <td>2018-07-31</td>\n",
       "      <td>NaN</td>\n",
       "    </tr>\n",
       "    <tr>\n",
       "      <th>6</th>\n",
       "      <td>231512210527142201</td>\n",
       "      <td>2016-12-20</td>\n",
       "      <td>2018-07-31</td>\n",
       "      <td>NaN</td>\n",
       "    </tr>\n",
       "    <tr>\n",
       "      <th>7</th>\n",
       "      <td>231512170418202601</td>\n",
       "      <td>2016-12-19</td>\n",
       "      <td>2017-12-31</td>\n",
       "      <td>NaN</td>\n",
       "    </tr>\n",
       "    <tr>\n",
       "      <th>8</th>\n",
       "      <td>231512182312201601</td>\n",
       "      <td>2016-12-12</td>\n",
       "      <td>2016-12-31</td>\n",
       "      <td>NaN</td>\n",
       "    </tr>\n",
       "    <tr>\n",
       "      <th>9</th>\n",
       "      <td>231512140620053301</td>\n",
       "      <td>2016-12-05</td>\n",
       "      <td>2018-01-31</td>\n",
       "      <td>NaN</td>\n",
       "    </tr>\n",
       "    <tr>\n",
       "      <th>10</th>\n",
       "      <td>231512182312201601</td>\n",
       "      <td>2016-11-28</td>\n",
       "      <td>2016-12-31</td>\n",
       "      <td>14.0</td>\n",
       "    </tr>\n",
       "    <tr>\n",
       "      <th>11</th>\n",
       "      <td>231512182312201601</td>\n",
       "      <td>2016-11-21</td>\n",
       "      <td>2016-12-31</td>\n",
       "      <td>7.0</td>\n",
       "    </tr>\n",
       "    <tr>\n",
       "      <th>12</th>\n",
       "      <td>231512221729243601</td>\n",
       "      <td>2016-11-21</td>\n",
       "      <td>2018-07-31</td>\n",
       "      <td>NaN</td>\n",
       "    </tr>\n",
       "    <tr>\n",
       "      <th>13</th>\n",
       "      <td>231512211826212901</td>\n",
       "      <td>2016-11-15</td>\n",
       "      <td>2018-07-31</td>\n",
       "      <td>NaN</td>\n",
       "    </tr>\n",
       "    <tr>\n",
       "      <th>14</th>\n",
       "      <td>231512182312201601</td>\n",
       "      <td>2016-11-14</td>\n",
       "      <td>2016-12-31</td>\n",
       "      <td>7.0</td>\n",
       "    </tr>\n",
       "    <tr>\n",
       "      <th>15</th>\n",
       "      <td>231512203033342601</td>\n",
       "      <td>2016-11-01</td>\n",
       "      <td>2018-07-31</td>\n",
       "      <td>NaN</td>\n",
       "    </tr>\n",
       "    <tr>\n",
       "      <th>16</th>\n",
       "      <td>231512221808132001</td>\n",
       "      <td>2016-10-05</td>\n",
       "      <td>2018-07-31</td>\n",
       "      <td>NaN</td>\n",
       "    </tr>\n",
       "    <tr>\n",
       "      <th>17</th>\n",
       "      <td>231512182312201601</td>\n",
       "      <td>2016-10-03</td>\n",
       "      <td>2016-12-31</td>\n",
       "      <td>42.0</td>\n",
       "    </tr>\n",
       "    <tr>\n",
       "      <th>18</th>\n",
       "      <td>231512221808132001</td>\n",
       "      <td>2016-09-21</td>\n",
       "      <td>2018-07-31</td>\n",
       "      <td>14.0</td>\n",
       "    </tr>\n",
       "    <tr>\n",
       "      <th>19</th>\n",
       "      <td>231512200506281801</td>\n",
       "      <td>2016-08-08</td>\n",
       "      <td>2018-07-31</td>\n",
       "      <td>NaN</td>\n",
       "    </tr>\n",
       "    <tr>\n",
       "      <th>20</th>\n",
       "      <td>231512121808162401</td>\n",
       "      <td>2016-08-07</td>\n",
       "      <td>2018-07-31</td>\n",
       "      <td>NaN</td>\n",
       "    </tr>\n",
       "    <tr>\n",
       "      <th>21</th>\n",
       "      <td>231507010409070301</td>\n",
       "      <td>2016-08-05</td>\n",
       "      <td>2016-11-30</td>\n",
       "      <td>NaN</td>\n",
       "    </tr>\n",
       "    <tr>\n",
       "      <th>22</th>\n",
       "      <td>231512222427222001</td>\n",
       "      <td>2016-08-05</td>\n",
       "      <td>2018-07-31</td>\n",
       "      <td>NaN</td>\n",
       "    </tr>\n",
       "    <tr>\n",
       "      <th>23</th>\n",
       "      <td>231512171821002701</td>\n",
       "      <td>2016-08-03</td>\n",
       "      <td>2018-07-31</td>\n",
       "      <td>NaN</td>\n",
       "    </tr>\n",
       "    <tr>\n",
       "      <th>24</th>\n",
       "      <td>231512180327292301</td>\n",
       "      <td>2016-08-02</td>\n",
       "      <td>2018-07-31</td>\n",
       "      <td>NaN</td>\n",
       "    </tr>\n",
       "    <tr>\n",
       "      <th>25</th>\n",
       "      <td>231512210523201201</td>\n",
       "      <td>2016-07-30</td>\n",
       "      <td>2017-12-31</td>\n",
       "      <td>NaN</td>\n",
       "    </tr>\n",
       "    <tr>\n",
       "      <th>26</th>\n",
       "      <td>231512210709341601</td>\n",
       "      <td>2016-07-30</td>\n",
       "      <td>2016-12-31</td>\n",
       "      <td>NaN</td>\n",
       "    </tr>\n",
       "    <tr>\n",
       "      <th>27</th>\n",
       "      <td>231512200623082001</td>\n",
       "      <td>2016-07-29</td>\n",
       "      <td>2018-07-31</td>\n",
       "      <td>NaN</td>\n",
       "    </tr>\n",
       "    <tr>\n",
       "      <th>28</th>\n",
       "      <td>231512180122352801</td>\n",
       "      <td>2016-07-28</td>\n",
       "      <td>2018-07-31</td>\n",
       "      <td>NaN</td>\n",
       "    </tr>\n",
       "    <tr>\n",
       "      <th>29</th>\n",
       "      <td>231512122134142901</td>\n",
       "      <td>2016-07-28</td>\n",
       "      <td>2016-12-31</td>\n",
       "      <td>NaN</td>\n",
       "    </tr>\n",
       "    <tr>\n",
       "      <th>...</th>\n",
       "      <td>...</td>\n",
       "      <td>...</td>\n",
       "      <td>...</td>\n",
       "      <td>...</td>\n",
       "    </tr>\n",
       "    <tr>\n",
       "      <th>70</th>\n",
       "      <td>231512200309123501</td>\n",
       "      <td>2016-04-19</td>\n",
       "      <td>2016-12-31</td>\n",
       "      <td>30.0</td>\n",
       "    </tr>\n",
       "    <tr>\n",
       "      <th>71</th>\n",
       "      <td>231512180021052801</td>\n",
       "      <td>2016-04-18</td>\n",
       "      <td>2018-07-31</td>\n",
       "      <td>NaN</td>\n",
       "    </tr>\n",
       "    <tr>\n",
       "      <th>72</th>\n",
       "      <td>231512200516141801</td>\n",
       "      <td>2016-04-18</td>\n",
       "      <td>2018-07-31</td>\n",
       "      <td>NaN</td>\n",
       "    </tr>\n",
       "    <tr>\n",
       "      <th>73</th>\n",
       "      <td>231512203523183401</td>\n",
       "      <td>2016-04-15</td>\n",
       "      <td>2018-07-31</td>\n",
       "      <td>24.0</td>\n",
       "    </tr>\n",
       "    <tr>\n",
       "      <th>74</th>\n",
       "      <td>231512161800262301</td>\n",
       "      <td>2016-04-13</td>\n",
       "      <td>2016-05-31</td>\n",
       "      <td>NaN</td>\n",
       "    </tr>\n",
       "    <tr>\n",
       "      <th>75</th>\n",
       "      <td>231512211718062901</td>\n",
       "      <td>2016-04-12</td>\n",
       "      <td>2016-08-31</td>\n",
       "      <td>16.0</td>\n",
       "    </tr>\n",
       "    <tr>\n",
       "      <th>76</th>\n",
       "      <td>231512200309123501</td>\n",
       "      <td>2016-04-12</td>\n",
       "      <td>2016-12-31</td>\n",
       "      <td>7.0</td>\n",
       "    </tr>\n",
       "    <tr>\n",
       "      <th>77</th>\n",
       "      <td>231512200028332401</td>\n",
       "      <td>2016-04-08</td>\n",
       "      <td>2018-07-31</td>\n",
       "      <td>NaN</td>\n",
       "    </tr>\n",
       "    <tr>\n",
       "      <th>78</th>\n",
       "      <td>231512200309123501</td>\n",
       "      <td>2016-04-05</td>\n",
       "      <td>2016-12-31</td>\n",
       "      <td>7.0</td>\n",
       "    </tr>\n",
       "    <tr>\n",
       "      <th>79</th>\n",
       "      <td>231512180402051401</td>\n",
       "      <td>2016-04-05</td>\n",
       "      <td>2018-07-31</td>\n",
       "      <td>57.0</td>\n",
       "    </tr>\n",
       "    <tr>\n",
       "      <th>80</th>\n",
       "      <td>231512200614212201</td>\n",
       "      <td>2016-04-05</td>\n",
       "      <td>2017-05-31</td>\n",
       "      <td>NaN</td>\n",
       "    </tr>\n",
       "    <tr>\n",
       "      <th>81</th>\n",
       "      <td>231512170734343301</td>\n",
       "      <td>2016-03-21</td>\n",
       "      <td>2018-07-31</td>\n",
       "      <td>NaN</td>\n",
       "    </tr>\n",
       "    <tr>\n",
       "      <th>82</th>\n",
       "      <td>5396635429425</td>\n",
       "      <td>2016-03-17</td>\n",
       "      <td>2018-07-31</td>\n",
       "      <td>NaN</td>\n",
       "    </tr>\n",
       "    <tr>\n",
       "      <th>83</th>\n",
       "      <td>231512210513021701</td>\n",
       "      <td>2016-03-10</td>\n",
       "      <td>2018-07-31</td>\n",
       "      <td>NaN</td>\n",
       "    </tr>\n",
       "    <tr>\n",
       "      <th>84</th>\n",
       "      <td>231512201629282601</td>\n",
       "      <td>2016-03-04</td>\n",
       "      <td>2018-07-31</td>\n",
       "      <td>NaN</td>\n",
       "    </tr>\n",
       "    <tr>\n",
       "      <th>85</th>\n",
       "      <td>231512200022341401</td>\n",
       "      <td>2016-02-25</td>\n",
       "      <td>2017-12-31</td>\n",
       "      <td>NaN</td>\n",
       "    </tr>\n",
       "    <tr>\n",
       "      <th>86</th>\n",
       "      <td>231512200309123501</td>\n",
       "      <td>2016-02-25</td>\n",
       "      <td>2016-12-31</td>\n",
       "      <td>40.0</td>\n",
       "    </tr>\n",
       "    <tr>\n",
       "      <th>87</th>\n",
       "      <td>231512180906093401</td>\n",
       "      <td>2016-02-25</td>\n",
       "      <td>2016-11-30</td>\n",
       "      <td>NaN</td>\n",
       "    </tr>\n",
       "    <tr>\n",
       "      <th>88</th>\n",
       "      <td>231512160905021401</td>\n",
       "      <td>2016-02-25</td>\n",
       "      <td>2018-07-31</td>\n",
       "      <td>NaN</td>\n",
       "    </tr>\n",
       "    <tr>\n",
       "      <th>89</th>\n",
       "      <td>231512200022341401</td>\n",
       "      <td>2016-02-18</td>\n",
       "      <td>2017-12-31</td>\n",
       "      <td>7.0</td>\n",
       "    </tr>\n",
       "    <tr>\n",
       "      <th>90</th>\n",
       "      <td>231512200022341401</td>\n",
       "      <td>2016-02-11</td>\n",
       "      <td>2017-12-31</td>\n",
       "      <td>7.0</td>\n",
       "    </tr>\n",
       "    <tr>\n",
       "      <th>91</th>\n",
       "      <td>231512181313362101</td>\n",
       "      <td>2016-02-08</td>\n",
       "      <td>2016-11-30</td>\n",
       "      <td>NaN</td>\n",
       "    </tr>\n",
       "    <tr>\n",
       "      <th>92</th>\n",
       "      <td>231512121827302301</td>\n",
       "      <td>2016-01-28</td>\n",
       "      <td>2018-07-31</td>\n",
       "      <td>NaN</td>\n",
       "    </tr>\n",
       "    <tr>\n",
       "      <th>93</th>\n",
       "      <td>231512180906093401</td>\n",
       "      <td>2016-01-27</td>\n",
       "      <td>2016-11-30</td>\n",
       "      <td>29.0</td>\n",
       "    </tr>\n",
       "    <tr>\n",
       "      <th>94</th>\n",
       "      <td>231512210213062401</td>\n",
       "      <td>2016-01-21</td>\n",
       "      <td>2018-07-31</td>\n",
       "      <td>NaN</td>\n",
       "    </tr>\n",
       "    <tr>\n",
       "      <th>95</th>\n",
       "      <td>231512203412203501</td>\n",
       "      <td>2016-01-20</td>\n",
       "      <td>2016-12-31</td>\n",
       "      <td>NaN</td>\n",
       "    </tr>\n",
       "    <tr>\n",
       "      <th>96</th>\n",
       "      <td>231512170604293201</td>\n",
       "      <td>2016-01-19</td>\n",
       "      <td>2016-12-31</td>\n",
       "      <td>NaN</td>\n",
       "    </tr>\n",
       "    <tr>\n",
       "      <th>97</th>\n",
       "      <td>231512170008042701</td>\n",
       "      <td>2016-01-18</td>\n",
       "      <td>2017-12-31</td>\n",
       "      <td>NaN</td>\n",
       "    </tr>\n",
       "    <tr>\n",
       "      <th>98</th>\n",
       "      <td>231512202835032001</td>\n",
       "      <td>2016-01-18</td>\n",
       "      <td>2017-06-30</td>\n",
       "      <td>NaN</td>\n",
       "    </tr>\n",
       "    <tr>\n",
       "      <th>99</th>\n",
       "      <td>231512221307231201</td>\n",
       "      <td>2016-01-18</td>\n",
       "      <td>2018-07-31</td>\n",
       "      <td>182.0</td>\n",
       "    </tr>\n",
       "  </tbody>\n",
       "</table>\n",
       "<p>100 rows × 4 columns</p>\n",
       "</div>"
      ],
      "text/plain": [
       "             MemberNum        date enrollmentEnd  gapToNext\n",
       "0   231512161621242001  2017-03-06    2017-04-30        NaN\n",
       "1   231512140501243201  2017-02-13    2018-07-31        NaN\n",
       "2   231512231332173301  2017-01-12    2018-07-31        NaN\n",
       "3   231512210216292201  2017-01-11    2018-07-31        NaN\n",
       "4   231512232920293501  2017-01-05    2017-12-31        NaN\n",
       "5   231512210513232001  2016-12-21    2018-07-31        NaN\n",
       "6   231512210527142201  2016-12-20    2018-07-31        NaN\n",
       "7   231512170418202601  2016-12-19    2017-12-31        NaN\n",
       "8   231512182312201601  2016-12-12    2016-12-31        NaN\n",
       "9   231512140620053301  2016-12-05    2018-01-31        NaN\n",
       "10  231512182312201601  2016-11-28    2016-12-31       14.0\n",
       "11  231512182312201601  2016-11-21    2016-12-31        7.0\n",
       "12  231512221729243601  2016-11-21    2018-07-31        NaN\n",
       "13  231512211826212901  2016-11-15    2018-07-31        NaN\n",
       "14  231512182312201601  2016-11-14    2016-12-31        7.0\n",
       "15  231512203033342601  2016-11-01    2018-07-31        NaN\n",
       "16  231512221808132001  2016-10-05    2018-07-31        NaN\n",
       "17  231512182312201601  2016-10-03    2016-12-31       42.0\n",
       "18  231512221808132001  2016-09-21    2018-07-31       14.0\n",
       "19  231512200506281801  2016-08-08    2018-07-31        NaN\n",
       "20  231512121808162401  2016-08-07    2018-07-31        NaN\n",
       "21  231507010409070301  2016-08-05    2016-11-30        NaN\n",
       "22  231512222427222001  2016-08-05    2018-07-31        NaN\n",
       "23  231512171821002701  2016-08-03    2018-07-31        NaN\n",
       "24  231512180327292301  2016-08-02    2018-07-31        NaN\n",
       "25  231512210523201201  2016-07-30    2017-12-31        NaN\n",
       "26  231512210709341601  2016-07-30    2016-12-31        NaN\n",
       "27  231512200623082001  2016-07-29    2018-07-31        NaN\n",
       "28  231512180122352801  2016-07-28    2018-07-31        NaN\n",
       "29  231512122134142901  2016-07-28    2016-12-31        NaN\n",
       "..                 ...         ...           ...        ...\n",
       "70  231512200309123501  2016-04-19    2016-12-31       30.0\n",
       "71  231512180021052801  2016-04-18    2018-07-31        NaN\n",
       "72  231512200516141801  2016-04-18    2018-07-31        NaN\n",
       "73  231512203523183401  2016-04-15    2018-07-31       24.0\n",
       "74  231512161800262301  2016-04-13    2016-05-31        NaN\n",
       "75  231512211718062901  2016-04-12    2016-08-31       16.0\n",
       "76  231512200309123501  2016-04-12    2016-12-31        7.0\n",
       "77  231512200028332401  2016-04-08    2018-07-31        NaN\n",
       "78  231512200309123501  2016-04-05    2016-12-31        7.0\n",
       "79  231512180402051401  2016-04-05    2018-07-31       57.0\n",
       "80  231512200614212201  2016-04-05    2017-05-31        NaN\n",
       "81  231512170734343301  2016-03-21    2018-07-31        NaN\n",
       "82       5396635429425  2016-03-17    2018-07-31        NaN\n",
       "83  231512210513021701  2016-03-10    2018-07-31        NaN\n",
       "84  231512201629282601  2016-03-04    2018-07-31        NaN\n",
       "85  231512200022341401  2016-02-25    2017-12-31        NaN\n",
       "86  231512200309123501  2016-02-25    2016-12-31       40.0\n",
       "87  231512180906093401  2016-02-25    2016-11-30        NaN\n",
       "88  231512160905021401  2016-02-25    2018-07-31        NaN\n",
       "89  231512200022341401  2016-02-18    2017-12-31        7.0\n",
       "90  231512200022341401  2016-02-11    2017-12-31        7.0\n",
       "91  231512181313362101  2016-02-08    2016-11-30        NaN\n",
       "92  231512121827302301  2016-01-28    2018-07-31        NaN\n",
       "93  231512180906093401  2016-01-27    2016-11-30       29.0\n",
       "94  231512210213062401  2016-01-21    2018-07-31        NaN\n",
       "95  231512203412203501  2016-01-20    2016-12-31        NaN\n",
       "96  231512170604293201  2016-01-19    2016-12-31        NaN\n",
       "97  231512170008042701  2016-01-18    2017-12-31        NaN\n",
       "98  231512202835032001  2016-01-18    2017-06-30        NaN\n",
       "99  231512221307231201  2016-01-18    2018-07-31      182.0\n",
       "\n",
       "[100 rows x 4 columns]"
      ]
     },
     "execution_count": 15,
     "metadata": {},
     "output_type": "execute_result"
    }
   ],
   "source": [
    "pd.read_sql('select top 100 * from #dmGaps order by date desc', cxn)"
   ]
  },
  {
   "cell_type": "code",
   "execution_count": 5,
   "metadata": {},
   "outputs": [],
   "source": [
    "df_gen = pd.read_sql_table('depressionTTE', hy_cxn, chunksize=int(1e+6))\n",
    "tte = next(df_gen)\n",
    "for chunk in df_gen:\n",
    "    tte = pd.concat([tte, chunk], ignore_index=True)\n",
    "    \n",
    "tte = tte[tte.time > 0]"
   ]
  },
  {
   "cell_type": "code",
   "execution_count": 6,
   "metadata": {},
   "outputs": [
    {
     "data": {
      "text/plain": [
       "<matplotlib.axes._subplots.AxesSubplot at 0x7f130220f990>"
      ]
     },
     "execution_count": 6,
     "metadata": {},
     "output_type": "execute_result"
    },
    {
     "data": {
      "image/png": "[encoded data removed]",
      "text/plain": [
       "<Figure size 432x288 with 1 Axes>"
      ]
     },
     "metadata": {
      "needs_background": "light"
     },
     "output_type": "display_data"
    }
   ],
   "source": [
    "kmf = lifelines.KaplanMeierFitter()\n",
    "kmf.fit(tte.time, event_observed=tte.event)\n",
    "kmf.plot()"
   ]
  },
  {
   "cell_type": "code",
   "execution_count": null,
   "metadata": {},
   "outputs": [],
   "source": [
    "def count_overlap(t1, t2, key_col, cxn):\n",
    "    query = (\"select count(*)\"\n",
    "            \" from %s as t1 inner join %s as t2 on t1.%s=t2.%s\"\n",
    "            % (t1, t2, key_col, key_col))\n",
    "    return cxn.execute(query).fetchone()[0]\n",
    "\n",
    "\n",
    "def contingency_table(case_tablename, control_tablename, exposed_tablename, nonexposed_tablename):\n",
    "    case_exposed = count_overlap(case_tablename, exposed_tablename, 'MemberNum', cxn)\n",
    "    case_nonexposed = count_overlap(case_tablename, nonexposed_tablename, 'MemberNum', cxn)\n",
    "    control_exposed = count_overlap(control_tablename, exposed_tablename, 'MemberNum', cxn)\n",
    "    control_nonexposed = count_overlap(control_tablename, nonexposed_tablename, 'MemberNum', cxn)\n",
    "    \n",
    "    "
   ]
  }
 ],
 "metadata": {
  "kernelspec": {
   "display_name": "Python 3",
   "language": "python",
   "name": "python3"
  },
  "language_info": {
   "codemirror_mode": {
    "name": "ipython",
    "version": 3
   },
   "file_extension": ".py",
   "mimetype": "text/x-python",
   "name": "python",
   "nbconvert_exporter": "python",
   "pygments_lexer": "ipython3",
   "version": "3.7.4"
  }
 },
 "nbformat": 4,
 "nbformat_minor": 2
}
