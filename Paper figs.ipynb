{
 "cells": [
  {
   "cell_type": "code",
   "execution_count": 1,
   "metadata": {
    "ExecuteTime": {
     "end_time": "2019-08-12T04:39:28.463021Z",
     "start_time": "2019-08-12T04:39:27.317507Z"
    }
   },
   "outputs": [],
   "source": [
    "import urllib\n",
    "import pyodbc\n",
    "import itertools\n",
    "import pandas as pd\n",
    "import numpy as np\n",
    "import seaborn as sns\n",
    "import sqlalchemy as sqla\n",
    "import matplotlib as mpl\n",
    "import statsmodels.api as sm\n",
    "import multiprocessing as mp\n",
    "\n",
    "from multiprocessing import Process\n",
    "from matplotlib import pyplot as plt\n",
    "from tqdm import tqdm_notebook as tqdm\n",
    "from importlib import reload\n",
    "from scipy import stats\n",
    "from statsmodels.stats.contingency_tables import Table2x2 as ctable"
   ]
  },
  {
   "cell_type": "code",
   "execution_count": 2,
   "metadata": {
    "ExecuteTime": {
     "end_time": "2019-08-12T04:39:31.055438Z",
     "start_time": "2019-08-12T04:39:28.464933Z"
    }
   },
   "outputs": [],
   "source": [
    "with open('dbmi-aetna-cxn-str') as f:\n",
    "    cxn_params = f.read().strip()\n",
    "    gmw_cxn_str = urllib.parse.quote_plus(cxn_params + 'Database=gmw3')\n",
    "    aetna_raw_cxn_str = urllib.parse.quote_plus(cxn_params + 'Database=AetnaDataWarehouse')\n",
    "    hy_cxn_str = urllib.parse.quote_plus(cxn_params + 'Database=hy180')\n",
    "    \n",
    "engine = sqla.create_engine(\"mssql+pyodbc:///?odbc_connect=%s\" % gmw_cxn_str, connect_args = {'autocommit':True})\n",
    "cxn = engine.connect()\n",
    "ins = sqla.inspect(engine)\n",
    "\n",
    "hy_engine = sqla.create_engine(\"mssql+pyodbc:///?odbc_connect=%s\" % hy_cxn_str, connect_args = {'autocommit': True, 'fast_executemany': True}, pool_size=100)\n",
    "hy_cxn = hy_engine.connect()"
   ]
  },
  {
   "cell_type": "markdown",
   "metadata": {},
   "source": [
    "# Glucose tests per age "
   ]
  },
  {
   "cell_type": "markdown",
   "metadata": {},
   "source": [
    "## Data"
   ]
  },
  {
   "cell_type": "code",
   "execution_count": 72,
   "metadata": {
    "ExecuteTime": {
     "end_time": "2019-08-12T21:50:38.025508Z",
     "start_time": "2019-08-12T21:50:08.983108Z"
    }
   },
   "outputs": [],
   "source": [
    "# temp table for glucose tests per patient\n",
    "glucose_tests_cpt = ('82947', )\n",
    "glucose_panels_cpt = ('80047', '80048', '80053', '80069')\n",
    "a1c_tests_cpt = ('83036', )\n",
    "all_tests_cpt = glucose_tests_cpt + glucose_panels_cpt + a1c_tests_cpt\n",
    "\n",
    "tmp_query = (\"drop table if exists #hytmp; drop table if exists #patientBYCount;\"\n",
    "            \" select MemberNum, datepart(yyyy, DateServiceStarted) as year, LineLevelProcedureCode as cpt \"\n",
    "            \"  into #hytmp from ObservationProcedure with (nolock) \"\n",
    "           f\"  where LineLevelProcedureCodeType='C' and LineLevelProcedureCode in {str(all_tests_cpt)};\"\n",
    "            \" select BirthYearMinus1900, count(*) as byearCount\"\n",
    "            \"  into #patientBYCount\"\n",
    "            \"  from gmw3.dbo.Member\"\n",
    "            \"  group by BirthYearMinus1900\")\n",
    "cxn.execute(tmp_query)\n",
    "\n",
    "# count glucose measurements in each byear bucket per year\n",
    "query = (\"select t2.year, (1. * count(*))/byearCount as testsPerBY, 119 - t1.BirthYearMinus1900 as age\"\n",
    "        \" from Member as t1 \"\n",
    "        \" join #hytmp as t2 on t1.MemberNum=t2.MemberNum\"\n",
    "        \" join #patientBYCount as t3 on t1.BirthYearMinus1900=t3.BirthYearMinus1900\"\n",
    "        \" group by year, t1.BirthYearMinus1900, byearCount;\")\n",
    "glucose_per_year = pd.read_sql(query, cxn)\n",
    "glucose_per_year.to_csv('figdata/glucose_per_year.csv')"
   ]
  },
  {
   "cell_type": "markdown",
   "metadata": {
    "ExecuteTime": {
     "end_time": "2019-08-12T05:11:12.350522Z",
     "start_time": "2019-08-12T05:11:12.337451Z"
    }
   },
   "source": [
    "## Figure"
   ]
  },
  {
   "cell_type": "code",
   "execution_count": 74,
   "metadata": {
    "ExecuteTime": {
     "end_time": "2019-08-12T21:50:48.754170Z",
     "start_time": "2019-08-12T21:50:48.315327Z"
    }
   },
   "outputs": [
    {
     "data": {
      "text/plain": [
       "Text(0, 0.5, 'glucose tests per member in 2011')"
      ]
     },
     "execution_count": 74,
     "metadata": {},
     "output_type": "execute_result"
    },
    {
     "data": {
      "image/png": "[encoded data removed]",
      "text/plain": [
       "<Figure size 864x288 with 1 Axes>"
      ]
     },
     "metadata": {},
     "output_type": "display_data"
    }
   ],
   "source": [
    "glucose_per_year = pd.read_csv('figdata/glucose_per_year.csv')\n",
    "\n",
    "age_thres = 71\n",
    "year = 2011\n",
    "\n",
    "data = glucose_per_year.loc[(glucose_per_year.year == year) & (glucose_per_year.age < age_thres)].sort_values(by='age', ascending=True)\n",
    "\n",
    "fig = plt.figure(figsize=(12, 4))\n",
    "ax = plt.subplot(111)\n",
    "bars = ax.bar(x=data.age.values, height=data.testsPerBY, align='center', width=.5)\n",
    "\n",
    "plt.xlabel('Age')\n",
    "plt.ylabel('glucose tests per member in 2011')"
   ]
  },
  {
   "cell_type": "markdown",
   "metadata": {
    "ExecuteTime": {
     "end_time": "2019-08-12T05:11:57.136810Z",
     "start_time": "2019-08-12T05:11:57.123602Z"
    }
   },
   "source": [
    "# Age distributions"
   ]
  },
  {
   "cell_type": "markdown",
   "metadata": {
    "ExecuteTime": {
     "end_time": "2019-08-12T17:59:52.768805Z",
     "start_time": "2019-08-12T17:59:52.756809Z"
    }
   },
   "source": [
    "## Data"
   ]
  },
  {
   "cell_type": "code",
   "execution_count": 50,
   "metadata": {
    "ExecuteTime": {
     "end_time": "2019-08-12T17:50:27.157080Z",
     "start_time": "2019-08-12T17:50:27.146166Z"
    }
   },
   "outputs": [],
   "source": [
    "def age_counts(group_table=None, cxn=cxn):\n",
    "    if group_table is None:\n",
    "        query = (\"select 119 - BirthYearMinus1900 as age, count(*) as ageCount\"\n",
    "                \" from gmw3.dbo.Member\"\n",
    "                \" group by BirthYearMinus1900\")\n",
    "    else:\n",
    "        query = (\"select 119 - BirthYearMinus1900 as age, count(*) as ageCount\"\n",
    "                \" from gmw3.dbo.Member as t1\"\n",
    "                \" inner join %s as t2\"\n",
    "                \" on t1.MemberNum=t2.MemberNum\"\n",
    "                \" group by BirthYearMinus1900\"\n",
    "                % group_table)\n",
    "    \n",
    "    results = pd.read_sql(query, cxn)\n",
    "    return results"
   ]
  },
  {
   "cell_type": "code",
   "execution_count": 75,
   "metadata": {
    "ExecuteTime": {
     "end_time": "2019-08-12T21:51:24.723021Z",
     "start_time": "2019-08-12T21:51:18.197664Z"
    }
   },
   "outputs": [],
   "source": [
    "groups = ['hy180.dbo.t2dCaseEmerge', 'hy180.dbo.t2dControlEmerge', 'hy180.dbo.t2dControlEmergeIgnoreLabValue', 'hy180.dbo.t2dControlEmergeIgnoreLab', 'hy180.dbo.t2dControlEmergeNoLab', 'hy180.dbo.t2dControlEmergeNoLabMatched']\n",
    "labels = ['Case', 'Baseline Control', 'Ignore Lab Value', 'Ignore Lab', 'No Lab', 'No lab matched']\n",
    "\n",
    "data = pd.DataFrame(columns=['age', 'ageCount', 'label'])\n",
    "for group, label in zip(groups, labels):\n",
    "    dist = age_counts(group)\n",
    "    dist['label'] = label\n",
    "    data = pd.concat([data, dist])\n",
    "    \n",
    "data.to_csv('figdata/age_distributions.csv')"
   ]
  },
  {
   "cell_type": "markdown",
   "metadata": {},
   "source": [
    "## Figure"
   ]
  },
  {
   "cell_type": "code",
   "execution_count": 48,
   "metadata": {
    "ExecuteTime": {
     "end_time": "2019-08-12T17:50:20.884978Z",
     "start_time": "2019-08-12T17:50:20.866573Z"
    }
   },
   "outputs": [],
   "source": [
    "def age_histogram(results, ax=None, label_axes=True, **plot_params):\n",
    "    if not ax: ax = plt.subplot(111)\n",
    "    ax.bar(x=results.age.values, height=results.ageCount, **plot_params)\n",
    "    if label_axes:\n",
    "        ax.set_xlabel('Age')\n",
    "        ax.set_ylabel('Count')"
   ]
  },
  {
   "cell_type": "code",
   "execution_count": 76,
   "metadata": {
    "ExecuteTime": {
     "end_time": "2019-08-12T21:51:43.057696Z",
     "start_time": "2019-08-12T21:51:39.619319Z"
    },
    "scrolled": false
   },
   "outputs": [
    {
     "data": {
      "text/plain": [
       "<Figure size 432x288 with 0 Axes>"
      ]
     },
     "metadata": {},
     "output_type": "display_data"
    },
    {
     "data": {
      "image/png": "[encoded data removed]",
      "text/plain": [
       "<Figure size 720x864 with 6 Axes>"
      ]
     },
     "metadata": {},
     "output_type": "display_data"
    }
   ],
   "source": [
    "data = pd.read_csv('figdata/age_distributions.csv')\n",
    "\n",
    "fig = plt.figure()\n",
    "f, axes = plt.subplots(6, 1, figsize=(10, 12))\n",
    "labels = ['Case', 'Baseline Control', 'Ignore Lab Value', 'Ignore Lab', 'No Lab', 'No lab matched']\n",
    "cmap = mpl.cm.tab20\n",
    "\n",
    "sns.set_context('paper')\n",
    "sns.set_style('white')\n",
    "for i, (ax, label) in enumerate(zip(axes, labels)):\n",
    "    dist = age_histogram(results=data[data.label==label], ax=ax, label_axes=False, color=cmap(i))\n",
    "    ax.legend([label])"
   ]
  },
  {
   "cell_type": "markdown",
   "metadata": {},
   "source": [
    "# Association ORs"
   ]
  },
  {
   "cell_type": "markdown",
   "metadata": {},
   "source": [
    "## Data"
   ]
  },
  {
   "cell_type": "code",
   "execution_count": 70,
   "metadata": {
    "ExecuteTime": {
     "end_time": "2019-08-12T21:48:32.526596Z",
     "start_time": "2019-08-12T21:48:32.470745Z"
    }
   },
   "outputs": [],
   "source": [
    "matched_results = pd.read_csv('results/matched_control_definitions_bootstrap.csv')\n",
    "matched_results['matching'] = 'age and gender'\n",
    "unmatched_results = pd.read_csv('results/control_definitions_bootstrap.csv')\n",
    "unmatched_results['matching'] = 'none'\n",
    "\n",
    "results = pd.concat([unmatched_results, matched_results], join='inner')\n",
    "results['p < .05'] = results.p_value < .05\n",
    "results['ci_width'] = results.ci95_upper - results.ci95_lower"
   ]
  },
  {
   "cell_type": "markdown",
   "metadata": {},
   "source": [
    "## Figure"
   ]
  },
  {
   "cell_type": "code",
   "execution_count": 188,
   "metadata": {
    "ExecuteTime": {
     "end_time": "2019-08-14T22:34:41.674734Z",
     "start_time": "2019-08-14T22:34:35.431024Z"
    },
    "scrolled": false
   },
   "outputs": [
    {
     "data": {
      "image/png": "[encoded data removed]",
      "text/plain": [
       "<Figure size 930.35x576 with 4 Axes>"
      ]
     },
     "metadata": {},
     "output_type": "display_data"
    }
   ],
   "source": [
    "sns.set_context('notebook')\n",
    "sns.set_style('whitegrid')\n",
    "g = sns.FacetGrid(data=results, row='samp_size', col='matching', hue='p < .05', row_order=[2000, 10000], height=4, aspect=1.5)\n",
    "g = (g.map(sns.swarmplot, 'control', 'OR', order=['t2dControlEmerge', 't2dControlEmergeIgnoreLabValue', 't2dControlEmergeIgnoreLab', 't2dControlEmergeNoLab'])\n",
    "     .set_xticklabels(['Baseline', 'Ignore Lab Value', 'Ignore Lab', 'No Lab'], ha='center')\n",
    "     .add_legend())"
   ]
  },
  {
   "cell_type": "code",
   "execution_count": 167,
   "metadata": {
    "ExecuteTime": {
     "end_time": "2019-08-14T20:38:40.701795Z",
     "start_time": "2019-08-14T20:38:40.564490Z"
    },
    "scrolled": true
   },
   "outputs": [
    {
     "data": {
      "text/html": [
       "<div>\n",
       "<style scoped>\n",
       "    .dataframe tbody tr th:only-of-type {\n",
       "        vertical-align: middle;\n",
       "    }\n",
       "\n",
       "    .dataframe tbody tr th {\n",
       "        vertical-align: top;\n",
       "    }\n",
       "\n",
       "    .dataframe thead th {\n",
       "        text-align: right;\n",
       "    }\n",
       "</style>\n",
       "<table border=\"1\" class=\"dataframe\">\n",
       "  <thead>\n",
       "    <tr style=\"text-align: right;\">\n",
       "      <th></th>\n",
       "      <th></th>\n",
       "      <th>t2dControlEmerge</th>\n",
       "      <th>t2dControlEmergeIgnoreLabValue</th>\n",
       "      <th>t2dControlEmergeIgnoreLab</th>\n",
       "      <th>t2dControlEmergeNoLab</th>\n",
       "    </tr>\n",
       "  </thead>\n",
       "  <tbody>\n",
       "    <tr>\n",
       "      <th>0</th>\n",
       "      <td>t2dControlEmerge</td>\n",
       "      <td>1.000000e+00</td>\n",
       "      <td>4.431203e-12</td>\n",
       "      <td>1.333136e-262</td>\n",
       "      <td>0.0</td>\n",
       "    </tr>\n",
       "    <tr>\n",
       "      <th>1</th>\n",
       "      <td>t2dControlEmergeIgnoreLabValue</td>\n",
       "      <td>4.431203e-12</td>\n",
       "      <td>1.000000e+00</td>\n",
       "      <td>4.706523e-275</td>\n",
       "      <td>0.0</td>\n",
       "    </tr>\n",
       "    <tr>\n",
       "      <th>2</th>\n",
       "      <td>t2dControlEmergeIgnoreLab</td>\n",
       "      <td>1.333136e-262</td>\n",
       "      <td>4.706523e-275</td>\n",
       "      <td>1.000000e+00</td>\n",
       "      <td>0.0</td>\n",
       "    </tr>\n",
       "    <tr>\n",
       "      <th>3</th>\n",
       "      <td>t2dControlEmergeNoLab</td>\n",
       "      <td>0.000000e+00</td>\n",
       "      <td>0.000000e+00</td>\n",
       "      <td>0.000000e+00</td>\n",
       "      <td>1.0</td>\n",
       "    </tr>\n",
       "  </tbody>\n",
       "</table>\n",
       "</div>"
      ],
      "text/plain": [
       "                                   t2dControlEmerge  \\\n",
       "0                t2dControlEmerge      1.000000e+00   \n",
       "1  t2dControlEmergeIgnoreLabValue      4.431203e-12   \n",
       "2       t2dControlEmergeIgnoreLab     1.333136e-262   \n",
       "3           t2dControlEmergeNoLab      0.000000e+00   \n",
       "\n",
       "   t2dControlEmergeIgnoreLabValue  t2dControlEmergeIgnoreLab  \\\n",
       "0                    4.431203e-12              1.333136e-262   \n",
       "1                    1.000000e+00              4.706523e-275   \n",
       "2                   4.706523e-275               1.000000e+00   \n",
       "3                    0.000000e+00               0.000000e+00   \n",
       "\n",
       "   t2dControlEmergeNoLab  \n",
       "0                    0.0  \n",
       "1                    0.0  \n",
       "2                    0.0  \n",
       "3                    1.0  "
      ]
     },
     "execution_count": 167,
     "metadata": {},
     "output_type": "execute_result"
    }
   ],
   "source": [
    "# Rows matched, cols matched\n",
    "groups = ['t2dControlEmerge', 't2dControlEmergeIgnoreLabValue', 't2dControlEmergeIgnoreLab', 't2dControlEmergeNoLab']\n",
    "rows = []\n",
    "for group_a in groups:\n",
    "    rows.append([group_a] + [stats.ttest_ind(results[(results.samp_size==10000) & (results.control==group_a) & (results.matching=='none')].OR, \n",
    "                           results[(results.samp_size==10000) & (results.control==group_b) & (results.matching=='none')].OR).pvalue\n",
    "           for group_b in groups])\n",
    "\n",
    "pd.DataFrame.from_records(columns=[''] + groups, data=rows)"
   ]
  },
  {
   "cell_type": "code",
   "execution_count": 168,
   "metadata": {
    "ExecuteTime": {
     "end_time": "2019-08-14T20:38:57.246797Z",
     "start_time": "2019-08-14T20:38:57.107895Z"
    },
    "scrolled": true
   },
   "outputs": [
    {
     "data": {
      "text/html": [
       "<div>\n",
       "<style scoped>\n",
       "    .dataframe tbody tr th:only-of-type {\n",
       "        vertical-align: middle;\n",
       "    }\n",
       "\n",
       "    .dataframe tbody tr th {\n",
       "        vertical-align: top;\n",
       "    }\n",
       "\n",
       "    .dataframe thead th {\n",
       "        text-align: right;\n",
       "    }\n",
       "</style>\n",
       "<table border=\"1\" class=\"dataframe\">\n",
       "  <thead>\n",
       "    <tr style=\"text-align: right;\">\n",
       "      <th></th>\n",
       "      <th></th>\n",
       "      <th>t2dControlEmerge</th>\n",
       "      <th>t2dControlEmergeIgnoreLabValue</th>\n",
       "      <th>t2dControlEmergeIgnoreLab</th>\n",
       "      <th>t2dControlEmergeNoLab</th>\n",
       "    </tr>\n",
       "  </thead>\n",
       "  <tbody>\n",
       "    <tr>\n",
       "      <th>0</th>\n",
       "      <td>t2dControlEmerge</td>\n",
       "      <td>7.038615e-40</td>\n",
       "      <td>7.665126e-08</td>\n",
       "      <td>2.347074e-99</td>\n",
       "      <td>0.000000e+00</td>\n",
       "    </tr>\n",
       "    <tr>\n",
       "      <th>1</th>\n",
       "      <td>t2dControlEmergeIgnoreLabValue</td>\n",
       "      <td>1.251240e-71</td>\n",
       "      <td>4.487414e-31</td>\n",
       "      <td>2.135904e-128</td>\n",
       "      <td>0.000000e+00</td>\n",
       "    </tr>\n",
       "    <tr>\n",
       "      <th>2</th>\n",
       "      <td>t2dControlEmergeIgnoreLab</td>\n",
       "      <td>5.456780e-237</td>\n",
       "      <td>7.453870e-253</td>\n",
       "      <td>9.323356e-208</td>\n",
       "      <td>1.524378e-286</td>\n",
       "    </tr>\n",
       "    <tr>\n",
       "      <th>3</th>\n",
       "      <td>t2dControlEmergeNoLab</td>\n",
       "      <td>0.000000e+00</td>\n",
       "      <td>0.000000e+00</td>\n",
       "      <td>0.000000e+00</td>\n",
       "      <td>1.033782e-262</td>\n",
       "    </tr>\n",
       "  </tbody>\n",
       "</table>\n",
       "</div>"
      ],
      "text/plain": [
       "                                   t2dControlEmerge  \\\n",
       "0                t2dControlEmerge      7.038615e-40   \n",
       "1  t2dControlEmergeIgnoreLabValue      1.251240e-71   \n",
       "2       t2dControlEmergeIgnoreLab     5.456780e-237   \n",
       "3           t2dControlEmergeNoLab      0.000000e+00   \n",
       "\n",
       "   t2dControlEmergeIgnoreLabValue  t2dControlEmergeIgnoreLab  \\\n",
       "0                    7.665126e-08               2.347074e-99   \n",
       "1                    4.487414e-31              2.135904e-128   \n",
       "2                   7.453870e-253              9.323356e-208   \n",
       "3                    0.000000e+00               0.000000e+00   \n",
       "\n",
       "   t2dControlEmergeNoLab  \n",
       "0           0.000000e+00  \n",
       "1           0.000000e+00  \n",
       "2          1.524378e-286  \n",
       "3          1.033782e-262  "
      ]
     },
     "execution_count": 168,
     "metadata": {},
     "output_type": "execute_result"
    }
   ],
   "source": [
    "# Rows unmatched, cols matched\n",
    "groups = ['t2dControlEmerge', 't2dControlEmergeIgnoreLabValue', 't2dControlEmergeIgnoreLab', 't2dControlEmergeNoLab']\n",
    "rows = []\n",
    "for group_a in groups:\n",
    "    rows.append([group_a] + [stats.ttest_ind(results[(results.samp_size==10000) & (results.control==group_a) & (results.matching=='none')].OR, \n",
    "                           results[(results.samp_size==10000) & (results.control==group_b) & (results.matching!='none')].OR).pvalue\n",
    "           for group_b in groups])\n",
    "\n",
    "pd.DataFrame.from_records(columns=[''] + groups, data=rows)"
   ]
  },
  {
   "cell_type": "code",
   "execution_count": 169,
   "metadata": {
    "ExecuteTime": {
     "end_time": "2019-08-14T20:39:08.738114Z",
     "start_time": "2019-08-14T20:39:08.616788Z"
    },
    "scrolled": true
   },
   "outputs": [
    {
     "data": {
      "text/html": [
       "<div>\n",
       "<style scoped>\n",
       "    .dataframe tbody tr th:only-of-type {\n",
       "        vertical-align: middle;\n",
       "    }\n",
       "\n",
       "    .dataframe tbody tr th {\n",
       "        vertical-align: top;\n",
       "    }\n",
       "\n",
       "    .dataframe thead th {\n",
       "        text-align: right;\n",
       "    }\n",
       "</style>\n",
       "<table border=\"1\" class=\"dataframe\">\n",
       "  <thead>\n",
       "    <tr style=\"text-align: right;\">\n",
       "      <th></th>\n",
       "      <th></th>\n",
       "      <th>t2dControlEmerge</th>\n",
       "      <th>t2dControlEmergeIgnoreLabValue</th>\n",
       "      <th>t2dControlEmergeIgnoreLab</th>\n",
       "      <th>t2dControlEmergeNoLab</th>\n",
       "    </tr>\n",
       "  </thead>\n",
       "  <tbody>\n",
       "    <tr>\n",
       "      <th>0</th>\n",
       "      <td>t2dControlEmerge</td>\n",
       "      <td>1.000000e+00</td>\n",
       "      <td>1.510231e-18</td>\n",
       "      <td>8.424882e-37</td>\n",
       "      <td>0.0</td>\n",
       "    </tr>\n",
       "    <tr>\n",
       "      <th>1</th>\n",
       "      <td>t2dControlEmergeIgnoreLabValue</td>\n",
       "      <td>1.510231e-18</td>\n",
       "      <td>1.000000e+00</td>\n",
       "      <td>8.416514e-76</td>\n",
       "      <td>0.0</td>\n",
       "    </tr>\n",
       "    <tr>\n",
       "      <th>2</th>\n",
       "      <td>t2dControlEmergeIgnoreLab</td>\n",
       "      <td>8.424882e-37</td>\n",
       "      <td>8.416514e-76</td>\n",
       "      <td>1.000000e+00</td>\n",
       "      <td>0.0</td>\n",
       "    </tr>\n",
       "    <tr>\n",
       "      <th>3</th>\n",
       "      <td>t2dControlEmergeNoLab</td>\n",
       "      <td>0.000000e+00</td>\n",
       "      <td>0.000000e+00</td>\n",
       "      <td>0.000000e+00</td>\n",
       "      <td>1.0</td>\n",
       "    </tr>\n",
       "  </tbody>\n",
       "</table>\n",
       "</div>"
      ],
      "text/plain": [
       "                                   t2dControlEmerge  \\\n",
       "0                t2dControlEmerge      1.000000e+00   \n",
       "1  t2dControlEmergeIgnoreLabValue      1.510231e-18   \n",
       "2       t2dControlEmergeIgnoreLab      8.424882e-37   \n",
       "3           t2dControlEmergeNoLab      0.000000e+00   \n",
       "\n",
       "   t2dControlEmergeIgnoreLabValue  t2dControlEmergeIgnoreLab  \\\n",
       "0                    1.510231e-18               8.424882e-37   \n",
       "1                    1.000000e+00               8.416514e-76   \n",
       "2                    8.416514e-76               1.000000e+00   \n",
       "3                    0.000000e+00               0.000000e+00   \n",
       "\n",
       "   t2dControlEmergeNoLab  \n",
       "0                    0.0  \n",
       "1                    0.0  \n",
       "2                    0.0  \n",
       "3                    1.0  "
      ]
     },
     "execution_count": 169,
     "metadata": {},
     "output_type": "execute_result"
    }
   ],
   "source": [
    "# rows matched, col matched\n",
    "groups = ['t2dControlEmerge', 't2dControlEmergeIgnoreLabValue', 't2dControlEmergeIgnoreLab', 't2dControlEmergeNoLab']\n",
    "rows = []\n",
    "for group_a in groups:\n",
    "    rows.append([group_a] + [stats.ttest_ind(results[(results.samp_size==10000) & (results.control==group_a) & (results.matching!='none')].OR, \n",
    "                           results[(results.samp_size==10000) & (results.control==group_b) & (results.matching!='none')].OR).pvalue\n",
    "           for group_b in groups])\n",
    "\n",
    "pd.DataFrame.from_records(columns=[''] + groups, data=rows)"
   ]
  },
  {
   "cell_type": "markdown",
   "metadata": {},
   "source": [
    "# Demographics"
   ]
  },
  {
   "cell_type": "code",
   "execution_count": 99,
   "metadata": {
    "ExecuteTime": {
     "end_time": "2019-08-13T13:53:01.444619Z",
     "start_time": "2019-08-13T13:53:01.436858Z"
    }
   },
   "outputs": [],
   "source": [
    "def default_enroll_window_agg(select_cols,\n",
    "                          claims_table, \n",
    "                          claim_date_col,\n",
    "                          group_by_col='MemberNum',\n",
    "                          enrollment_table='hy180.dbo.EnrollFourPlusYears', \n",
    "                          window_date_col='enrollDatePlusFourYears',\n",
    "                          enroll_date_col='enrollDate',\n",
    "                          join_col='MemberNum'):\n",
    "    \n",
    "    select_cols.append(f't1.{join_col}')\n",
    "    return (f\"select {','.join(select_cols)}\"\n",
    "       f\" from {claims_table} as t1 inner join {enrollment_table} as t2\"\n",
    "       f\" on t1.{join_col}=t2.{join_col}\"\n",
    "       f\" where {claim_date_col} between {enroll_date_col} and {window_date_col}\"\n",
    "       f\" group by t1.{group_by_col}\")"
   ]
  },
  {
   "cell_type": "code",
   "execution_count": null,
   "metadata": {},
   "outputs": [],
   "source": [
    "group = 'hy180.dbo.t2dCaseEmergeNoLabMatched'\n",
    "\n",
    "num_members = cxn.execute(f'select count(*) from {group}').fetchone()[0]\n",
    "num_males = cxn.execute(f\"select count(*) from {group} as t1 join Member as t2 on t1.MemberNum=t2.MemberNum where gender='M'\").fetchone()[0]\n",
    "num_females = cxn.execute(f\"select count(*) from {group} as t1 join Member as t2 on t1.MemberNum=t2.MemberNum where gender='F'\").fetchone()[0]\n",
    "age_mean, age_std = cxn.execute(f\"select avg(age), stdev(age) from {group} as t1 join (select MemberNum, 119 - Birthyearminus1900 as age from Member) as t2 on t1.MemberNum=t2.MemberNum\").fetchone()\n",
    "num_with_depression = cxn.execute(f\"select count(*) from {group} as t1 join hy180.dbo.depressionCase as t2 on t1.MemberNum=t2.MemberNum\").fetchone()[0]\n",
    "fact_count_mean, fact_count_std = cxn.execute(f\"select avg(factCount) / 4. as mean, stdev(factCount / 4.) as std from ({default_enroll_window_agg(['count(*) as factCount'], 'ObservationDiagnosis', 'StartDate')}) as t inner join {group} as t1 on t.MemberNum=t1.MemberNum\").fetchone()\n"
   ]
  },
  {
   "cell_type": "code",
   "execution_count": 101,
   "metadata": {
    "ExecuteTime": {
     "end_time": "2019-08-13T13:56:17.405053Z",
     "start_time": "2019-08-13T13:54:10.836372Z"
    }
   },
   "outputs": [],
   "source": [
    "groups = ['hy180.dbo.t2dCaseEmerge', 'hy180.dbo.t2dControlEmerge', 'hy180.dbo.t2dControlEmergeIgnoreLabValue', 'hy180.dbo.t2dControlEmergeIgnoreLab', 'hy180.dbo.t2dControlEmergeNoLab', 'hy180.dbo.t2dCaseEmergeNoLabMatched', 'hy180.dbo.t2dControlEmergeNoLabMatched']\n",
    "\n",
    "rows = []\n",
    "for group in groups:\n",
    "    num_members = cxn.execute(f'select count(*) from {group}').fetchone()[0]\n",
    "    num_males = cxn.execute(f\"select count(*) from {group} as t1 join Member as t2 on t1.MemberNum=t2.MemberNum where gender='M'\").fetchone()[0]\n",
    "    num_females = cxn.execute(f\"select count(*) from {group} as t1 join Member as t2 on t1.MemberNum=t2.MemberNum where gender='F'\").fetchone()[0]\n",
    "    age_mean, age_std = cxn.execute(f\"select avg(age), stdev(age) from {group} as t1 join (select MemberNum, 119 - Birthyearminus1900 as age from Member) as t2 on t1.MemberNum=t2.MemberNum\").fetchone()\n",
    "    num_with_depression = cxn.execute(f\"select count(*) from {group} as t1 join hy180.dbo.depressionCase as t2 on t1.MemberNum=t2.MemberNum\").fetchone()[0]\n",
    "    fact_count_mean, fact_count_std = cxn.execute(f\"select avg(factCount) / 4. as mean, stdev(factCount / 4.) as std from ({default_enroll_window_agg(['count(*) as factCount'], 'ObservationDiagnosis', 'StartDate')}) as t inner join {group} as t1 on t.MemberNum=t1.MemberNum\").fetchone()\n",
    "    rows.append((group, num_members, num_males, num_females, age_mean, age_std, num_with_depression, fact_count_mean, fact_count_std))\n",
    "    \n",
    "demographics = pd.DataFrame(columns=['group', 'num_members', 'num_males', 'num_females', 'age_mean', 'age_std', 'num_with_depression', 'fact_count_mean', 'fact_count_std'], data=rows)\n",
    "demographics['percent_male'] = 100 * (demographics.num_males / demographics.num_members)\n",
    "demographics['percent_female'] = 100 * demographics.num_females / demographics.num_members\n",
    "demographics['percent_with_depression'] = 100 * (demographics.num_with_depression / demographics.num_members)"
   ]
  },
  {
   "cell_type": "code",
   "execution_count": 110,
   "metadata": {
    "ExecuteTime": {
     "end_time": "2019-08-13T21:09:34.980900Z",
     "start_time": "2019-08-13T21:09:34.949779Z"
    },
    "scrolled": true
   },
   "outputs": [
    {
     "data": {
      "text/html": [
       "<div>\n",
       "<style scoped>\n",
       "    .dataframe tbody tr th:only-of-type {\n",
       "        vertical-align: middle;\n",
       "    }\n",
       "\n",
       "    .dataframe tbody tr th {\n",
       "        vertical-align: top;\n",
       "    }\n",
       "\n",
       "    .dataframe thead th {\n",
       "        text-align: right;\n",
       "    }\n",
       "</style>\n",
       "<table border=\"1\" class=\"dataframe\">\n",
       "  <thead>\n",
       "    <tr style=\"text-align: right;\">\n",
       "      <th></th>\n",
       "      <th>0</th>\n",
       "      <th>1</th>\n",
       "      <th>2</th>\n",
       "      <th>3</th>\n",
       "      <th>4</th>\n",
       "      <th>5</th>\n",
       "    </tr>\n",
       "  </thead>\n",
       "  <tbody>\n",
       "    <tr>\n",
       "      <th>group</th>\n",
       "      <td>hy180.dbo.t2dCaseEmerge</td>\n",
       "      <td>hy180.dbo.t2dControlEmerge</td>\n",
       "      <td>hy180.dbo.t2dControlEmergeIgnoreLabValue</td>\n",
       "      <td>hy180.dbo.t2dControlEmergeIgnoreLab</td>\n",
       "      <td>hy180.dbo.t2dControlEmergeNoLab</td>\n",
       "      <td>hy180.dbo.t2dControlEmergeNoLabMatched</td>\n",
       "    </tr>\n",
       "    <tr>\n",
       "      <th>num_members</th>\n",
       "      <td>289113</td>\n",
       "      <td>2288032</td>\n",
       "      <td>2547932</td>\n",
       "      <td>8062907</td>\n",
       "      <td>3397361</td>\n",
       "      <td>285112</td>\n",
       "    </tr>\n",
       "    <tr>\n",
       "      <th>num_males</th>\n",
       "      <td>151832</td>\n",
       "      <td>986395</td>\n",
       "      <td>1114876</td>\n",
       "      <td>3877677</td>\n",
       "      <td>1766993</td>\n",
       "      <td>147836</td>\n",
       "    </tr>\n",
       "    <tr>\n",
       "      <th>num_females</th>\n",
       "      <td>137278</td>\n",
       "      <td>1301602</td>\n",
       "      <td>1433015</td>\n",
       "      <td>4185117</td>\n",
       "      <td>1630311</td>\n",
       "      <td>137276</td>\n",
       "    </tr>\n",
       "    <tr>\n",
       "      <th>age_mean</th>\n",
       "      <td>65</td>\n",
       "      <td>49</td>\n",
       "      <td>50</td>\n",
       "      <td>43</td>\n",
       "      <td>32</td>\n",
       "      <td>65</td>\n",
       "    </tr>\n",
       "    <tr>\n",
       "      <th>age_std</th>\n",
       "      <td>12.1916</td>\n",
       "      <td>16.7223</td>\n",
       "      <td>16.8917</td>\n",
       "      <td>21.8556</td>\n",
       "      <td>20.8588</td>\n",
       "      <td>12.2471</td>\n",
       "    </tr>\n",
       "    <tr>\n",
       "      <th>num_with_depression</th>\n",
       "      <td>47359</td>\n",
       "      <td>316459</td>\n",
       "      <td>358509</td>\n",
       "      <td>803181</td>\n",
       "      <td>142251</td>\n",
       "      <td>18819</td>\n",
       "    </tr>\n",
       "    <tr>\n",
       "      <th>fact_count_mean</th>\n",
       "      <td>50.000000</td>\n",
       "      <td>25.250000</td>\n",
       "      <td>26.500000</td>\n",
       "      <td>20.250000</td>\n",
       "      <td>11.000000</td>\n",
       "      <td>13.750000</td>\n",
       "    </tr>\n",
       "    <tr>\n",
       "      <th>fact_count_std</th>\n",
       "      <td>50.3097</td>\n",
       "      <td>28.0922</td>\n",
       "      <td>30.6237</td>\n",
       "      <td>26.8437</td>\n",
       "      <td>14.1574</td>\n",
       "      <td>18.6536</td>\n",
       "    </tr>\n",
       "    <tr>\n",
       "      <th>percent_male</th>\n",
       "      <td>52.5165</td>\n",
       "      <td>43.1111</td>\n",
       "      <td>43.7561</td>\n",
       "      <td>48.0928</td>\n",
       "      <td>52.0108</td>\n",
       "      <td>51.8519</td>\n",
       "    </tr>\n",
       "    <tr>\n",
       "      <th>percent_female</th>\n",
       "      <td>47.4825</td>\n",
       "      <td>56.8874</td>\n",
       "      <td>56.2423</td>\n",
       "      <td>51.9058</td>\n",
       "      <td>47.9876</td>\n",
       "      <td>48.1481</td>\n",
       "    </tr>\n",
       "    <tr>\n",
       "      <th>percent_with_depression</th>\n",
       "      <td>16.3808</td>\n",
       "      <td>13.8311</td>\n",
       "      <td>14.0706</td>\n",
       "      <td>9.96143</td>\n",
       "      <td>4.1871</td>\n",
       "      <td>6.60056</td>\n",
       "    </tr>\n",
       "  </tbody>\n",
       "</table>\n",
       "</div>"
      ],
      "text/plain": [
       "                                               0                           1  \\\n",
       "group                    hy180.dbo.t2dCaseEmerge  hy180.dbo.t2dControlEmerge   \n",
       "num_members                               289113                     2288032   \n",
       "num_males                                 151832                      986395   \n",
       "num_females                               137278                     1301602   \n",
       "age_mean                                      65                          49   \n",
       "age_std                                  12.1916                     16.7223   \n",
       "num_with_depression                        47359                      316459   \n",
       "fact_count_mean                        50.000000                   25.250000   \n",
       "fact_count_std                           50.3097                     28.0922   \n",
       "percent_male                             52.5165                     43.1111   \n",
       "percent_female                           47.4825                     56.8874   \n",
       "percent_with_depression                  16.3808                     13.8311   \n",
       "\n",
       "                                                                2  \\\n",
       "group                    hy180.dbo.t2dControlEmergeIgnoreLabValue   \n",
       "num_members                                               2547932   \n",
       "num_males                                                 1114876   \n",
       "num_females                                               1433015   \n",
       "age_mean                                                       50   \n",
       "age_std                                                   16.8917   \n",
       "num_with_depression                                        358509   \n",
       "fact_count_mean                                         26.500000   \n",
       "fact_count_std                                            30.6237   \n",
       "percent_male                                              43.7561   \n",
       "percent_female                                            56.2423   \n",
       "percent_with_depression                                   14.0706   \n",
       "\n",
       "                                                           3  \\\n",
       "group                    hy180.dbo.t2dControlEmergeIgnoreLab   \n",
       "num_members                                          8062907   \n",
       "num_males                                            3877677   \n",
       "num_females                                          4185117   \n",
       "age_mean                                                  43   \n",
       "age_std                                              21.8556   \n",
       "num_with_depression                                   803181   \n",
       "fact_count_mean                                    20.250000   \n",
       "fact_count_std                                       26.8437   \n",
       "percent_male                                         48.0928   \n",
       "percent_female                                       51.9058   \n",
       "percent_with_depression                              9.96143   \n",
       "\n",
       "                                                       4  \\\n",
       "group                    hy180.dbo.t2dControlEmergeNoLab   \n",
       "num_members                                      3397361   \n",
       "num_males                                        1766993   \n",
       "num_females                                      1630311   \n",
       "age_mean                                              32   \n",
       "age_std                                          20.8588   \n",
       "num_with_depression                               142251   \n",
       "fact_count_mean                                11.000000   \n",
       "fact_count_std                                   14.1574   \n",
       "percent_male                                     52.0108   \n",
       "percent_female                                   47.9876   \n",
       "percent_with_depression                           4.1871   \n",
       "\n",
       "                                                              5  \n",
       "group                    hy180.dbo.t2dControlEmergeNoLabMatched  \n",
       "num_members                                              285112  \n",
       "num_males                                                147836  \n",
       "num_females                                              137276  \n",
       "age_mean                                                     65  \n",
       "age_std                                                 12.2471  \n",
       "num_with_depression                                       18819  \n",
       "fact_count_mean                                       13.750000  \n",
       "fact_count_std                                          18.6536  \n",
       "percent_male                                            51.8519  \n",
       "percent_female                                          48.1481  \n",
       "percent_with_depression                                 6.60056  "
      ]
     },
     "execution_count": 110,
     "metadata": {},
     "output_type": "execute_result"
    }
   ],
   "source": [
    "demographics.T"
   ]
  },
  {
   "cell_type": "code",
   "execution_count": 194,
   "metadata": {
    "ExecuteTime": {
     "end_time": "2019-08-14T22:51:47.564914Z",
     "start_time": "2019-08-14T22:51:15.296799Z"
    }
   },
   "outputs": [],
   "source": [
    "groups = ['hy180.dbo.t2dCaseEmergeNoLabMatched', 'hy180.dbo.t2dControlEmergeNoLabMatched']\n",
    "\n",
    "rows = []\n",
    "for group in groups:\n",
    "    num_members = cxn.execute(f'select count(*) from {group}').fetchone()[0]\n",
    "    num_males = cxn.execute(f\"select count(*) from {group} as t1 join Member as t2 on t1.MemberNum=t2.MemberNum where gender='M'\").fetchone()[0]\n",
    "    num_females = cxn.execute(f\"select count(*) from {group} as t1 join Member as t2 on t1.MemberNum=t2.MemberNum where gender='F'\").fetchone()[0]\n",
    "    age_mean, age_std = cxn.execute(f\"select avg(age), stdev(age) from {group} as t1 join (select MemberNum, 119 - Birthyearminus1900 as age from Member) as t2 on t1.MemberNum=t2.MemberNum\").fetchone()\n",
    "    num_with_depression = cxn.execute(f\"select count(*) from {group} as t1 join hy180.dbo.depressionCase as t2 on t1.MemberNum=t2.MemberNum\").fetchone()[0]\n",
    "    fact_count_mean, fact_count_std = cxn.execute(f\"select avg(factCount) / 4. as mean, stdev(factCount / 4.) as std from ({default_enroll_window_agg(['count(*) as factCount'], 'ObservationDiagnosis', 'StartDate')}) as t inner join {group} as t1 on t.MemberNum=t1.MemberNum\").fetchone()\n",
    "    rows.append((group, num_members, num_males, num_females, age_mean, age_std, num_with_depression, fact_count_mean, fact_count_std))\n",
    "    \n",
    "demographics = pd.DataFrame(columns=['group', 'num_members', 'num_males', 'num_females', 'age_mean', 'age_std', 'num_with_depression', 'fact_count_mean', 'fact_count_std'], data=rows)\n",
    "demographics['percent_male'] = 100 * (demographics.num_males / demographics.num_members)\n",
    "demographics['percent_female'] = 100 * demographics.num_females / demographics.num_members\n",
    "demographics['percent_with_depression'] = 100 * (demographics.num_with_depression / demographics.num_members)"
   ]
  },
  {
   "cell_type": "code",
   "execution_count": 195,
   "metadata": {
    "ExecuteTime": {
     "end_time": "2019-08-14T22:53:01.521927Z",
     "start_time": "2019-08-14T22:53:01.430160Z"
    }
   },
   "outputs": [
    {
     "data": {
      "text/html": [
       "<div>\n",
       "<style scoped>\n",
       "    .dataframe tbody tr th:only-of-type {\n",
       "        vertical-align: middle;\n",
       "    }\n",
       "\n",
       "    .dataframe tbody tr th {\n",
       "        vertical-align: top;\n",
       "    }\n",
       "\n",
       "    .dataframe thead th {\n",
       "        text-align: right;\n",
       "    }\n",
       "</style>\n",
       "<table border=\"1\" class=\"dataframe\">\n",
       "  <thead>\n",
       "    <tr style=\"text-align: right;\">\n",
       "      <th></th>\n",
       "      <th>0</th>\n",
       "      <th>1</th>\n",
       "    </tr>\n",
       "  </thead>\n",
       "  <tbody>\n",
       "    <tr>\n",
       "      <th>group</th>\n",
       "      <td>hy180.dbo.t2dCaseEmergeNoLabMatched</td>\n",
       "      <td>hy180.dbo.t2dControlEmergeNoLabMatched</td>\n",
       "    </tr>\n",
       "    <tr>\n",
       "      <th>num_members</th>\n",
       "      <td>285112</td>\n",
       "      <td>285112</td>\n",
       "    </tr>\n",
       "    <tr>\n",
       "      <th>num_males</th>\n",
       "      <td>147836</td>\n",
       "      <td>147836</td>\n",
       "    </tr>\n",
       "    <tr>\n",
       "      <th>num_females</th>\n",
       "      <td>137276</td>\n",
       "      <td>137276</td>\n",
       "    </tr>\n",
       "    <tr>\n",
       "      <th>age_mean</th>\n",
       "      <td>65</td>\n",
       "      <td>65</td>\n",
       "    </tr>\n",
       "    <tr>\n",
       "      <th>age_std</th>\n",
       "      <td>12.2471</td>\n",
       "      <td>12.2471</td>\n",
       "    </tr>\n",
       "    <tr>\n",
       "      <th>num_with_depression</th>\n",
       "      <td>46899</td>\n",
       "      <td>19003</td>\n",
       "    </tr>\n",
       "    <tr>\n",
       "      <th>fact_count_mean</th>\n",
       "      <td>50.000000</td>\n",
       "      <td>13.750000</td>\n",
       "    </tr>\n",
       "    <tr>\n",
       "      <th>fact_count_std</th>\n",
       "      <td>50.3334</td>\n",
       "      <td>18.6469</td>\n",
       "    </tr>\n",
       "    <tr>\n",
       "      <th>percent_male</th>\n",
       "      <td>51.8519</td>\n",
       "      <td>51.8519</td>\n",
       "    </tr>\n",
       "    <tr>\n",
       "      <th>percent_female</th>\n",
       "      <td>48.1481</td>\n",
       "      <td>48.1481</td>\n",
       "    </tr>\n",
       "    <tr>\n",
       "      <th>percent_with_depression</th>\n",
       "      <td>16.4493</td>\n",
       "      <td>6.6651</td>\n",
       "    </tr>\n",
       "  </tbody>\n",
       "</table>\n",
       "</div>"
      ],
      "text/plain": [
       "                                                           0  \\\n",
       "group                    hy180.dbo.t2dCaseEmergeNoLabMatched   \n",
       "num_members                                           285112   \n",
       "num_males                                             147836   \n",
       "num_females                                           137276   \n",
       "age_mean                                                  65   \n",
       "age_std                                              12.2471   \n",
       "num_with_depression                                    46899   \n",
       "fact_count_mean                                    50.000000   \n",
       "fact_count_std                                       50.3334   \n",
       "percent_male                                         51.8519   \n",
       "percent_female                                       48.1481   \n",
       "percent_with_depression                              16.4493   \n",
       "\n",
       "                                                              1  \n",
       "group                    hy180.dbo.t2dControlEmergeNoLabMatched  \n",
       "num_members                                              285112  \n",
       "num_males                                                147836  \n",
       "num_females                                              137276  \n",
       "age_mean                                                     65  \n",
       "age_std                                                 12.2471  \n",
       "num_with_depression                                       19003  \n",
       "fact_count_mean                                       13.750000  \n",
       "fact_count_std                                          18.6469  \n",
       "percent_male                                            51.8519  \n",
       "percent_female                                          48.1481  \n",
       "percent_with_depression                                  6.6651  "
      ]
     },
     "execution_count": 195,
     "metadata": {},
     "output_type": "execute_result"
    }
   ],
   "source": [
    "demographics.T"
   ]
  }
 ],
 "metadata": {
  "kernelspec": {
   "display_name": "Python 3",
   "language": "python",
   "name": "python3"
  },
  "language_info": {
   "codemirror_mode": {
    "name": "ipython",
    "version": 3
   },
   "file_extension": ".py",
   "mimetype": "text/x-python",
   "name": "python",
   "nbconvert_exporter": "python",
   "pygments_lexer": "ipython3",
   "version": "3.7.4"
  },
  "toc": {
   "base_numbering": 1,
   "nav_menu": {},
   "number_sections": true,
   "sideBar": true,
   "skip_h1_title": false,
   "title_cell": "Table of Contents",
   "title_sidebar": "Contents",
   "toc_cell": false,
   "toc_position": {
    "height": "277.812px",
    "left": "77px",
    "top": "110.285px",
    "width": "235.341px"
   },
   "toc_section_display": true,
   "toc_window_display": true
  }
 },
 "nbformat": 4,
 "nbformat_minor": 2
}
