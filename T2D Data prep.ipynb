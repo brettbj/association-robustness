{
 "cells": [
  {
   "cell_type": "code",
   "execution_count": 18,
   "metadata": {},
   "outputs": [],
   "source": [
    "import pyodbc\n",
    "import pandas as pd\n",
    "import numpy as np\n",
    "import seaborn as sns\n",
    "import urllib\n",
    "import requests\n",
    "import sqlalchemy as sqla\n",
    "import matplotlib as mpl\n",
    "import xml.etree.ElementTree as ET\n",
    "\n",
    "from matplotlib import pyplot as plt\n",
    "from importlib import reload\n",
    "from tqdm import tqdm_notebook\n",
    "from itertools import chain"
   ]
  },
  {
   "cell_type": "code",
   "execution_count": 2,
   "metadata": {},
   "outputs": [],
   "source": [
    "with open('dbmi-aetna-cxn-str') as f:\n",
    "    cxn_params = f.read().strip()\n",
    "    gmw_cxn_str = urllib.parse.quote_plus(cxn_params + 'Database=gmw3')\n",
    "    aetna_raw_cxn_str = urllib.parse.quote_plus(cxn_params + 'Database=AetnaDataWarehouse')\n",
    "    hy_cxn_str = urllib.parse.quote_plus(cxn_params + 'Database=hy180')\n",
    "    \n",
    "engine = sqla.create_engine(\"mssql+pyodbc:///?odbc_connect=%s\" % gmw_cxn_str, connect_args = {'autocommit':True})\n",
    "cxn = engine.connect()\n",
    "ins = sqla.inspect(engine)"
   ]
  },
  {
   "cell_type": "code",
   "execution_count": 3,
   "metadata": {},
   "outputs": [],
   "source": [
    "hy_engine = sqla.create_engine(\"mssql+pyodbc:///?odbc_connect=%s\" % hy_cxn_str, connect_args = {'autocommit': True, 'fast_executemany': True})\n",
    "hy_cxn = hy_engine.connect()"
   ]
  },
  {
   "cell_type": "markdown",
   "metadata": {},
   "source": [
    "# Helper tables for T2D "
   ]
  },
  {
   "cell_type": "markdown",
   "metadata": {},
   "source": [
    "## Visit count"
   ]
  },
  {
   "cell_type": "code",
   "execution_count": 71,
   "metadata": {
    "scrolled": true
   },
   "outputs": [
    {
     "data": {
      "text/plain": [
       "<sqlalchemy.engine.result.ResultProxy at 0x7fba42537ac8>"
      ]
     },
     "execution_count": 71,
     "metadata": {},
     "output_type": "execute_result"
    }
   ],
   "source": [
    "# Visit count per patient\n",
    "\n",
    "visit_count_query = (\"drop table if exists hy180.dbo.VisitCount;\"\n",
    "                    \" select MemberNum, count(*) as visits\"\n",
    "                    \" into hy180.dbo.VisitCount\"\n",
    "                    \" from VisitMedicalClaim with (nolock)\"\n",
    "                    \" group by MemberNum\")\n",
    "cxn.execute(visit_count_query)"
   ]
  },
  {
   "cell_type": "markdown",
   "metadata": {},
   "source": [
    "## Labs"
   ]
  },
  {
   "cell_type": "code",
   "execution_count": 72,
   "metadata": {},
   "outputs": [
    {
     "data": {
      "text/plain": [
       "<sqlalchemy.engine.result.ResultProxy at 0x7fba2f7567b8>"
      ]
     },
     "execution_count": 72,
     "metadata": {},
     "output_type": "execute_result"
    }
   ],
   "source": [
    "# Patients with glucose/hba1c lab values\n",
    "\n",
    "glucose_tests_loinc = ('1558-6', '2339-0', '2345-7')\n",
    "a1c_tests_loinc = ('4548-4', '17856-6', '4549-2', '17855-8')\n",
    "lab_tests_loinc = glucose_tests_loinc + a1c_tests_loinc\n",
    "\n",
    "normal_labs_query = (\"drop table if exists hy180.dbo.GlucoseLabs;\"\n",
    "                    \" select MemberNum, LoincCode, NumberOfTests as numTests, MinResultValue as minValue, MaxResultValue as maxValue\"\n",
    "                    \" into hy180.dbo.GlucoseLabs\"\n",
    "                    \" from DistinctLab with (nolock)\"\n",
    "                    \" where LoincCode in %s\" % str(lab_tests_loinc))\n",
    "cxn.execute(normal_labs_query)"
   ]
  },
  {
   "cell_type": "markdown",
   "metadata": {},
   "source": [
    "## Diagnosis"
   ]
  },
  {
   "cell_type": "code",
   "execution_count": 73,
   "metadata": {
    "scrolled": true
   },
   "outputs": [
    {
     "data": {
      "text/plain": [
       "<sqlalchemy.engine.result.ResultProxy at 0x7fba422d42e8>"
      ]
     },
     "execution_count": 73,
     "metadata": {},
     "output_type": "execute_result"
    }
   ],
   "source": [
    "# Patients with diagnosis of diabetes\n",
    "\n",
    "dm_dx_icd = str(('790.21', '790.22', '790.2', '790.29', '791.5', '277.7', 'V18.0', 'V77.1'))\n",
    "dm_dx_icd_fuzzy = ' or '.join([\"DiagnosisCode like '%s'\" % s for s in ('250%', '648.8%', '648.0%')])\n",
    "\n",
    "# ICD for Family hx included here \n",
    "diabetes_dx_query = (\"drop table if exists hy180.dbo.DxDm;\"\n",
    "                    \" select MemberNum, DiagnosisCode as diagCode, NumberOfClaims as numClaims\"\n",
    "                    \" into hy180.dbo.DxDm\"\n",
    "                    \" from DistinctDiagnosis with (nolock)\"\n",
    "                    \" where DiagnosisCode in %s\"\n",
    "                    \" or %s\" % (dm_dx_icd, dm_dx_icd_fuzzy))\n",
    "\n",
    "cxn.execute(diabetes_dx_query)"
   ]
  },
  {
   "cell_type": "code",
   "execution_count": 74,
   "metadata": {},
   "outputs": [
    {
     "data": {
      "text/plain": [
       "<sqlalchemy.engine.result.ResultProxy at 0x7fba2f732cc0>"
      ]
     },
     "execution_count": 74,
     "metadata": {},
     "output_type": "execute_result"
    }
   ],
   "source": [
    "# Split into t1d and t2d tables\n",
    "t1dm_icd_fuzzy = \"diagCode like '250._1' or diagCode like '250._3'\"\n",
    "t2dm_icd_fuzzy = \"diagCode like '250.[0,2-9]0' or diagCode like '250.[0,2-9]2'\"\n",
    "\n",
    "t1dm_query = (\"drop table if exists hy180.dbo.DxT1dm;\"\n",
    "             \" select MemberNum, diagCode, numClaims\"\n",
    "             \" into hy180.dbo.DxT1dm\"\n",
    "             \" from hy180.dbo.DxDm with (nolock)\"\n",
    "             \" where %s\" % t1dm_icd_fuzzy)\n",
    "t2dm_query = (\"drop table if exists hy180.dbo.DxT2dm;\"\n",
    "             \" select MemberNum, diagCode, numClaims\"\n",
    "             \" into hy180.dbo.DxT2dm\"\n",
    "             \" from hy180.dbo.DxDm with (nolock)\"\n",
    "             \" where %s;\" % t2dm_icd_fuzzy)\n",
    "\n",
    "cxn.execute(';'.join([t1dm_query, t2dm_query]))"
   ]
  },
  {
   "cell_type": "markdown",
   "metadata": {},
   "source": [
    "## Meds"
   ]
  },
  {
   "cell_type": "code",
   "execution_count": 4,
   "metadata": {},
   "outputs": [],
   "source": [
    "t1dm_rxnorm = (139825, 274783, 314684, 352385, 400008, 51428, 5856, 86009, 139953)\n",
    "t2dm_rxnorm = (173, 10633, 2404, 4821, 217360, 4815, 25789, 73044, 274332, 6809, 84108, 33738, 72610, 16681, 30009, 593411, 60548)\n",
    "dm_rxnorm = (126958, 412956, 412959, 637321, 668291, 668370, 686655, 692383, 748611, 880998, 881056, 751128, 847187, 847191, 847197, 847203, 847207, 847211, 847230, 847239, 847252, 847256, 847259, 847263, 847278, 847416, 847417, 806905, 806903, 408119)"
   ]
  },
  {
   "cell_type": "markdown",
   "metadata": {},
   "source": [
    "### Ingredient labeling"
   ]
  },
  {
   "cell_type": "code",
   "execution_count": 23,
   "metadata": {},
   "outputs": [],
   "source": [
    "all_drugs = pd.read_sql('select NationalDrugCode,NdcDescription,NumberOfClaims from ConceptMedication', cxn, index_col='NationalDrugCode')\n",
    "all_drugs.to_csv('all_drugs.csv')"
   ]
  },
  {
   "cell_type": "code",
   "execution_count": 77,
   "metadata": {},
   "outputs": [
    {
     "data": {
      "text/plain": [
       "<sqlalchemy.engine.result.ResultProxy at 0x7fba42c708d0>"
      ]
     },
     "execution_count": 77,
     "metadata": {},
     "output_type": "execute_result"
    }
   ],
   "source": [
    "drug_ingredients_create_table = (\"drop table if exists RxIngredients;\"\n",
    "                                \" create table RxIngredients (\"\n",
    "                                \"  ndc bigint not null,\"\n",
    "                                \"  rxcui bigint,\"\n",
    "                                \"  ingredientRxcui bigint\"\n",
    "                                \" );\"\n",
    "                                \" create index indexByNdc on RxIngredients (ndc);\")\n",
    "hy_cxn.execute(drug_ingredients_create_table)"
   ]
  },
  {
   "cell_type": "code",
   "execution_count": 78,
   "metadata": {
    "scrolled": true
   },
   "outputs": [
    {
     "data": {
      "application/vnd.jupyter.widget-view+json": {
       "model_id": "dea8f885cadf4946b907321bbc229a1b",
       "version_major": 2,
       "version_minor": 0
      },
      "text/html": [
       "<p>Failed to display Jupyter Widget of type <code>HBox</code>.</p>\n",
       "<p>\n",
       "  If you're reading this message in the Jupyter Notebook or JupyterLab Notebook, it may mean\n",
       "  that the widgets JavaScript is still loading. If this message persists, it\n",
       "  likely means that the widgets JavaScript library is either not installed or\n",
       "  not enabled. See the <a href=\"https://ipywidgets.readthedocs.io/en/stable/user_install.html\">Jupyter\n",
       "  Widgets Documentation</a> for setup instructions.\n",
       "</p>\n",
       "<p>\n",
       "  If you're reading this message in another frontend (for example, a static\n",
       "  rendering on GitHub or <a href=\"https://nbviewer.jupyter.org/\">NBViewer</a>),\n",
       "  it may mean that your frontend doesn't currently support widgets.\n",
       "</p>\n"
      ],
      "text/plain": [
       "HBox(children=(IntProgress(value=0, max=89), HTML(value='')))"
      ]
     },
     "metadata": {},
     "output_type": "display_data"
    },
    {
     "name": "stdout",
     "output_type": "stream",
     "text": [
      "\n"
     ]
    }
   ],
   "source": [
    "# Ingredient fetching happens in an external script\n",
    "drug_ingredients = pd.read_csv('drug_ingredients.csv', usecols=['ndc', 'rxcui', 'ingredient_rxcui'], dtype=np.int_)\n",
    "\n",
    "rows = [str(tuple(l)) for l in drug_ingredients.values]\n",
    "i = 0\n",
    "for i in tqdm_notebook(range(len(rows)//1000 + 1)):\n",
    "    insert_sql = (\"insert into RxIngredients (ndc, rxcui, ingredientRxcui) values %s;\" % ','.join(rows[1000*i:1000*(i+1)]))\n",
    "    hy_cxn.execute(insert_sql)\n"
   ]
  },
  {
   "cell_type": "markdown",
   "metadata": {},
   "source": [
    "### Insulin supplies\n",
    "\n",
    "DM med supplies listed in emerge algorithm are not ingredient-level, but SCDs, so we need explicitly find related NDCs"
   ]
  },
  {
   "cell_type": "code",
   "execution_count": null,
   "metadata": {},
   "outputs": [],
   "source": [
    "# Get NDCs relating to DM med supplies list\n",
    "BASE_URL = \"https://rxnav.nlm.nih.gov/REST\"\n",
    "\n",
    "explore_queue = list(dm_rxnorm)\n",
    "all_rxcuis = set(dm_rxnorm)\n",
    "insulin_ndcs = []\n",
    "\n",
    "for rxcui in explore_queue:\n",
    "    print(rxcui)\n",
    "    # Get related RxCUIs \n",
    "    resp = requests.get(BASE_URL + '/rxcui/%s/allrelated' % rxcui)\n",
    "    root = ET.fromstring(resp.text)\n",
    "    related_rxcui = list(chain.from_iterable([[n.text for n in root.findall(\"./allRelatedGroup/conceptGroup/[tty='%s']/conceptProperties/rxcui\" % tty)] for tty in ['SCD', 'GPCK', 'SBD', 'BPCK']]))\n",
    "    explore_queue.extend(set(related_rxcui).difference(all_rxcuis))\n",
    "    all_rxcuis = all_rxcuis.union(related_rxcui)\n",
    "    \n",
    "    # Get NDCs for RxCUI\n",
    "    resp = requests.get(BASE_URL + '/rxcui/%s/allhistoricalndcs' % rxcui)\n",
    "    root = ET.fromstring(resp.text)\n",
    "    insulin_ndcs += [int(n.text) for n in root.findall(\"./historicalNdcConcept/historicalNdcTime/ndcTime/ndc\")]\n",
    "    \n",
    "with open('insulin_ndcs', 'w') as f:\n",
    "    for ndc in insulin_ndcs:\n",
    "        f.write('%d\\n' % ndc)"
   ]
  },
  {
   "cell_type": "code",
   "execution_count": 42,
   "metadata": {},
   "outputs": [],
   "source": [
    "with open('insulin_ndcs') as f:\n",
    "    insulin_ndcs = [int(l) for l in f.readlines()]"
   ]
  },
  {
   "cell_type": "markdown",
   "metadata": {},
   "source": [
    "## Validation"
   ]
  },
  {
   "cell_type": "code",
   "execution_count": 79,
   "metadata": {
    "scrolled": true
   },
   "outputs": [
    {
     "data": {
      "text/plain": [
       "0.9846076596542334"
      ]
     },
     "execution_count": 79,
     "metadata": {},
     "output_type": "execute_result"
    }
   ],
   "source": [
    "# Claims coverage \n",
    "all_drugs.loc[drug_ingredients.ndc.unique()].NumberOfClaims.sum() / all_drugs.NumberOfClaims.sum()"
   ]
  },
  {
   "cell_type": "code",
   "execution_count": 80,
   "metadata": {},
   "outputs": [
    {
     "data": {
      "text/plain": [
       "2354"
      ]
     },
     "execution_count": 80,
     "metadata": {},
     "output_type": "execute_result"
    }
   ],
   "source": [
    "# Count DM-related drugs discovered\n",
    "drug_ingredients[drug_ingredients.ingredient_rxcui.isin(t1dm_rxnorm) | drug_ingredients.ingredient_rxcui.isin(t2dm_rxnorm) | drug_ingredients.ingredient_rxcui.isin(dm_rxnorm)].shape[0]"
   ]
  },
  {
   "cell_type": "markdown",
   "metadata": {},
   "source": [
    "## Patients on DM meds"
   ]
  },
  {
   "cell_type": "code",
   "execution_count": 66,
   "metadata": {},
   "outputs": [
    {
     "data": {
      "text/plain": [
       "<sqlalchemy.engine.result.ResultProxy at 0x7f4665885080>"
      ]
     },
     "execution_count": 66,
     "metadata": {},
     "output_type": "execute_result"
    }
   ],
   "source": [
    "insulin_med_temp_query = (\"drop table if exists #InsulinMeds;\"\n",
    "                          \" select ingredientRxcui, ndc\"\n",
    "                          \" into #InsulinMeds\"\n",
    "                          \" from RxIngredients\"\n",
    "                          \" where ndc in %s\" % str(tuple(insulin_ndcs)))\n",
    "insulin_rx_query = (\"drop table if exists RxInsulin\"\n",
    "                    \" select t1.MemberNum, t2.ndc, t2.ingredientRxcui, t1.NumberOfClaims, t1.FirstDispenseDate, t1.LastDispenseDate\"\n",
    "                    \" into RxInsulin\"\n",
    "                    \" from gmw3.dbo.DistinctMedication as t1\"\n",
    "                    \" inner join #InsulinMeds as t2\"\n",
    "                    \" on t1.NationalDrugCode=t2.ndc\")\n",
    "\n",
    "hy_cxn.execute(';'.join([insulin_med_temp_query, insulin_rx_query]))"
   ]
  },
  {
   "cell_type": "code",
   "execution_count": 83,
   "metadata": {},
   "outputs": [
    {
     "data": {
      "text/plain": [
       "<sqlalchemy.engine.result.ResultProxy at 0x7fba2f756c18>"
      ]
     },
     "execution_count": 83,
     "metadata": {},
     "output_type": "execute_result"
    }
   ],
   "source": [
    "t2dm_med_temp_query = (\"drop table if exists #T2DmMeds;\"\n",
    "                    \" select ingredientRxcui, ndc\"\n",
    "                    \" into #T2DmMeds\"\n",
    "                    \" from RxIngredients\"\n",
    "                    \" where ingredientRxcui in %s\" % str(t2dm_rxnorm))\n",
    "t2dm_rx_query = (\"drop table if exists RxT2dm\"\n",
    "              \" select t1.MemberNum, t2.ndc, t2.ingredientRxcui, t1.NumberOfClaims, t1.FirstDispenseDate, t1.LastDispenseDate\"\n",
    "              \" into RxT2dm\"\n",
    "              \" from gmw3.dbo.DistinctMedication as t1\"\n",
    "              \" inner join #T2DmMeds as t2\"\n",
    "              \" on t1.NationalDrugCode=t2.ndc\")\n",
    "\n",
    "hy_cxn.execute(';'.join([t2dm_med_temp_query, t2dm_rx_query]))"
   ]
  },
  {
   "cell_type": "code",
   "execution_count": 82,
   "metadata": {},
   "outputs": [
    {
     "data": {
      "text/plain": [
       "<sqlalchemy.engine.result.ResultProxy at 0x7fba2f756d68>"
      ]
     },
     "execution_count": 82,
     "metadata": {},
     "output_type": "execute_result"
    }
   ],
   "source": [
    "t1dm_med_temp_query = (\"drop table if exists #T1DmMeds;\"\n",
    "                    \" select ingredientRxcui, ndc\"\n",
    "                    \" into #T1DmMeds\"\n",
    "                    \" from RxIngredients\"\n",
    "                    \" where ingredientRxcui in %s\" % str(t1dm_rxnorm))\n",
    "t1dm_rx_query = (\"drop table if exists RxT1Dm\"\n",
    "              \" select t1.MemberNum, t2.ndc, t2.ingredientRxcui, t1.NumberOfClaims, t1.FirstDispenseDate, t1.LastDispenseDate\"\n",
    "              \" into RxT1Dm\"\n",
    "              \" from gmw3.dbo.DistinctMedication as t1\"\n",
    "              \" inner join #T1DmMeds as t2\"\n",
    "              \" on t1.NationalDrugCode=t2.ndc\")\n",
    "\n",
    "hy_cxn.execute(';'.join([t1dm_med_temp_query, t1dm_rx_query]))"
   ]
  },
  {
   "cell_type": "code",
   "execution_count": 67,
   "metadata": {
    "scrolled": true
   },
   "outputs": [
    {
     "data": {
      "text/plain": [
       "['DxDm',\n",
       " 'DxT1dm',\n",
       " 'DxT2dm',\n",
       " 'GlucoseLabs',\n",
       " 'RxDm',\n",
       " 'RxIngredients',\n",
       " 'RxInsulin',\n",
       " 'RxT1Dm',\n",
       " 'RxT2dm',\n",
       " 'VisitCount']"
      ]
     },
     "execution_count": 67,
     "metadata": {},
     "output_type": "execute_result"
    }
   ],
   "source": [
    "sqla.inspect(hy_engine).get_table_names()"
   ]
  },
  {
   "cell_type": "code",
   "execution_count": 68,
   "metadata": {},
   "outputs": [
    {
     "data": {
      "text/plain": [
       "<sqlalchemy.engine.result.ResultProxy at 0x7f46658fcef0>"
      ]
     },
     "execution_count": 68,
     "metadata": {},
     "output_type": "execute_result"
    }
   ],
   "source": [
    "dm_rx_query = (\"drop table if exists RxDm;\"\n",
    "              \" select *\"\n",
    "              \" into RxDm\"\n",
    "              \" from (select * from RxT2dm union select * from RxInsulin union select * from RxT1dm) as t1\")\n",
    "hy_cxn.execute(dm_rx_query)"
   ]
  }
 ],
 "metadata": {
  "kernelspec": {
   "display_name": "Python 3",
   "language": "python",
   "name": "python3"
  },
  "language_info": {
   "codemirror_mode": {
    "name": "ipython",
    "version": 3
   },
   "file_extension": ".py",
   "mimetype": "text/x-python",
   "name": "python",
   "nbconvert_exporter": "python",
   "pygments_lexer": "ipython3",
   "version": "3.6.2"
  }
 },
 "nbformat": 4,
 "nbformat_minor": 2
}
