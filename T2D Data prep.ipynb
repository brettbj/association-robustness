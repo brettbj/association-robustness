{
 "cells": [
  {
   "cell_type": "code",
   "execution_count": 1,
   "metadata": {
    "ExecuteTime": {
     "end_time": "2019-08-02T16:52:57.538771Z",
     "start_time": "2019-08-02T16:52:55.783988Z"
    }
   },
   "outputs": [],
   "source": [
    "import pyodbc\n",
    "import pandas as pd\n",
    "import numpy as np\n",
    "import seaborn as sns\n",
    "import urllib\n",
    "import requests\n",
    "import sqlalchemy as sqla\n",
    "import matplotlib as mpl\n",
    "import xml.etree.ElementTree as ET\n",
    "\n",
    "from matplotlib import pyplot as plt\n",
    "from importlib import reload\n",
    "from tqdm import tqdm_notebook\n",
    "from itertools import chain"
   ]
  },
  {
   "cell_type": "code",
   "execution_count": 2,
   "metadata": {
    "ExecuteTime": {
     "end_time": "2019-08-02T16:52:58.269179Z",
     "start_time": "2019-08-02T16:52:57.545444Z"
    }
   },
   "outputs": [],
   "source": [
    "with open('dbmi-aetna-cxn-str') as f:\n",
    "    cxn_params = f.read().strip()\n",
    "    gmw_cxn_str = urllib.parse.quote_plus(cxn_params + 'Database=gmw3')\n",
    "    aetna_raw_cxn_str = urllib.parse.quote_plus(cxn_params + 'Database=AetnaDataWarehouse')\n",
    "    hy_cxn_str = urllib.parse.quote_plus(cxn_params + 'Database=hy180')\n",
    "    \n",
    "engine = sqla.create_engine(\"mssql+pyodbc:///?odbc_connect=%s\" % gmw_cxn_str, connect_args = {'autocommit':True})\n",
    "cxn = engine.connect()\n",
    "ins = sqla.inspect(engine)"
   ]
  },
  {
   "cell_type": "code",
   "execution_count": 3,
   "metadata": {
    "ExecuteTime": {
     "end_time": "2019-08-02T16:52:58.877039Z",
     "start_time": "2019-08-02T16:52:58.281493Z"
    }
   },
   "outputs": [],
   "source": [
    "hy_engine = sqla.create_engine(\"mssql+pyodbc:///?odbc_connect=%s\" % hy_cxn_str, connect_args = {'autocommit': True, 'fast_executemany': True})\n",
    "hy_cxn = hy_engine.connect()"
   ]
  },
  {
   "cell_type": "markdown",
   "metadata": {},
   "source": [
    "# Enrollment min length"
   ]
  },
  {
   "cell_type": "code",
   "execution_count": 16,
   "metadata": {
    "ExecuteTime": {
     "end_time": "2019-07-30T21:15:07.687503Z",
     "start_time": "2019-07-30T21:15:01.442963Z"
    },
    "scrolled": true
   },
   "outputs": [
    {
     "data": {
      "text/html": [
       "<div>\n",
       "<style scoped>\n",
       "    .dataframe tbody tr th:only-of-type {\n",
       "        vertical-align: middle;\n",
       "    }\n",
       "\n",
       "    .dataframe tbody tr th {\n",
       "        vertical-align: top;\n",
       "    }\n",
       "\n",
       "    .dataframe thead th {\n",
       "        text-align: right;\n",
       "    }\n",
       "</style>\n",
       "<table border=\"1\" class=\"dataframe\">\n",
       "  <thead>\n",
       "    <tr style=\"text-align: right;\">\n",
       "      <th></th>\n",
       "      <th></th>\n",
       "    </tr>\n",
       "  </thead>\n",
       "  <tbody>\n",
       "    <tr>\n",
       "      <th>0</th>\n",
       "      <td>10546216</td>\n",
       "    </tr>\n",
       "  </tbody>\n",
       "</table>\n",
       "</div>"
      ],
      "text/plain": [
       "           \n",
       "0  10546216"
      ]
     },
     "execution_count": 16,
     "metadata": {},
     "output_type": "execute_result"
    }
   ],
   "source": [
    "min_enrollment_query = (\"drop table if exists hy180.dbo.EnrollFourPlusYears;\"\n",
    "                       \" select MemberNum, LongestEnrollmentStartDate as enrollDate, LongestEnrollmentMonths as enrollTotalMonths, dateadd(m, 48, LongestEnrollmentStartDate) as enrollDatePlusFourYears\"\n",
    "                       \" into hy180.dbo.EnrollFourPlusYears\"\n",
    "                       \" from MemberEnrollment\"\n",
    "                       \" where LongestEnrollmentMonths > 48\")\n",
    "\n",
    "cxn.execute(min_enrollment_query)\n",
    "pd.read_sql('select count(*) from EnrollFourPlusYears', hy_cxn)"
   ]
  },
  {
   "cell_type": "code",
   "execution_count": 14,
   "metadata": {
    "ExecuteTime": {
     "end_time": "2019-08-02T17:07:29.724319Z",
     "start_time": "2019-08-02T17:07:29.708255Z"
    }
   },
   "outputs": [],
   "source": [
    "def default_enroll_window(select_cols,\n",
    "                          claims_table, \n",
    "                          claim_date_col,\n",
    "                          enrollment_table='hy180.dbo.EnrollFourPlusYears', \n",
    "                          window_date_col='enrollDatePlusFourYears',\n",
    "                          enroll_date_col='enrollDate',\n",
    "                          join_col='MemberNum'):\n",
    "    \n",
    "    select_cols.append(f't1.{join_col}')\n",
    "    return (f\"select {','.join(select_cols)}\"\n",
    "       f\" from {claims_table} as t1 inner join {enrollment_table} as t2\"\n",
    "       f\" on t1.{join_col}=t2.{join_col}\"\n",
    "       f\" where {claim_date_col} between {enroll_date_col} and {window_date_col}\")"
   ]
  },
  {
   "cell_type": "code",
   "execution_count": 18,
   "metadata": {
    "ExecuteTime": {
     "end_time": "2019-07-30T21:15:07.719943Z",
     "start_time": "2019-07-30T21:15:07.714900Z"
    }
   },
   "outputs": [],
   "source": [
    "def custom_enroll_window(select_cols, \n",
    "                          claims_table, \n",
    "                          claim_date_col,\n",
    "                          claim_window=48,\n",
    "                          window_unit='m',\n",
    "                          enrollment_table='hy180.dbo.EnrollFourPlusYears', \n",
    "                          enrollment_date_col='enrollDate',\n",
    "                          join_col='MemberNum'):\n",
    "    \n",
    "    select_cols.append(f't1.{join_col}')\n",
    "    return (f\"select {','.join(select_cols)}\"\n",
    "           f\" from {claims_table} as t1 inner join {enrollment_table} as t2\"\n",
    "           f\" on t1.{join_col}=t2.{join_col}\"\n",
    "           f\" where datediff({window_unit}, {claim_date_col}, {enrollment_date_col}) <= {claim_window}\")"
   ]
  },
  {
   "cell_type": "markdown",
   "metadata": {},
   "source": [
    "# Helper tables for T2D "
   ]
  },
  {
   "cell_type": "markdown",
   "metadata": {},
   "source": [
    "## Visit count"
   ]
  },
  {
   "cell_type": "code",
   "execution_count": 19,
   "metadata": {
    "ExecuteTime": {
     "end_time": "2019-07-30T21:15:31.881488Z",
     "start_time": "2019-07-30T21:15:07.722119Z"
    },
    "scrolled": true
   },
   "outputs": [
    {
     "data": {
      "text/html": [
       "<div>\n",
       "<style scoped>\n",
       "    .dataframe tbody tr th:only-of-type {\n",
       "        vertical-align: middle;\n",
       "    }\n",
       "\n",
       "    .dataframe tbody tr th {\n",
       "        vertical-align: top;\n",
       "    }\n",
       "\n",
       "    .dataframe thead th {\n",
       "        text-align: right;\n",
       "    }\n",
       "</style>\n",
       "<table border=\"1\" class=\"dataframe\">\n",
       "  <thead>\n",
       "    <tr style=\"text-align: right;\">\n",
       "      <th></th>\n",
       "      <th></th>\n",
       "    </tr>\n",
       "  </thead>\n",
       "  <tbody>\n",
       "    <tr>\n",
       "      <th>0</th>\n",
       "      <td>10154447</td>\n",
       "    </tr>\n",
       "  </tbody>\n",
       "</table>\n",
       "</div>"
      ],
      "text/plain": [
       "           \n",
       "0  10154447"
      ]
     },
     "execution_count": 19,
     "metadata": {},
     "output_type": "execute_result"
    }
   ],
   "source": [
    "# Visit count per patient\n",
    "\n",
    "visit_count_query = (\"drop table if exists hy180.dbo.VisitCount;\"\n",
    "                    \" select MemberNum, count(*) as visits\"\n",
    "                    \" into hy180.dbo.VisitCount\"\n",
    "                    f\" from ({default_enroll_window([], 'VisitMedicalClaim', 'FirstServiceStartDate')}) as t\"\n",
    "                    \" group by MemberNum\")\n",
    "cxn.execute(visit_count_query)\n",
    "pd.read_sql('select count(*) from VisitCount', hy_cxn)"
   ]
  },
  {
   "cell_type": "markdown",
   "metadata": {},
   "source": [
    "## Labs"
   ]
  },
  {
   "cell_type": "code",
   "execution_count": 35,
   "metadata": {
    "ExecuteTime": {
     "end_time": "2019-07-30T21:19:27.081401Z",
     "start_time": "2019-07-30T21:19:13.509597Z"
    }
   },
   "outputs": [
    {
     "data": {
      "text/html": [
       "<div>\n",
       "<style scoped>\n",
       "    .dataframe tbody tr th:only-of-type {\n",
       "        vertical-align: middle;\n",
       "    }\n",
       "\n",
       "    .dataframe tbody tr th {\n",
       "        vertical-align: top;\n",
       "    }\n",
       "\n",
       "    .dataframe thead th {\n",
       "        text-align: right;\n",
       "    }\n",
       "</style>\n",
       "<table border=\"1\" class=\"dataframe\">\n",
       "  <thead>\n",
       "    <tr style=\"text-align: right;\">\n",
       "      <th></th>\n",
       "      <th></th>\n",
       "    </tr>\n",
       "  </thead>\n",
       "  <tbody>\n",
       "    <tr>\n",
       "      <th>0</th>\n",
       "      <td>14078568</td>\n",
       "    </tr>\n",
       "  </tbody>\n",
       "</table>\n",
       "</div>"
      ],
      "text/plain": [
       "           \n",
       "0  14078568"
      ]
     },
     "execution_count": 35,
     "metadata": {},
     "output_type": "execute_result"
    }
   ],
   "source": [
    "# Patients with glucose/hba1c lab values\n",
    "\n",
    "glucose_tests_loinc = ('1558-6', '2339-0', '2345-7')\n",
    "a1c_tests_loinc = ('4548-4', '17856-6', '4549-2', '17855-8')\n",
    "lab_tests_loinc = glucose_tests_loinc + a1c_tests_loinc\n",
    "\n",
    "lab_values_query = (\"drop table if exists hy180.dbo.GlucoseLabs;\"\n",
    "                    \" select distinct MemberNum, LoincCode, TestResultValue, ServiceStartDate as date\"\n",
    "                    \" into hy180.dbo.GlucoseLabs\"\n",
    "                   f\" from ({default_enroll_window(['LoincCode', 'ServiceStartDate', 'TestResultValue'], 'ObservationLab', 'ServiceStartDate')}) as t\"\n",
    "                    \" where LoincCode in %s\" % str(lab_tests_loinc))\n",
    "cxn.execute(lab_values_query)\n",
    "\n",
    "pd.read_sql('select count(*) from GlucoseLabs', hy_cxn)"
   ]
  },
  {
   "cell_type": "code",
   "execution_count": 20,
   "metadata": {
    "ExecuteTime": {
     "end_time": "2019-08-02T17:12:35.111828Z",
     "start_time": "2019-08-02T17:12:02.519556Z"
    }
   },
   "outputs": [
    {
     "data": {
      "text/html": [
       "<div>\n",
       "<style scoped>\n",
       "    .dataframe tbody tr th:only-of-type {\n",
       "        vertical-align: middle;\n",
       "    }\n",
       "\n",
       "    .dataframe tbody tr th {\n",
       "        vertical-align: top;\n",
       "    }\n",
       "\n",
       "    .dataframe thead th {\n",
       "        text-align: right;\n",
       "    }\n",
       "</style>\n",
       "<table border=\"1\" class=\"dataframe\">\n",
       "  <thead>\n",
       "    <tr style=\"text-align: right;\">\n",
       "      <th></th>\n",
       "      <th></th>\n",
       "    </tr>\n",
       "  </thead>\n",
       "  <tbody>\n",
       "    <tr>\n",
       "      <th>0</th>\n",
       "      <td>28191372</td>\n",
       "    </tr>\n",
       "  </tbody>\n",
       "</table>\n",
       "</div>"
      ],
      "text/plain": [
       "           \n",
       "0  28191372"
      ]
     },
     "execution_count": 20,
     "metadata": {},
     "output_type": "execute_result"
    }
   ],
   "source": [
    "glucose_tests_cpt = ('82947', )\n",
    "glucose_panels_cpt = ('80047', '80048', '80053', '80069')\n",
    "a1c_tests_cpt = ('83036', )\n",
    "all_tests_cpt = glucose_tests_cpt + glucose_panels_cpt + a1c_tests_cpt\n",
    "\n",
    "lab_orders_query = (\"drop table if exists hy180.dbo.GlucoseLabsCPT\"\n",
    "                   \" select distinct MemberNum, DateServiceStarted as date, LineLevelProcedureCode as cpt\"\n",
    "                   \" into hy180.dbo.GlucoseLabsCPT\"\n",
    "                  f\" from ({default_enroll_window(['DateServiceStarted', 'LineLevelProcedureCode'], 'ObservationProcedure', 'DateServiceStarted')}) as t\"\n",
    "                   \" where LineLevelProcedureCode in %s\"\n",
    "                   % str(all_tests_cpt)\n",
    "                   )\n",
    "cxn.execute(lab_orders_query)\n",
    "\n",
    "pd.read_sql('select count(*) from GlucoseLabsCPT', hy_cxn)"
   ]
  },
  {
   "cell_type": "markdown",
   "metadata": {},
   "source": [
    "## Diagnosis"
   ]
  },
  {
   "cell_type": "code",
   "execution_count": 17,
   "metadata": {
    "ExecuteTime": {
     "end_time": "2019-08-02T17:09:53.515369Z",
     "start_time": "2019-08-02T17:09:28.052647Z"
    }
   },
   "outputs": [
    {
     "data": {
      "text/html": [
       "<div>\n",
       "<style scoped>\n",
       "    .dataframe tbody tr th:only-of-type {\n",
       "        vertical-align: middle;\n",
       "    }\n",
       "\n",
       "    .dataframe tbody tr th {\n",
       "        vertical-align: top;\n",
       "    }\n",
       "\n",
       "    .dataframe thead th {\n",
       "        text-align: right;\n",
       "    }\n",
       "</style>\n",
       "<table border=\"1\" class=\"dataframe\">\n",
       "  <thead>\n",
       "    <tr style=\"text-align: right;\">\n",
       "      <th></th>\n",
       "      <th></th>\n",
       "    </tr>\n",
       "  </thead>\n",
       "  <tbody>\n",
       "    <tr>\n",
       "      <th>0</th>\n",
       "      <td>18882212</td>\n",
       "    </tr>\n",
       "  </tbody>\n",
       "</table>\n",
       "</div>"
      ],
      "text/plain": [
       "           \n",
       "0  18882212"
      ]
     },
     "execution_count": 17,
     "metadata": {},
     "output_type": "execute_result"
    }
   ],
   "source": [
    "# Patients with diagnosis of diabetes\n",
    "\n",
    "dm_dx_icd = str(('790.21', '790.22', '790.2', '790.29', '791.5', '277.7', 'V18.0', 'V77.1'))\n",
    "dm_dx_icd_fuzzy = ' or '.join([\"DiagnosisCode like '%s'\" % s for s in ('250%', '648.8%', '648.0%')])\n",
    "\n",
    "# ICD for Family hx included here \n",
    "diabetes_dx_query = (\"drop table if exists hy180.dbo.DxDm;\"\n",
    "                    \" select distinct MemberNum, DiagnosisCode as diagCode, StartDate as date\"\n",
    "                    \" into hy180.dbo.DxDm\"\n",
    "                   f\" from ({default_enroll_window(['DiagnosisCode', 'StartDate'], 'ObservationDiagnosis', 'StartDate')}) as t\"\n",
    "                    \" where DiagnosisCode in %s\"\n",
    "                    \" or %s\" % (dm_dx_icd, dm_dx_icd_fuzzy))\n",
    "\n",
    "cxn.execute(diabetes_dx_query)\n",
    "pd.read_sql('select count(*) from DxDm', hy_cxn)"
   ]
  },
  {
   "cell_type": "code",
   "execution_count": 22,
   "metadata": {
    "ExecuteTime": {
     "end_time": "2019-07-30T21:16:07.841752Z",
     "start_time": "2019-07-30T21:16:00.381532Z"
    }
   },
   "outputs": [
    {
     "name": "stdout",
     "output_type": "stream",
     "text": [
      "          \n",
      "0  1622544\n",
      "           \n",
      "0  14497486\n"
     ]
    }
   ],
   "source": [
    "# Split into t1d and t2d tables\n",
    "t1dm_icd_fuzzy = \"diagCode like '250._1' or diagCode like '250._3'\"\n",
    "t2dm_icd_fuzzy = \"diagCode like '250.[0,2-9]0' or diagCode like '250.[0,2-9]2'\"\n",
    "\n",
    "t1dm_query = (\"drop table if exists hy180.dbo.DxT1dm;\"\n",
    "             \" select MemberNum, diagCode, date\"\n",
    "             \" into hy180.dbo.DxT1dm\"\n",
    "             \" from hy180.dbo.DxDm with (nolock)\"\n",
    "             \" where %s\" % t1dm_icd_fuzzy)\n",
    "t2dm_query = (\"drop table if exists hy180.dbo.DxT2dm;\"\n",
    "             \" select MemberNum, diagCode, date\"\n",
    "             \" into hy180.dbo.DxT2dm\"\n",
    "             \" from hy180.dbo.DxDm with (nolock)\"\n",
    "             \" where %s;\" % t2dm_icd_fuzzy)\n",
    "\n",
    "cxn.execute(';'.join([t1dm_query, t2dm_query]))\n",
    "print(pd.read_sql('select count(*) from DxT1dm', hy_cxn))\n",
    "print(pd.read_sql('select count(*) from DxT2dm', hy_cxn))"
   ]
  },
  {
   "cell_type": "markdown",
   "metadata": {},
   "source": [
    "## Meds"
   ]
  },
  {
   "cell_type": "code",
   "execution_count": 23,
   "metadata": {
    "ExecuteTime": {
     "end_time": "2019-07-30T21:16:07.869811Z",
     "start_time": "2019-07-30T21:16:07.853101Z"
    }
   },
   "outputs": [],
   "source": [
    "t1dm_rxnorm = (139825, 274783, 314684, 352385, 400008, 51428, 5856, 86009, 139953)\n",
    "t2dm_rxnorm = (173, 10633, 2404, 4821, 217360, 4815, 25789, 73044, 274332, 6809, 84108, 33738, 72610, 16681, 30009, 593411, 60548)\n",
    "dm_rxnorm = (126958, 412956, 412959, 637321, 668291, 668370, 686655, 692383, 748611, 880998, 881056, 751128, 847187, 847191, 847197, 847203, 847207, 847211, 847230, 847239, 847252, 847256, 847259, 847263, 847278, 847416, 847417, 806905, 806903, 408119)"
   ]
  },
  {
   "cell_type": "markdown",
   "metadata": {},
   "source": [
    "### Ingredient labeling"
   ]
  },
  {
   "cell_type": "code",
   "execution_count": 24,
   "metadata": {
    "ExecuteTime": {
     "end_time": "2019-07-30T21:16:09.160695Z",
     "start_time": "2019-07-30T21:16:07.873125Z"
    }
   },
   "outputs": [],
   "source": [
    "all_drugs = pd.read_sql('select NationalDrugCode,NdcDescription,NumberOfClaims from ConceptMedication', cxn, index_col='NationalDrugCode')\n",
    "all_drugs.to_csv('all_drugs.csv')"
   ]
  },
  {
   "cell_type": "code",
   "execution_count": 25,
   "metadata": {
    "ExecuteTime": {
     "end_time": "2019-07-30T21:16:09.182741Z",
     "start_time": "2019-07-30T21:16:09.162798Z"
    }
   },
   "outputs": [
    {
     "data": {
      "text/plain": [
       "<sqlalchemy.engine.result.ResultProxy at 0x7f7e5cea4dd0>"
      ]
     },
     "execution_count": 25,
     "metadata": {},
     "output_type": "execute_result"
    }
   ],
   "source": [
    "drug_ingredients_create_table = (\"drop table if exists RxIngredients;\"\n",
    "                                \" create table RxIngredients (\"\n",
    "                                \"  ndc bigint not null,\"\n",
    "                                \"  rxcui bigint,\"\n",
    "                                \"  ingredientRxcui bigint\"\n",
    "                                \" );\"\n",
    "                                \" create index indexByNdc on RxIngredients (ndc);\")\n",
    "hy_cxn.execute(drug_ingredients_create_table)"
   ]
  },
  {
   "cell_type": "code",
   "execution_count": 26,
   "metadata": {
    "ExecuteTime": {
     "end_time": "2019-07-30T21:16:20.543603Z",
     "start_time": "2019-07-30T21:16:09.186328Z"
    },
    "scrolled": true
   },
   "outputs": [
    {
     "data": {
      "application/vnd.jupyter.widget-view+json": {
       "model_id": "38e89613d81142a3991ca793238e0846",
       "version_major": 2,
       "version_minor": 0
      },
      "text/plain": [
       "HBox(children=(IntProgress(value=0, max=89), HTML(value='')))"
      ]
     },
     "metadata": {},
     "output_type": "display_data"
    },
    {
     "name": "stdout",
     "output_type": "stream",
     "text": [
      "\n"
     ]
    }
   ],
   "source": [
    "# Ingredient fetching happens in an external script\n",
    "drug_ingredients = pd.read_csv('drug_ingredients.csv', usecols=['ndc', 'rxcui', 'ingredient_rxcui'], dtype=np.int_)\n",
    "\n",
    "rows = [str(tuple(l)) for l in drug_ingredients.values]\n",
    "i = 0\n",
    "for i in tqdm_notebook(range(len(rows)//1000 + 1)):\n",
    "    insert_sql = (\"insert into RxIngredients (ndc, rxcui, ingredientRxcui) values %s;\" % ','.join(rows[1000*i:1000*(i+1)]))\n",
    "    hy_cxn.execute(insert_sql)\n"
   ]
  },
  {
   "cell_type": "markdown",
   "metadata": {},
   "source": [
    "### Insulin supplies\n",
    "\n",
    "DM med supplies listed in emerge algorithm are not ingredient-level, but SCDs, so we need explicitly find related NDCs"
   ]
  },
  {
   "cell_type": "code",
   "execution_count": null,
   "metadata": {
    "ExecuteTime": {
     "end_time": "2019-07-30T23:25:10.025885Z",
     "start_time": "2019-07-30T23:25:09.454818Z"
    }
   },
   "outputs": [],
   "source": [
    "# Get NDCs relating to DM med supplies list\n",
    "BASE_URL = \"https://rxnav.nlm.nih.gov/REST\"\n",
    "\n",
    "explore_queue = list(dm_rxnorm)\n",
    "all_rxcuis = set(dm_rxnorm)\n",
    "insulin_ndcs = []\n",
    "\n",
    "for rxcui in explore_queue:\n",
    "    print(rxcui)\n",
    "    # Get related RxCUIs \n",
    "    resp = requests.get(BASE_URL + '/rxcui/%s/allrelated' % rxcui)\n",
    "    root = ET.fromstring(resp.text)\n",
    "    related_rxcui = list(chain.from_iterable([[n.text for n in root.findall(\"./allRelatedGroup/conceptGroup/[tty='%s']/conceptProperties/rxcui\" % tty)] for tty in ['SCD', 'GPCK', 'SBD', 'BPCK']]))\n",
    "    explore_queue.extend(set(related_rxcui).difference(all_rxcuis))\n",
    "    all_rxcuis = all_rxcuis.union(related_rxcui)\n",
    "    \n",
    "    # Get NDCs for RxCUI\n",
    "    resp = requests.get(BASE_URL + '/rxcui/%s/allhistoricalndcs' % rxcui)\n",
    "    root = ET.fromstring(resp.text)\n",
    "    insulin_ndcs += [int(n.text) for n in root.findall(\"./historicalNdcConcept/historicalNdcTime/ndcTime/ndc\")]\n",
    "    \n",
    "with open('insulin_ndcs', 'w') as f:\n",
    "    for ndc in insulin_ndcs:\n",
    "        f.write('%d\\n' % ndc)"
   ]
  },
  {
   "cell_type": "code",
   "execution_count": 38,
   "metadata": {
    "ExecuteTime": {
     "end_time": "2019-07-30T23:27:35.201171Z",
     "start_time": "2019-07-30T23:27:35.176726Z"
    }
   },
   "outputs": [],
   "source": [
    "with open('insulin_ndcs') as f:\n",
    "    insulin_ndcs = [int(l) for l in f.readlines()]"
   ]
  },
  {
   "cell_type": "markdown",
   "metadata": {},
   "source": [
    "### Validation of ingredient labeling"
   ]
  },
  {
   "cell_type": "code",
   "execution_count": 28,
   "metadata": {
    "ExecuteTime": {
     "end_time": "2019-07-30T21:17:22.349374Z",
     "start_time": "2019-07-30T21:17:22.314198Z"
    },
    "scrolled": true
   },
   "outputs": [
    {
     "data": {
      "text/plain": [
       "0.9846076596542334"
      ]
     },
     "execution_count": 28,
     "metadata": {},
     "output_type": "execute_result"
    }
   ],
   "source": [
    "# Claims coverage \n",
    "all_drugs.loc[drug_ingredients.ndc.unique()].NumberOfClaims.sum() / all_drugs.NumberOfClaims.sum()"
   ]
  },
  {
   "cell_type": "code",
   "execution_count": 29,
   "metadata": {
    "ExecuteTime": {
     "end_time": "2019-07-30T21:17:22.367802Z",
     "start_time": "2019-07-30T21:17:22.352014Z"
    }
   },
   "outputs": [
    {
     "data": {
      "text/plain": [
       "2354"
      ]
     },
     "execution_count": 29,
     "metadata": {},
     "output_type": "execute_result"
    }
   ],
   "source": [
    "# Count DM-related drugs discovered\n",
    "drug_ingredients[drug_ingredients.ingredient_rxcui.isin(t1dm_rxnorm) | drug_ingredients.ingredient_rxcui.isin(t2dm_rxnorm) | drug_ingredients.ingredient_rxcui.isin(dm_rxnorm)].shape[0]"
   ]
  },
  {
   "cell_type": "markdown",
   "metadata": {},
   "source": [
    "## Patients on DM meds"
   ]
  },
  {
   "cell_type": "code",
   "execution_count": 39,
   "metadata": {
    "ExecuteTime": {
     "end_time": "2019-07-30T23:27:40.501851Z",
     "start_time": "2019-07-30T23:27:37.098686Z"
    }
   },
   "outputs": [
    {
     "data": {
      "text/html": [
       "<div>\n",
       "<style scoped>\n",
       "    .dataframe tbody tr th:only-of-type {\n",
       "        vertical-align: middle;\n",
       "    }\n",
       "\n",
       "    .dataframe tbody tr th {\n",
       "        vertical-align: top;\n",
       "    }\n",
       "\n",
       "    .dataframe thead th {\n",
       "        text-align: right;\n",
       "    }\n",
       "</style>\n",
       "<table border=\"1\" class=\"dataframe\">\n",
       "  <thead>\n",
       "    <tr style=\"text-align: right;\">\n",
       "      <th></th>\n",
       "      <th></th>\n",
       "    </tr>\n",
       "  </thead>\n",
       "  <tbody>\n",
       "    <tr>\n",
       "      <th>0</th>\n",
       "      <td>642502</td>\n",
       "    </tr>\n",
       "  </tbody>\n",
       "</table>\n",
       "</div>"
      ],
      "text/plain": [
       "         \n",
       "0  642502"
      ]
     },
     "execution_count": 39,
     "metadata": {},
     "output_type": "execute_result"
    }
   ],
   "source": [
    "insulin_med_temp_query = (\"drop table if exists #InsulinMeds;\"\n",
    "                          \" select ingredientRxcui, ndc\"\n",
    "                          \" into #InsulinMeds\"\n",
    "                          \" from RxIngredients\"\n",
    "                          \" where ndc in %s\" % str(tuple(insulin_ndcs)))\n",
    "insulin_rx_query = (\"drop table if exists RxInsulin\"\n",
    "                    \" select distinct t1.MemberNum, t2.ndc, t2.ingredientRxcui, t1.DispenseDate\"\n",
    "                    \" into RxInsulin\"\n",
    "                   f\" from ({default_enroll_window(['NationalDrugCode', 'DispenseDate'], 'gmw3.dbo.ObservationMedication', 'DispenseDate')}) as t1\"\n",
    "                    \" inner join #InsulinMeds as t2\"\n",
    "                    \" on t1.NationalDrugCode=t2.ndc\")\n",
    "\n",
    "hy_cxn.execute(';'.join([insulin_med_temp_query, insulin_rx_query]))\n",
    "pd.read_sql('select count(*) from RxInsulin', hy_cxn)"
   ]
  },
  {
   "cell_type": "code",
   "execution_count": 31,
   "metadata": {
    "ExecuteTime": {
     "end_time": "2019-07-30T21:17:39.536693Z",
     "start_time": "2019-07-30T21:17:32.699756Z"
    }
   },
   "outputs": [
    {
     "data": {
      "text/html": [
       "<div>\n",
       "<style scoped>\n",
       "    .dataframe tbody tr th:only-of-type {\n",
       "        vertical-align: middle;\n",
       "    }\n",
       "\n",
       "    .dataframe tbody tr th {\n",
       "        vertical-align: top;\n",
       "    }\n",
       "\n",
       "    .dataframe thead th {\n",
       "        text-align: right;\n",
       "    }\n",
       "</style>\n",
       "<table border=\"1\" class=\"dataframe\">\n",
       "  <thead>\n",
       "    <tr style=\"text-align: right;\">\n",
       "      <th></th>\n",
       "      <th></th>\n",
       "    </tr>\n",
       "  </thead>\n",
       "  <tbody>\n",
       "    <tr>\n",
       "      <th>0</th>\n",
       "      <td>1608401</td>\n",
       "    </tr>\n",
       "  </tbody>\n",
       "</table>\n",
       "</div>"
      ],
      "text/plain": [
       "          \n",
       "0  1608401"
      ]
     },
     "execution_count": 31,
     "metadata": {},
     "output_type": "execute_result"
    }
   ],
   "source": [
    "t1dm_med_temp_query = (\"drop table if exists #T1DmMeds;\"\n",
    "                    \" select ingredientRxcui, ndc\"\n",
    "                    \" into #T1DmMeds\"\n",
    "                    \" from RxIngredients\"\n",
    "                    \" where ingredientRxcui in %s\" % str(t1dm_rxnorm))\n",
    "t1dm_rx_query = (\"drop table if exists RxT1Dm\"\n",
    "              \" select distinct t1.MemberNum, t2.ndc, t2.ingredientRxcui, t1.DispenseDate\"\n",
    "              \" into RxT1Dm\"\n",
    "             f\" from ({default_enroll_window(['NationalDrugCode', 'DispenseDate'], 'gmw3.dbo.ObservationMedication', 'DispenseDate')}) as t1\"\n",
    "              \" inner join #T1DmMeds as t2\"\n",
    "              \" on t1.NationalDrugCode=t2.ndc\")\n",
    "\n",
    "hy_cxn.execute(';'.join([t1dm_med_temp_query, t1dm_rx_query]))\n",
    "pd.read_sql('select count(*) from RxT1Dm', hy_cxn)"
   ]
  },
  {
   "cell_type": "code",
   "execution_count": 32,
   "metadata": {
    "ExecuteTime": {
     "end_time": "2019-07-30T21:17:49.095855Z",
     "start_time": "2019-07-30T21:17:39.541306Z"
    }
   },
   "outputs": [
    {
     "data": {
      "text/html": [
       "<div>\n",
       "<style scoped>\n",
       "    .dataframe tbody tr th:only-of-type {\n",
       "        vertical-align: middle;\n",
       "    }\n",
       "\n",
       "    .dataframe tbody tr th {\n",
       "        vertical-align: top;\n",
       "    }\n",
       "\n",
       "    .dataframe thead th {\n",
       "        text-align: right;\n",
       "    }\n",
       "</style>\n",
       "<table border=\"1\" class=\"dataframe\">\n",
       "  <thead>\n",
       "    <tr style=\"text-align: right;\">\n",
       "      <th></th>\n",
       "      <th></th>\n",
       "    </tr>\n",
       "  </thead>\n",
       "  <tbody>\n",
       "    <tr>\n",
       "      <th>0</th>\n",
       "      <td>7460516</td>\n",
       "    </tr>\n",
       "  </tbody>\n",
       "</table>\n",
       "</div>"
      ],
      "text/plain": [
       "          \n",
       "0  7460516"
      ]
     },
     "execution_count": 32,
     "metadata": {},
     "output_type": "execute_result"
    }
   ],
   "source": [
    "t2dm_med_temp_query = (\"drop table if exists #T2DmMeds;\"\n",
    "                    \" select ingredientRxcui, ndc\"\n",
    "                    \" into #T2DmMeds\"\n",
    "                    \" from RxIngredients\"\n",
    "                    \" where ingredientRxcui in %s\" % str(t2dm_rxnorm))\n",
    "t2dm_rx_query = (\"drop table if exists RxT2dm;\"\n",
    "              \" select distinct t1.MemberNum, t2.ndc, t2.ingredientRxcui, t1.DispenseDate\"\n",
    "              \" into RxT2dm\"\n",
    "             f\" from ({default_enroll_window(['NationalDrugCode', 'DispenseDate'], 'gmw3.dbo.ObservationMedication', 'DispenseDate')}) as t1\"\n",
    "              \" inner join #T2DmMeds as t2\"\n",
    "              \" on t1.NationalDrugCode=t2.ndc\")\n",
    "\n",
    "hy_cxn.execute(';'.join([t2dm_med_temp_query, t2dm_rx_query]))\n",
    "pd.read_sql('select count(*) from RxT2dm', hy_cxn)"
   ]
  },
  {
   "cell_type": "code",
   "execution_count": 33,
   "metadata": {
    "ExecuteTime": {
     "end_time": "2019-07-30T21:17:55.045018Z",
     "start_time": "2019-07-30T21:17:49.108303Z"
    },
    "scrolled": true
   },
   "outputs": [
    {
     "data": {
      "text/html": [
       "<div>\n",
       "<style scoped>\n",
       "    .dataframe tbody tr th:only-of-type {\n",
       "        vertical-align: middle;\n",
       "    }\n",
       "\n",
       "    .dataframe tbody tr th {\n",
       "        vertical-align: top;\n",
       "    }\n",
       "\n",
       "    .dataframe thead th {\n",
       "        text-align: right;\n",
       "    }\n",
       "</style>\n",
       "<table border=\"1\" class=\"dataframe\">\n",
       "  <thead>\n",
       "    <tr style=\"text-align: right;\">\n",
       "      <th></th>\n",
       "      <th></th>\n",
       "    </tr>\n",
       "  </thead>\n",
       "  <tbody>\n",
       "    <tr>\n",
       "      <th>0</th>\n",
       "      <td>9082635</td>\n",
       "    </tr>\n",
       "  </tbody>\n",
       "</table>\n",
       "</div>"
      ],
      "text/plain": [
       "          \n",
       "0  9082635"
      ]
     },
     "execution_count": 33,
     "metadata": {},
     "output_type": "execute_result"
    }
   ],
   "source": [
    "dm_rx_query = (\"drop table if exists RxDm;\"\n",
    "              \" select *\"\n",
    "              \" into RxDm\"\n",
    "              \" from (select * from RxT2dm union select * from RxInsulin union select * from RxT1dm) as t1\")\n",
    "hy_cxn.execute(dm_rx_query)\n",
    "pd.read_sql('select count(*) from RxDm', hy_cxn)"
   ]
  },
  {
   "cell_type": "markdown",
   "metadata": {},
   "source": [
    "# Helper tables for depression"
   ]
  },
  {
   "cell_type": "code",
   "execution_count": 34,
   "metadata": {
    "ExecuteTime": {
     "end_time": "2019-07-30T21:18:00.680185Z",
     "start_time": "2019-07-30T21:17:55.057400Z"
    }
   },
   "outputs": [
    {
     "data": {
      "text/html": [
       "<div>\n",
       "<style scoped>\n",
       "    .dataframe tbody tr th:only-of-type {\n",
       "        vertical-align: middle;\n",
       "    }\n",
       "\n",
       "    .dataframe tbody tr th {\n",
       "        vertical-align: top;\n",
       "    }\n",
       "\n",
       "    .dataframe thead th {\n",
       "        text-align: right;\n",
       "    }\n",
       "</style>\n",
       "<table border=\"1\" class=\"dataframe\">\n",
       "  <thead>\n",
       "    <tr style=\"text-align: right;\">\n",
       "      <th></th>\n",
       "      <th></th>\n",
       "    </tr>\n",
       "  </thead>\n",
       "  <tbody>\n",
       "    <tr>\n",
       "      <th>0</th>\n",
       "      <td>7734339</td>\n",
       "    </tr>\n",
       "  </tbody>\n",
       "</table>\n",
       "</div>"
      ],
      "text/plain": [
       "          \n",
       "0  7734339"
      ]
     },
     "execution_count": 34,
     "metadata": {},
     "output_type": "execute_result"
    }
   ],
   "source": [
    "depression_icds = ('293.83', '296.20', '296.21', '296.22', '296.23', '296.24', '296.25', '296.26', '296.30', '296.31', '296.32', '296.33', '296.34', '296.35', '296.36', '300.4', '311')\n",
    "\n",
    "# Get gaps between depression claims \n",
    "depression_dx_query = (\"drop table if exists hy180.dbo.dxDepression;\"\n",
    "                       \" select distinct MemberNum, DiagnosisCode as diagCode, StartDate as date\"\n",
    "                       \" into hy180.dbo.dxDepression\"\n",
    "                      f\" from ({default_enroll_window(['DiagnosisCode', 'StartDate'], 'ObservationDiagnosis', 'StartDate')}) as t\"\n",
    "                      f\" where DiagnosisCode in {str(depression_icds)}\")\n",
    "\n",
    "cxn.execute(depression_dx_query)\n",
    "pd.read_sql('select count(*) from dxDepression', hy_cxn)"
   ]
  }
 ],
 "metadata": {
  "kernelspec": {
   "display_name": "Python 3",
   "language": "python",
   "name": "python3"
  },
  "language_info": {
   "codemirror_mode": {
    "name": "ipython",
    "version": 3
   },
   "file_extension": ".py",
   "mimetype": "text/x-python",
   "name": "python",
   "nbconvert_exporter": "python",
   "pygments_lexer": "ipython3",
   "version": "3.7.4"
  },
  "toc": {
   "base_numbering": 1,
   "nav_menu": {},
   "number_sections": true,
   "sideBar": true,
   "skip_h1_title": false,
   "title_cell": "Table of Contents",
   "title_sidebar": "Contents",
   "toc_cell": false,
   "toc_position": {
    "height": "757px",
    "left": "521px",
    "top": "137px",
    "width": "383.188px"
   },
   "toc_section_display": true,
   "toc_window_display": true
  }
 },
 "nbformat": 4,
 "nbformat_minor": 2
}
